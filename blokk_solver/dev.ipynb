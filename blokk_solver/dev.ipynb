{
 "cells": [
  {
   "cell_type": "markdown",
   "id": "69a5c370",
   "metadata": {},
   "source": [
    "# Plotting"
   ]
  },
  {
   "cell_type": "code",
   "execution_count": 1,
   "id": "8a992577",
   "metadata": {},
   "outputs": [
    {
     "data": {
      "text/html": [
       "<div>\n",
       "<style scoped>\n",
       "    .dataframe tbody tr th:only-of-type {\n",
       "        vertical-align: middle;\n",
       "    }\n",
       "\n",
       "    .dataframe tbody tr th {\n",
       "        vertical-align: top;\n",
       "    }\n",
       "\n",
       "    .dataframe thead th {\n",
       "        text-align: right;\n",
       "    }\n",
       "</style>\n",
       "<table border=\"1\" class=\"dataframe\">\n",
       "  <thead>\n",
       "    <tr style=\"text-align: right;\">\n",
       "      <th></th>\n",
       "      <th>id</th>\n",
       "      <th>name</th>\n",
       "      <th>color</th>\n",
       "      <th>volume</th>\n",
       "      <th>shape</th>\n",
       "      <th>max_length</th>\n",
       "    </tr>\n",
       "  </thead>\n",
       "  <tbody>\n",
       "    <tr>\n",
       "      <th>0</th>\n",
       "      <td>1</td>\n",
       "      <td>Block 01</td>\n",
       "      <td>rgb(239, 139, 27)</td>\n",
       "      <td>1</td>\n",
       "      <td>[[0, 0, 0]]</td>\n",
       "      <td>1</td>\n",
       "    </tr>\n",
       "    <tr>\n",
       "      <th>1</th>\n",
       "      <td>2</td>\n",
       "      <td>Block 02</td>\n",
       "      <td>rgb(106, 194, 84)</td>\n",
       "      <td>2</td>\n",
       "      <td>[[0, 0, 0], [1, 0, 0]]</td>\n",
       "      <td>2</td>\n",
       "    </tr>\n",
       "    <tr>\n",
       "      <th>2</th>\n",
       "      <td>3</td>\n",
       "      <td>Block 03</td>\n",
       "      <td>rgb(244, 195, 203)</td>\n",
       "      <td>3</td>\n",
       "      <td>[[0, 0, 0], [1, 0, 0], [2, 0, 0]]</td>\n",
       "      <td>3</td>\n",
       "    </tr>\n",
       "    <tr>\n",
       "      <th>3</th>\n",
       "      <td>4</td>\n",
       "      <td>Block 04</td>\n",
       "      <td>rgb(252, 221, 80)</td>\n",
       "      <td>3</td>\n",
       "      <td>[[0, 0, 0], [0, 1, 0], [0, 2, 0]]</td>\n",
       "      <td>3</td>\n",
       "    </tr>\n",
       "    <tr>\n",
       "      <th>4</th>\n",
       "      <td>5</td>\n",
       "      <td>Block 05</td>\n",
       "      <td>purple-blue</td>\n",
       "      <td>4</td>\n",
       "      <td>[[0, 0, 0], [1, 0, 0], [1, 1, 0], [2, 1, 0]]</td>\n",
       "      <td>3</td>\n",
       "    </tr>\n",
       "    <tr>\n",
       "      <th>5</th>\n",
       "      <td>6</td>\n",
       "      <td>Block 06</td>\n",
       "      <td>rgb(239, 139, 27)</td>\n",
       "      <td>4</td>\n",
       "      <td>[[0, 0, 0], [1, 0, 0], [1, 1, 0], [1, 2, 0]]</td>\n",
       "      <td>3</td>\n",
       "    </tr>\n",
       "    <tr>\n",
       "      <th>6</th>\n",
       "      <td>7</td>\n",
       "      <td>Block 07</td>\n",
       "      <td>rgb(239, 139, 27)</td>\n",
       "      <td>4</td>\n",
       "      <td>[[0, 0, 0], [0, 1, 0], [1, 1, 0], [1, 2, 0]]</td>\n",
       "      <td>3</td>\n",
       "    </tr>\n",
       "    <tr>\n",
       "      <th>7</th>\n",
       "      <td>8</td>\n",
       "      <td>Block 08</td>\n",
       "      <td>rgb(239, 139, 27)</td>\n",
       "      <td>4</td>\n",
       "      <td>[[0, 0, 0], [0, 1, 0], [0, 2, 0], [1, 0, 0]]</td>\n",
       "      <td>3</td>\n",
       "    </tr>\n",
       "    <tr>\n",
       "      <th>8</th>\n",
       "      <td>9</td>\n",
       "      <td>Block 09</td>\n",
       "      <td>rgb(252, 221, 80)</td>\n",
       "      <td>4</td>\n",
       "      <td>[[0, 0, 0], [1, 0, 0], [2, 0, 0], [2, 1, 0]]</td>\n",
       "      <td>3</td>\n",
       "    </tr>\n",
       "    <tr>\n",
       "      <th>9</th>\n",
       "      <td>10</td>\n",
       "      <td>Block 10</td>\n",
       "      <td>rgb(244, 195, 203)</td>\n",
       "      <td>4</td>\n",
       "      <td>[[0, 0, 0], [0, 1, 0], [0, 2, 0], [1, 2, 0]]</td>\n",
       "      <td>3</td>\n",
       "    </tr>\n",
       "    <tr>\n",
       "      <th>10</th>\n",
       "      <td>11</td>\n",
       "      <td>Block 11</td>\n",
       "      <td>rgb(239, 139, 27)</td>\n",
       "      <td>4</td>\n",
       "      <td>[[0, 0, 0], [1, 0, 0], [1, 1, 0], [2, 0, 0]]</td>\n",
       "      <td>3</td>\n",
       "    </tr>\n",
       "    <tr>\n",
       "      <th>11</th>\n",
       "      <td>12</td>\n",
       "      <td>Block 12</td>\n",
       "      <td>rgb(106, 194, 84)</td>\n",
       "      <td>5</td>\n",
       "      <td>[[0, 0, 0], [1, 0, 0], [2, 0, 0], [2, 1, 0], [...</td>\n",
       "      <td>3</td>\n",
       "    </tr>\n",
       "    <tr>\n",
       "      <th>12</th>\n",
       "      <td>13</td>\n",
       "      <td>Block 13</td>\n",
       "      <td>rgb(252, 221, 80)</td>\n",
       "      <td>5</td>\n",
       "      <td>[[0, 0, 0], [1, 0, 0], [2, 0, 0], [2, 1, 0], [...</td>\n",
       "      <td>4</td>\n",
       "    </tr>\n",
       "    <tr>\n",
       "      <th>13</th>\n",
       "      <td>14</td>\n",
       "      <td>Block 14</td>\n",
       "      <td>rgb(239, 139, 27)</td>\n",
       "      <td>5</td>\n",
       "      <td>[[0, 0, 0], [1, 0, 0], [2, 0, 0], [1, 1, 0], [...</td>\n",
       "      <td>3</td>\n",
       "    </tr>\n",
       "    <tr>\n",
       "      <th>14</th>\n",
       "      <td>15</td>\n",
       "      <td>Block 15</td>\n",
       "      <td>rgb(252, 221, 80)</td>\n",
       "      <td>5</td>\n",
       "      <td>[[0, 0, 0], [1, 0, 0], [1, 1, 0], [1, 2, 0], [...</td>\n",
       "      <td>3</td>\n",
       "    </tr>\n",
       "    <tr>\n",
       "      <th>15</th>\n",
       "      <td>16</td>\n",
       "      <td>Block 16</td>\n",
       "      <td>rgb(106, 194, 84)</td>\n",
       "      <td>5</td>\n",
       "      <td>[[0, 0, 0], [0, 1, 0], [1, 1, 0], [1, 2, 0], [...</td>\n",
       "      <td>3</td>\n",
       "    </tr>\n",
       "    <tr>\n",
       "      <th>16</th>\n",
       "      <td>17</td>\n",
       "      <td>Block 17</td>\n",
       "      <td>rgb(106, 194, 84)</td>\n",
       "      <td>5</td>\n",
       "      <td>[[0, 0, 0], [0, 1, 0], [0, 2, 0], [1, 2, 0], [...</td>\n",
       "      <td>3</td>\n",
       "    </tr>\n",
       "    <tr>\n",
       "      <th>17</th>\n",
       "      <td>18</td>\n",
       "      <td>Block 18</td>\n",
       "      <td>rgb(244, 195, 203)</td>\n",
       "      <td>5</td>\n",
       "      <td>[[0, 0, 0], [0, 1, 0], [0, 2, 0], [1, 1, 0], [...</td>\n",
       "      <td>3</td>\n",
       "    </tr>\n",
       "    <tr>\n",
       "      <th>18</th>\n",
       "      <td>19</td>\n",
       "      <td>Block 19</td>\n",
       "      <td>rgb(244, 195, 203)</td>\n",
       "      <td>5</td>\n",
       "      <td>[[0, 0, 0], [0, 1, 0], [0, 2, 0], [1, 0, 0], [...</td>\n",
       "      <td>3</td>\n",
       "    </tr>\n",
       "    <tr>\n",
       "      <th>19</th>\n",
       "      <td>20</td>\n",
       "      <td>Block 20</td>\n",
       "      <td>rgb(106, 194, 84)</td>\n",
       "      <td>5</td>\n",
       "      <td>[[0, 0, 0], [1, 0, 0], [1, 1, 0], [1, 2, 0], [...</td>\n",
       "      <td>3</td>\n",
       "    </tr>\n",
       "    <tr>\n",
       "      <th>20</th>\n",
       "      <td>21</td>\n",
       "      <td>Block 21</td>\n",
       "      <td>rgb(106, 194, 84)</td>\n",
       "      <td>5</td>\n",
       "      <td>[[0, 0, 0], [1, 0, 0], [2, 0, 0], [2, 1, 0], [...</td>\n",
       "      <td>3</td>\n",
       "    </tr>\n",
       "    <tr>\n",
       "      <th>21</th>\n",
       "      <td>22</td>\n",
       "      <td>Block 22</td>\n",
       "      <td>rgb(252, 221, 80)</td>\n",
       "      <td>5</td>\n",
       "      <td>[[0, 0, 0], [0, 1, 0], [1, 1, 0], [1, 2, 0], [...</td>\n",
       "      <td>3</td>\n",
       "    </tr>\n",
       "    <tr>\n",
       "      <th>22</th>\n",
       "      <td>23</td>\n",
       "      <td>Block 23</td>\n",
       "      <td>rgb(239, 139, 27)</td>\n",
       "      <td>5</td>\n",
       "      <td>[[0, 0, 0], [1, 0, 0], [2, 0, 0], [1, 1, 0], [...</td>\n",
       "      <td>3</td>\n",
       "    </tr>\n",
       "    <tr>\n",
       "      <th>23</th>\n",
       "      <td>24</td>\n",
       "      <td>Block 24</td>\n",
       "      <td>rgb(252, 221, 80)</td>\n",
       "      <td>5</td>\n",
       "      <td>[[0, 0, 0], [0, 1, 0], [0, 2, 0], [1, 1, 0], [...</td>\n",
       "      <td>3</td>\n",
       "    </tr>\n",
       "    <tr>\n",
       "      <th>24</th>\n",
       "      <td>25</td>\n",
       "      <td>Block 25</td>\n",
       "      <td>rgb(244, 195, 203)</td>\n",
       "      <td>5</td>\n",
       "      <td>[[0, 0, 0], [1, 0, 0], [1, 1, 0], [1, 2, 0], [...</td>\n",
       "      <td>3</td>\n",
       "    </tr>\n",
       "    <tr>\n",
       "      <th>25</th>\n",
       "      <td>26</td>\n",
       "      <td>Block 26</td>\n",
       "      <td>rgb(244, 195, 203)</td>\n",
       "      <td>5</td>\n",
       "      <td>[[0, 0, 0], [0, 1, 0], [1, 1, 0], [2, 1, 0], [...</td>\n",
       "      <td>3</td>\n",
       "    </tr>\n",
       "    <tr>\n",
       "      <th>26</th>\n",
       "      <td>27</td>\n",
       "      <td>Block 27</td>\n",
       "      <td>rgb(87, 194, 230)</td>\n",
       "      <td>5</td>\n",
       "      <td>[[0, 0, 0], [1, 0, 0], [2, 0, 0], [2, 1, 0], [...</td>\n",
       "      <td>4</td>\n",
       "    </tr>\n",
       "    <tr>\n",
       "      <th>27</th>\n",
       "      <td>28</td>\n",
       "      <td>Block 28</td>\n",
       "      <td>rgb(167, 99, 137)</td>\n",
       "      <td>5</td>\n",
       "      <td>[[0, 0, 0], [0, 1, 0], [1, 1, 0], [2, 1, 0], [...</td>\n",
       "      <td>3</td>\n",
       "    </tr>\n",
       "    <tr>\n",
       "      <th>28</th>\n",
       "      <td>29</td>\n",
       "      <td>Block 29</td>\n",
       "      <td>rgb(87, 194, 230)</td>\n",
       "      <td>5</td>\n",
       "      <td>[[0, 0, 0], [1, 0, 0], [1, 1, 0], [2, 1, 0], [...</td>\n",
       "      <td>3</td>\n",
       "    </tr>\n",
       "    <tr>\n",
       "      <th>29</th>\n",
       "      <td>30</td>\n",
       "      <td>Block 30</td>\n",
       "      <td>rgb(167, 99, 137)</td>\n",
       "      <td>5</td>\n",
       "      <td>[[0, 0, 0], [1, 0, 0], [2, 0, 0], [1, 1, 0], [...</td>\n",
       "      <td>3</td>\n",
       "    </tr>\n",
       "    <tr>\n",
       "      <th>30</th>\n",
       "      <td>31</td>\n",
       "      <td>Block 31</td>\n",
       "      <td>rgb(87, 194, 230)</td>\n",
       "      <td>5</td>\n",
       "      <td>[[0, 0, 0], [0, 1, 0], [1, 1, 0], [1, 2, 0], [...</td>\n",
       "      <td>3</td>\n",
       "    </tr>\n",
       "    <tr>\n",
       "      <th>31</th>\n",
       "      <td>32</td>\n",
       "      <td>Block 32</td>\n",
       "      <td>rgb(167, 99, 137)</td>\n",
       "      <td>5</td>\n",
       "      <td>[[0, 0, 0], [1, 0, 0], [1, 1, 0], [2, 1, 0], [...</td>\n",
       "      <td>3</td>\n",
       "    </tr>\n",
       "    <tr>\n",
       "      <th>32</th>\n",
       "      <td>33</td>\n",
       "      <td>Block 33</td>\n",
       "      <td>rgb(87, 194, 230)</td>\n",
       "      <td>5</td>\n",
       "      <td>[[0, 0, 0], [1, 0, 0], [2, 0, 0], [2, 1, 0], [...</td>\n",
       "      <td>3</td>\n",
       "    </tr>\n",
       "    <tr>\n",
       "      <th>33</th>\n",
       "      <td>34</td>\n",
       "      <td>Block 34</td>\n",
       "      <td>rgb(167, 99, 137)</td>\n",
       "      <td>5</td>\n",
       "      <td>[[0, 0, 0], [1, 0, 0], [1, 1, 0], [2, 1, 0], [...</td>\n",
       "      <td>3</td>\n",
       "    </tr>\n",
       "    <tr>\n",
       "      <th>34</th>\n",
       "      <td>35</td>\n",
       "      <td>Block 35</td>\n",
       "      <td>rgb(87, 194, 230)</td>\n",
       "      <td>5</td>\n",
       "      <td>[[0, 0, 0], [0, 1, 0], [1, 1, 0], [2, 1, 0], [...</td>\n",
       "      <td>3</td>\n",
       "    </tr>\n",
       "    <tr>\n",
       "      <th>35</th>\n",
       "      <td>36</td>\n",
       "      <td>Block 36</td>\n",
       "      <td>rgb(167, 99, 137)</td>\n",
       "      <td>5</td>\n",
       "      <td>[[0, 0, 0], [0, 1, 0], [0, 2, 0], [1, 2, 0], [...</td>\n",
       "      <td>3</td>\n",
       "    </tr>\n",
       "  </tbody>\n",
       "</table>\n",
       "</div>"
      ],
      "text/plain": [
       "    id      name               color  volume  \\\n",
       "0    1  Block 01   rgb(239, 139, 27)       1   \n",
       "1    2  Block 02   rgb(106, 194, 84)       2   \n",
       "2    3  Block 03  rgb(244, 195, 203)       3   \n",
       "3    4  Block 04   rgb(252, 221, 80)       3   \n",
       "4    5  Block 05         purple-blue       4   \n",
       "5    6  Block 06   rgb(239, 139, 27)       4   \n",
       "6    7  Block 07   rgb(239, 139, 27)       4   \n",
       "7    8  Block 08   rgb(239, 139, 27)       4   \n",
       "8    9  Block 09   rgb(252, 221, 80)       4   \n",
       "9   10  Block 10  rgb(244, 195, 203)       4   \n",
       "10  11  Block 11   rgb(239, 139, 27)       4   \n",
       "11  12  Block 12   rgb(106, 194, 84)       5   \n",
       "12  13  Block 13   rgb(252, 221, 80)       5   \n",
       "13  14  Block 14   rgb(239, 139, 27)       5   \n",
       "14  15  Block 15   rgb(252, 221, 80)       5   \n",
       "15  16  Block 16   rgb(106, 194, 84)       5   \n",
       "16  17  Block 17   rgb(106, 194, 84)       5   \n",
       "17  18  Block 18  rgb(244, 195, 203)       5   \n",
       "18  19  Block 19  rgb(244, 195, 203)       5   \n",
       "19  20  Block 20   rgb(106, 194, 84)       5   \n",
       "20  21  Block 21   rgb(106, 194, 84)       5   \n",
       "21  22  Block 22   rgb(252, 221, 80)       5   \n",
       "22  23  Block 23   rgb(239, 139, 27)       5   \n",
       "23  24  Block 24   rgb(252, 221, 80)       5   \n",
       "24  25  Block 25  rgb(244, 195, 203)       5   \n",
       "25  26  Block 26  rgb(244, 195, 203)       5   \n",
       "26  27  Block 27   rgb(87, 194, 230)       5   \n",
       "27  28  Block 28   rgb(167, 99, 137)       5   \n",
       "28  29  Block 29   rgb(87, 194, 230)       5   \n",
       "29  30  Block 30   rgb(167, 99, 137)       5   \n",
       "30  31  Block 31   rgb(87, 194, 230)       5   \n",
       "31  32  Block 32   rgb(167, 99, 137)       5   \n",
       "32  33  Block 33   rgb(87, 194, 230)       5   \n",
       "33  34  Block 34   rgb(167, 99, 137)       5   \n",
       "34  35  Block 35   rgb(87, 194, 230)       5   \n",
       "35  36  Block 36   rgb(167, 99, 137)       5   \n",
       "\n",
       "                                                shape  max_length  \n",
       "0                                         [[0, 0, 0]]           1  \n",
       "1                              [[0, 0, 0], [1, 0, 0]]           2  \n",
       "2                   [[0, 0, 0], [1, 0, 0], [2, 0, 0]]           3  \n",
       "3                   [[0, 0, 0], [0, 1, 0], [0, 2, 0]]           3  \n",
       "4        [[0, 0, 0], [1, 0, 0], [1, 1, 0], [2, 1, 0]]           3  \n",
       "5        [[0, 0, 0], [1, 0, 0], [1, 1, 0], [1, 2, 0]]           3  \n",
       "6        [[0, 0, 0], [0, 1, 0], [1, 1, 0], [1, 2, 0]]           3  \n",
       "7        [[0, 0, 0], [0, 1, 0], [0, 2, 0], [1, 0, 0]]           3  \n",
       "8        [[0, 0, 0], [1, 0, 0], [2, 0, 0], [2, 1, 0]]           3  \n",
       "9        [[0, 0, 0], [0, 1, 0], [0, 2, 0], [1, 2, 0]]           3  \n",
       "10       [[0, 0, 0], [1, 0, 0], [1, 1, 0], [2, 0, 0]]           3  \n",
       "11  [[0, 0, 0], [1, 0, 0], [2, 0, 0], [2, 1, 0], [...           3  \n",
       "12  [[0, 0, 0], [1, 0, 0], [2, 0, 0], [2, 1, 0], [...           4  \n",
       "13  [[0, 0, 0], [1, 0, 0], [2, 0, 0], [1, 1, 0], [...           3  \n",
       "14  [[0, 0, 0], [1, 0, 0], [1, 1, 0], [1, 2, 0], [...           3  \n",
       "15  [[0, 0, 0], [0, 1, 0], [1, 1, 0], [1, 2, 0], [...           3  \n",
       "16  [[0, 0, 0], [0, 1, 0], [0, 2, 0], [1, 2, 0], [...           3  \n",
       "17  [[0, 0, 0], [0, 1, 0], [0, 2, 0], [1, 1, 0], [...           3  \n",
       "18  [[0, 0, 0], [0, 1, 0], [0, 2, 0], [1, 0, 0], [...           3  \n",
       "19  [[0, 0, 0], [1, 0, 0], [1, 1, 0], [1, 2, 0], [...           3  \n",
       "20  [[0, 0, 0], [1, 0, 0], [2, 0, 0], [2, 1, 0], [...           3  \n",
       "21  [[0, 0, 0], [0, 1, 0], [1, 1, 0], [1, 2, 0], [...           3  \n",
       "22  [[0, 0, 0], [1, 0, 0], [2, 0, 0], [1, 1, 0], [...           3  \n",
       "23  [[0, 0, 0], [0, 1, 0], [0, 2, 0], [1, 1, 0], [...           3  \n",
       "24  [[0, 0, 0], [1, 0, 0], [1, 1, 0], [1, 2, 0], [...           3  \n",
       "25  [[0, 0, 0], [0, 1, 0], [1, 1, 0], [2, 1, 0], [...           3  \n",
       "26  [[0, 0, 0], [1, 0, 0], [2, 0, 0], [2, 1, 0], [...           4  \n",
       "27  [[0, 0, 0], [0, 1, 0], [1, 1, 0], [2, 1, 0], [...           3  \n",
       "28  [[0, 0, 0], [1, 0, 0], [1, 1, 0], [2, 1, 0], [...           3  \n",
       "29  [[0, 0, 0], [1, 0, 0], [2, 0, 0], [1, 1, 0], [...           3  \n",
       "30  [[0, 0, 0], [0, 1, 0], [1, 1, 0], [1, 2, 0], [...           3  \n",
       "31  [[0, 0, 0], [1, 0, 0], [1, 1, 0], [2, 1, 0], [...           3  \n",
       "32  [[0, 0, 0], [1, 0, 0], [2, 0, 0], [2, 1, 0], [...           3  \n",
       "33  [[0, 0, 0], [1, 0, 0], [1, 1, 0], [2, 1, 0], [...           3  \n",
       "34  [[0, 0, 0], [0, 1, 0], [1, 1, 0], [2, 1, 0], [...           3  \n",
       "35  [[0, 0, 0], [0, 1, 0], [0, 2, 0], [1, 2, 0], [...           3  "
      ]
     },
     "execution_count": 1,
     "metadata": {},
     "output_type": "execute_result"
    }
   ],
   "source": [
    "from blokk_solver.blokks import blokks\n",
    "blokks"
   ]
  },
  {
   "cell_type": "markdown",
   "id": "ebecc417",
   "metadata": {},
   "source": [
    "# Visualizing"
   ]
  },
  {
   "cell_type": "code",
   "execution_count": 4,
   "id": "77825173",
   "metadata": {},
   "outputs": [],
   "source": [
    "from blokk_solver.combinatorics import generate_rotations, generate_translations\n",
    "from blokk_solver.plotting import plot_voxels\n",
    "import plotly.graph_objects as go\n",
    "\n",
    "import numpy as np"
   ]
  },
  {
   "cell_type": "code",
   "execution_count": 5,
   "id": "ce69999c",
   "metadata": {},
   "outputs": [
    {
     "name": "stdout",
     "output_type": "stream",
     "text": [
      "\n",
      "sample_shape = \n",
      "[[0 0 0]\n",
      " [0 1 0]]\n",
      "first rotation =\n",
      "[[0 0 0]\n",
      " [0 0 1]]\n",
      "first translation of first rotation =\n",
      "[[0 0 0]\n",
      " [0 0 1]]\n",
      "\n"
     ]
    },
    {
     "data": {
      "application/vnd.plotly.v1+json": {
       "config": {
        "plotlyServerURL": "https://plot.ly"
       },
       "data": [
        {
         "alphahull": 1,
         "color": "#636EFA",
         "opacity": 0.4,
         "showscale": false,
         "type": "mesh3d",
         "x": [
          0.03999999999999998,
          0.96,
          0.96,
          0.03999999999999998,
          0.03999999999999998,
          0.96,
          0.96,
          0.03999999999999998
         ],
         "y": [
          0.03999999999999998,
          0.03999999999999998,
          0.96,
          0.96,
          0.03999999999999998,
          0.03999999999999998,
          0.96,
          0.96
         ],
         "z": [
          0.03999999999999998,
          0.03999999999999998,
          0.03999999999999998,
          0.03999999999999998,
          0.96,
          0.96,
          0.96,
          0.96
         ]
        },
        {
         "alphahull": 1,
         "color": "#636EFA",
         "opacity": 0.4,
         "showscale": false,
         "type": "mesh3d",
         "x": [
          0.03999999999999998,
          0.96,
          0.96,
          0.03999999999999998,
          0.03999999999999998,
          0.96,
          0.96,
          0.03999999999999998
         ],
         "y": [
          0.03999999999999998,
          0.03999999999999998,
          0.96,
          0.96,
          0.03999999999999998,
          0.03999999999999998,
          0.96,
          0.96
         ],
         "z": [
          1.04,
          1.04,
          1.04,
          1.04,
          1.96,
          1.96,
          1.96,
          1.96
         ]
        },
        {
         "alphahull": 0,
         "color": "lightgray",
         "opacity": 0.1,
         "showscale": false,
         "type": "mesh3d",
         "x": [
          0,
          2,
          2,
          0,
          0,
          2,
          2,
          0
         ],
         "y": [
          0,
          0,
          2,
          2,
          0,
          0,
          2,
          2
         ],
         "z": [
          0,
          0,
          0,
          0,
          2,
          2,
          2,
          2
         ]
        },
        {
         "alphahull": 1,
         "color": "#EF553B",
         "opacity": 0.4,
         "showscale": false,
         "type": "mesh3d",
         "x": [
          0.03999999999999998,
          0.96,
          0.96,
          0.03999999999999998,
          0.03999999999999998,
          0.96,
          0.96,
          0.03999999999999998
         ],
         "y": [
          0.03999999999999998,
          0.03999999999999998,
          0.96,
          0.96,
          0.03999999999999998,
          0.03999999999999998,
          0.96,
          0.96
         ],
         "z": [
          0.03999999999999998,
          0.03999999999999998,
          0.03999999999999998,
          0.03999999999999998,
          0.96,
          0.96,
          0.96,
          0.96
         ]
        },
        {
         "alphahull": 1,
         "color": "#EF553B",
         "opacity": 0.4,
         "showscale": false,
         "type": "mesh3d",
         "x": [
          0.03999999999999998,
          0.96,
          0.96,
          0.03999999999999998,
          0.03999999999999998,
          0.96,
          0.96,
          0.03999999999999998
         ],
         "y": [
          1.04,
          1.04,
          1.96,
          1.96,
          1.04,
          1.04,
          1.96,
          1.96
         ],
         "z": [
          0.03999999999999998,
          0.03999999999999998,
          0.03999999999999998,
          0.03999999999999998,
          0.96,
          0.96,
          0.96,
          0.96
         ]
        },
        {
         "alphahull": 0,
         "color": "lightgray",
         "opacity": 0.1,
         "showscale": false,
         "type": "mesh3d",
         "x": [
          0,
          2,
          2,
          0,
          0,
          2,
          2,
          0
         ],
         "y": [
          0,
          0,
          2,
          2,
          0,
          0,
          2,
          2
         ],
         "z": [
          0,
          0,
          0,
          0,
          2,
          2,
          2,
          2
         ]
        }
       ],
       "layout": {
        "margin": {
         "b": 0,
         "l": 0,
         "r": 0,
         "t": 0
        },
        "scene": {
         "aspectratio": {
          "x": 1,
          "y": 1,
          "z": 1
         },
         "xaxis": {
          "range": [
           0,
           2
          ],
          "title": {
           "text": "X"
          }
         },
         "yaxis": {
          "range": [
           0,
           2
          ],
          "title": {
           "text": "Y"
          }
         },
         "zaxis": {
          "range": [
           0,
           2
          ],
          "title": {
           "text": "Z"
          }
         }
        },
        "template": {
         "data": {
          "bar": [
           {
            "error_x": {
             "color": "#2a3f5f"
            },
            "error_y": {
             "color": "#2a3f5f"
            },
            "marker": {
             "line": {
              "color": "#E5ECF6",
              "width": 0.5
             },
             "pattern": {
              "fillmode": "overlay",
              "size": 10,
              "solidity": 0.2
             }
            },
            "type": "bar"
           }
          ],
          "barpolar": [
           {
            "marker": {
             "line": {
              "color": "#E5ECF6",
              "width": 0.5
             },
             "pattern": {
              "fillmode": "overlay",
              "size": 10,
              "solidity": 0.2
             }
            },
            "type": "barpolar"
           }
          ],
          "carpet": [
           {
            "aaxis": {
             "endlinecolor": "#2a3f5f",
             "gridcolor": "white",
             "linecolor": "white",
             "minorgridcolor": "white",
             "startlinecolor": "#2a3f5f"
            },
            "baxis": {
             "endlinecolor": "#2a3f5f",
             "gridcolor": "white",
             "linecolor": "white",
             "minorgridcolor": "white",
             "startlinecolor": "#2a3f5f"
            },
            "type": "carpet"
           }
          ],
          "choropleth": [
           {
            "colorbar": {
             "outlinewidth": 0,
             "ticks": ""
            },
            "type": "choropleth"
           }
          ],
          "contour": [
           {
            "colorbar": {
             "outlinewidth": 0,
             "ticks": ""
            },
            "colorscale": [
             [
              0,
              "#0d0887"
             ],
             [
              0.1111111111111111,
              "#46039f"
             ],
             [
              0.2222222222222222,
              "#7201a8"
             ],
             [
              0.3333333333333333,
              "#9c179e"
             ],
             [
              0.4444444444444444,
              "#bd3786"
             ],
             [
              0.5555555555555556,
              "#d8576b"
             ],
             [
              0.6666666666666666,
              "#ed7953"
             ],
             [
              0.7777777777777778,
              "#fb9f3a"
             ],
             [
              0.8888888888888888,
              "#fdca26"
             ],
             [
              1,
              "#f0f921"
             ]
            ],
            "type": "contour"
           }
          ],
          "contourcarpet": [
           {
            "colorbar": {
             "outlinewidth": 0,
             "ticks": ""
            },
            "type": "contourcarpet"
           }
          ],
          "heatmap": [
           {
            "colorbar": {
             "outlinewidth": 0,
             "ticks": ""
            },
            "colorscale": [
             [
              0,
              "#0d0887"
             ],
             [
              0.1111111111111111,
              "#46039f"
             ],
             [
              0.2222222222222222,
              "#7201a8"
             ],
             [
              0.3333333333333333,
              "#9c179e"
             ],
             [
              0.4444444444444444,
              "#bd3786"
             ],
             [
              0.5555555555555556,
              "#d8576b"
             ],
             [
              0.6666666666666666,
              "#ed7953"
             ],
             [
              0.7777777777777778,
              "#fb9f3a"
             ],
             [
              0.8888888888888888,
              "#fdca26"
             ],
             [
              1,
              "#f0f921"
             ]
            ],
            "type": "heatmap"
           }
          ],
          "histogram": [
           {
            "marker": {
             "pattern": {
              "fillmode": "overlay",
              "size": 10,
              "solidity": 0.2
             }
            },
            "type": "histogram"
           }
          ],
          "histogram2d": [
           {
            "colorbar": {
             "outlinewidth": 0,
             "ticks": ""
            },
            "colorscale": [
             [
              0,
              "#0d0887"
             ],
             [
              0.1111111111111111,
              "#46039f"
             ],
             [
              0.2222222222222222,
              "#7201a8"
             ],
             [
              0.3333333333333333,
              "#9c179e"
             ],
             [
              0.4444444444444444,
              "#bd3786"
             ],
             [
              0.5555555555555556,
              "#d8576b"
             ],
             [
              0.6666666666666666,
              "#ed7953"
             ],
             [
              0.7777777777777778,
              "#fb9f3a"
             ],
             [
              0.8888888888888888,
              "#fdca26"
             ],
             [
              1,
              "#f0f921"
             ]
            ],
            "type": "histogram2d"
           }
          ],
          "histogram2dcontour": [
           {
            "colorbar": {
             "outlinewidth": 0,
             "ticks": ""
            },
            "colorscale": [
             [
              0,
              "#0d0887"
             ],
             [
              0.1111111111111111,
              "#46039f"
             ],
             [
              0.2222222222222222,
              "#7201a8"
             ],
             [
              0.3333333333333333,
              "#9c179e"
             ],
             [
              0.4444444444444444,
              "#bd3786"
             ],
             [
              0.5555555555555556,
              "#d8576b"
             ],
             [
              0.6666666666666666,
              "#ed7953"
             ],
             [
              0.7777777777777778,
              "#fb9f3a"
             ],
             [
              0.8888888888888888,
              "#fdca26"
             ],
             [
              1,
              "#f0f921"
             ]
            ],
            "type": "histogram2dcontour"
           }
          ],
          "mesh3d": [
           {
            "colorbar": {
             "outlinewidth": 0,
             "ticks": ""
            },
            "type": "mesh3d"
           }
          ],
          "parcoords": [
           {
            "line": {
             "colorbar": {
              "outlinewidth": 0,
              "ticks": ""
             }
            },
            "type": "parcoords"
           }
          ],
          "pie": [
           {
            "automargin": true,
            "type": "pie"
           }
          ],
          "scatter": [
           {
            "fillpattern": {
             "fillmode": "overlay",
             "size": 10,
             "solidity": 0.2
            },
            "type": "scatter"
           }
          ],
          "scatter3d": [
           {
            "line": {
             "colorbar": {
              "outlinewidth": 0,
              "ticks": ""
             }
            },
            "marker": {
             "colorbar": {
              "outlinewidth": 0,
              "ticks": ""
             }
            },
            "type": "scatter3d"
           }
          ],
          "scattercarpet": [
           {
            "marker": {
             "colorbar": {
              "outlinewidth": 0,
              "ticks": ""
             }
            },
            "type": "scattercarpet"
           }
          ],
          "scattergeo": [
           {
            "marker": {
             "colorbar": {
              "outlinewidth": 0,
              "ticks": ""
             }
            },
            "type": "scattergeo"
           }
          ],
          "scattergl": [
           {
            "marker": {
             "colorbar": {
              "outlinewidth": 0,
              "ticks": ""
             }
            },
            "type": "scattergl"
           }
          ],
          "scattermap": [
           {
            "marker": {
             "colorbar": {
              "outlinewidth": 0,
              "ticks": ""
             }
            },
            "type": "scattermap"
           }
          ],
          "scattermapbox": [
           {
            "marker": {
             "colorbar": {
              "outlinewidth": 0,
              "ticks": ""
             }
            },
            "type": "scattermapbox"
           }
          ],
          "scatterpolar": [
           {
            "marker": {
             "colorbar": {
              "outlinewidth": 0,
              "ticks": ""
             }
            },
            "type": "scatterpolar"
           }
          ],
          "scatterpolargl": [
           {
            "marker": {
             "colorbar": {
              "outlinewidth": 0,
              "ticks": ""
             }
            },
            "type": "scatterpolargl"
           }
          ],
          "scatterternary": [
           {
            "marker": {
             "colorbar": {
              "outlinewidth": 0,
              "ticks": ""
             }
            },
            "type": "scatterternary"
           }
          ],
          "surface": [
           {
            "colorbar": {
             "outlinewidth": 0,
             "ticks": ""
            },
            "colorscale": [
             [
              0,
              "#0d0887"
             ],
             [
              0.1111111111111111,
              "#46039f"
             ],
             [
              0.2222222222222222,
              "#7201a8"
             ],
             [
              0.3333333333333333,
              "#9c179e"
             ],
             [
              0.4444444444444444,
              "#bd3786"
             ],
             [
              0.5555555555555556,
              "#d8576b"
             ],
             [
              0.6666666666666666,
              "#ed7953"
             ],
             [
              0.7777777777777778,
              "#fb9f3a"
             ],
             [
              0.8888888888888888,
              "#fdca26"
             ],
             [
              1,
              "#f0f921"
             ]
            ],
            "type": "surface"
           }
          ],
          "table": [
           {
            "cells": {
             "fill": {
              "color": "#EBF0F8"
             },
             "line": {
              "color": "white"
             }
            },
            "header": {
             "fill": {
              "color": "#C8D4E3"
             },
             "line": {
              "color": "white"
             }
            },
            "type": "table"
           }
          ]
         },
         "layout": {
          "annotationdefaults": {
           "arrowcolor": "#2a3f5f",
           "arrowhead": 0,
           "arrowwidth": 1
          },
          "autotypenumbers": "strict",
          "coloraxis": {
           "colorbar": {
            "outlinewidth": 0,
            "ticks": ""
           }
          },
          "colorscale": {
           "diverging": [
            [
             0,
             "#8e0152"
            ],
            [
             0.1,
             "#c51b7d"
            ],
            [
             0.2,
             "#de77ae"
            ],
            [
             0.3,
             "#f1b6da"
            ],
            [
             0.4,
             "#fde0ef"
            ],
            [
             0.5,
             "#f7f7f7"
            ],
            [
             0.6,
             "#e6f5d0"
            ],
            [
             0.7,
             "#b8e186"
            ],
            [
             0.8,
             "#7fbc41"
            ],
            [
             0.9,
             "#4d9221"
            ],
            [
             1,
             "#276419"
            ]
           ],
           "sequential": [
            [
             0,
             "#0d0887"
            ],
            [
             0.1111111111111111,
             "#46039f"
            ],
            [
             0.2222222222222222,
             "#7201a8"
            ],
            [
             0.3333333333333333,
             "#9c179e"
            ],
            [
             0.4444444444444444,
             "#bd3786"
            ],
            [
             0.5555555555555556,
             "#d8576b"
            ],
            [
             0.6666666666666666,
             "#ed7953"
            ],
            [
             0.7777777777777778,
             "#fb9f3a"
            ],
            [
             0.8888888888888888,
             "#fdca26"
            ],
            [
             1,
             "#f0f921"
            ]
           ],
           "sequentialminus": [
            [
             0,
             "#0d0887"
            ],
            [
             0.1111111111111111,
             "#46039f"
            ],
            [
             0.2222222222222222,
             "#7201a8"
            ],
            [
             0.3333333333333333,
             "#9c179e"
            ],
            [
             0.4444444444444444,
             "#bd3786"
            ],
            [
             0.5555555555555556,
             "#d8576b"
            ],
            [
             0.6666666666666666,
             "#ed7953"
            ],
            [
             0.7777777777777778,
             "#fb9f3a"
            ],
            [
             0.8888888888888888,
             "#fdca26"
            ],
            [
             1,
             "#f0f921"
            ]
           ]
          },
          "colorway": [
           "#636efa",
           "#EF553B",
           "#00cc96",
           "#ab63fa",
           "#FFA15A",
           "#19d3f3",
           "#FF6692",
           "#B6E880",
           "#FF97FF",
           "#FECB52"
          ],
          "font": {
           "color": "#2a3f5f"
          },
          "geo": {
           "bgcolor": "white",
           "lakecolor": "white",
           "landcolor": "#E5ECF6",
           "showlakes": true,
           "showland": true,
           "subunitcolor": "white"
          },
          "hoverlabel": {
           "align": "left"
          },
          "hovermode": "closest",
          "mapbox": {
           "style": "light"
          },
          "paper_bgcolor": "white",
          "plot_bgcolor": "#E5ECF6",
          "polar": {
           "angularaxis": {
            "gridcolor": "white",
            "linecolor": "white",
            "ticks": ""
           },
           "bgcolor": "#E5ECF6",
           "radialaxis": {
            "gridcolor": "white",
            "linecolor": "white",
            "ticks": ""
           }
          },
          "scene": {
           "xaxis": {
            "backgroundcolor": "#E5ECF6",
            "gridcolor": "white",
            "gridwidth": 2,
            "linecolor": "white",
            "showbackground": true,
            "ticks": "",
            "zerolinecolor": "white"
           },
           "yaxis": {
            "backgroundcolor": "#E5ECF6",
            "gridcolor": "white",
            "gridwidth": 2,
            "linecolor": "white",
            "showbackground": true,
            "ticks": "",
            "zerolinecolor": "white"
           },
           "zaxis": {
            "backgroundcolor": "#E5ECF6",
            "gridcolor": "white",
            "gridwidth": 2,
            "linecolor": "white",
            "showbackground": true,
            "ticks": "",
            "zerolinecolor": "white"
           }
          },
          "shapedefaults": {
           "line": {
            "color": "#2a3f5f"
           }
          },
          "ternary": {
           "aaxis": {
            "gridcolor": "white",
            "linecolor": "white",
            "ticks": ""
           },
           "baxis": {
            "gridcolor": "white",
            "linecolor": "white",
            "ticks": ""
           },
           "bgcolor": "#E5ECF6",
           "caxis": {
            "gridcolor": "white",
            "linecolor": "white",
            "ticks": ""
           }
          },
          "title": {
           "x": 0.05
          },
          "xaxis": {
           "automargin": true,
           "gridcolor": "white",
           "linecolor": "white",
           "ticks": "",
           "title": {
            "standoff": 15
           },
           "zerolinecolor": "white",
           "zerolinewidth": 2
          },
          "yaxis": {
           "automargin": true,
           "gridcolor": "white",
           "linecolor": "white",
           "ticks": "",
           "title": {
            "standoff": 15
           },
           "zerolinecolor": "white",
           "zerolinewidth": 2
          }
         }
        }
       }
      }
     },
     "metadata": {},
     "output_type": "display_data"
    },
    {
     "name": "stdout",
     "output_type": "stream",
     "text": [
      "\n",
      "plotting all 4 translations\n",
      "[[[0 0 0]\n",
      "  [0 0 1]]\n",
      "\n",
      " [[0 1 0]\n",
      "  [0 1 1]]\n",
      "\n",
      " [[1 0 0]\n",
      "  [1 0 1]]\n",
      "\n",
      " [[1 1 0]\n",
      "  [1 1 1]]]\n",
      "\n"
     ]
    },
    {
     "data": {
      "application/vnd.plotly.v1+json": {
       "config": {
        "plotlyServerURL": "https://plot.ly"
       },
       "data": [
        {
         "alphahull": 1,
         "color": "#636EFA",
         "opacity": 1,
         "showscale": false,
         "type": "mesh3d",
         "x": [
          0.03999999999999998,
          0.96,
          0.96,
          0.03999999999999998,
          0.03999999999999998,
          0.96,
          0.96,
          0.03999999999999998
         ],
         "y": [
          0.03999999999999998,
          0.03999999999999998,
          0.96,
          0.96,
          0.03999999999999998,
          0.03999999999999998,
          0.96,
          0.96
         ],
         "z": [
          0.03999999999999998,
          0.03999999999999998,
          0.03999999999999998,
          0.03999999999999998,
          0.96,
          0.96,
          0.96,
          0.96
         ]
        },
        {
         "alphahull": 1,
         "color": "#636EFA",
         "opacity": 1,
         "showscale": false,
         "type": "mesh3d",
         "x": [
          0.03999999999999998,
          0.96,
          0.96,
          0.03999999999999998,
          0.03999999999999998,
          0.96,
          0.96,
          0.03999999999999998
         ],
         "y": [
          0.03999999999999998,
          0.03999999999999998,
          0.96,
          0.96,
          0.03999999999999998,
          0.03999999999999998,
          0.96,
          0.96
         ],
         "z": [
          1.04,
          1.04,
          1.04,
          1.04,
          1.96,
          1.96,
          1.96,
          1.96
         ]
        },
        {
         "alphahull": 0,
         "color": "lightgray",
         "opacity": 0.1,
         "showscale": false,
         "type": "mesh3d",
         "x": [
          0,
          2,
          2,
          0,
          0,
          2,
          2,
          0
         ],
         "y": [
          0,
          0,
          2,
          2,
          0,
          0,
          2,
          2
         ],
         "z": [
          0,
          0,
          0,
          0,
          2,
          2,
          2,
          2
         ]
        },
        {
         "alphahull": 1,
         "color": "#EF553B",
         "opacity": 1,
         "showscale": false,
         "type": "mesh3d",
         "x": [
          0.03999999999999998,
          0.96,
          0.96,
          0.03999999999999998,
          0.03999999999999998,
          0.96,
          0.96,
          0.03999999999999998
         ],
         "y": [
          1.04,
          1.04,
          1.96,
          1.96,
          1.04,
          1.04,
          1.96,
          1.96
         ],
         "z": [
          0.03999999999999998,
          0.03999999999999998,
          0.03999999999999998,
          0.03999999999999998,
          0.96,
          0.96,
          0.96,
          0.96
         ]
        },
        {
         "alphahull": 1,
         "color": "#EF553B",
         "opacity": 1,
         "showscale": false,
         "type": "mesh3d",
         "x": [
          0.03999999999999998,
          0.96,
          0.96,
          0.03999999999999998,
          0.03999999999999998,
          0.96,
          0.96,
          0.03999999999999998
         ],
         "y": [
          1.04,
          1.04,
          1.96,
          1.96,
          1.04,
          1.04,
          1.96,
          1.96
         ],
         "z": [
          1.04,
          1.04,
          1.04,
          1.04,
          1.96,
          1.96,
          1.96,
          1.96
         ]
        },
        {
         "alphahull": 0,
         "color": "lightgray",
         "opacity": 0.1,
         "showscale": false,
         "type": "mesh3d",
         "x": [
          0,
          2,
          2,
          0,
          0,
          2,
          2,
          0
         ],
         "y": [
          0,
          0,
          2,
          2,
          0,
          0,
          2,
          2
         ],
         "z": [
          0,
          0,
          0,
          0,
          2,
          2,
          2,
          2
         ]
        },
        {
         "alphahull": 1,
         "color": "#00CC96",
         "opacity": 1,
         "showscale": false,
         "type": "mesh3d",
         "x": [
          1.04,
          1.96,
          1.96,
          1.04,
          1.04,
          1.96,
          1.96,
          1.04
         ],
         "y": [
          0.03999999999999998,
          0.03999999999999998,
          0.96,
          0.96,
          0.03999999999999998,
          0.03999999999999998,
          0.96,
          0.96
         ],
         "z": [
          0.03999999999999998,
          0.03999999999999998,
          0.03999999999999998,
          0.03999999999999998,
          0.96,
          0.96,
          0.96,
          0.96
         ]
        },
        {
         "alphahull": 1,
         "color": "#00CC96",
         "opacity": 1,
         "showscale": false,
         "type": "mesh3d",
         "x": [
          1.04,
          1.96,
          1.96,
          1.04,
          1.04,
          1.96,
          1.96,
          1.04
         ],
         "y": [
          0.03999999999999998,
          0.03999999999999998,
          0.96,
          0.96,
          0.03999999999999998,
          0.03999999999999998,
          0.96,
          0.96
         ],
         "z": [
          1.04,
          1.04,
          1.04,
          1.04,
          1.96,
          1.96,
          1.96,
          1.96
         ]
        },
        {
         "alphahull": 0,
         "color": "lightgray",
         "opacity": 0.1,
         "showscale": false,
         "type": "mesh3d",
         "x": [
          0,
          2,
          2,
          0,
          0,
          2,
          2,
          0
         ],
         "y": [
          0,
          0,
          2,
          2,
          0,
          0,
          2,
          2
         ],
         "z": [
          0,
          0,
          0,
          0,
          2,
          2,
          2,
          2
         ]
        },
        {
         "alphahull": 1,
         "color": "#AB63FA",
         "opacity": 1,
         "showscale": false,
         "type": "mesh3d",
         "x": [
          1.04,
          1.96,
          1.96,
          1.04,
          1.04,
          1.96,
          1.96,
          1.04
         ],
         "y": [
          1.04,
          1.04,
          1.96,
          1.96,
          1.04,
          1.04,
          1.96,
          1.96
         ],
         "z": [
          0.03999999999999998,
          0.03999999999999998,
          0.03999999999999998,
          0.03999999999999998,
          0.96,
          0.96,
          0.96,
          0.96
         ]
        },
        {
         "alphahull": 1,
         "color": "#AB63FA",
         "opacity": 1,
         "showscale": false,
         "type": "mesh3d",
         "x": [
          1.04,
          1.96,
          1.96,
          1.04,
          1.04,
          1.96,
          1.96,
          1.04
         ],
         "y": [
          1.04,
          1.04,
          1.96,
          1.96,
          1.04,
          1.04,
          1.96,
          1.96
         ],
         "z": [
          1.04,
          1.04,
          1.04,
          1.04,
          1.96,
          1.96,
          1.96,
          1.96
         ]
        },
        {
         "alphahull": 0,
         "color": "lightgray",
         "opacity": 0.1,
         "showscale": false,
         "type": "mesh3d",
         "x": [
          0,
          2,
          2,
          0,
          0,
          2,
          2,
          0
         ],
         "y": [
          0,
          0,
          2,
          2,
          0,
          0,
          2,
          2
         ],
         "z": [
          0,
          0,
          0,
          0,
          2,
          2,
          2,
          2
         ]
        }
       ],
       "layout": {
        "margin": {
         "b": 0,
         "l": 0,
         "r": 0,
         "t": 0
        },
        "scene": {
         "aspectratio": {
          "x": 1,
          "y": 1,
          "z": 1
         },
         "xaxis": {
          "range": [
           0,
           2
          ],
          "title": {
           "text": "X"
          }
         },
         "yaxis": {
          "range": [
           0,
           2
          ],
          "title": {
           "text": "Y"
          }
         },
         "zaxis": {
          "range": [
           0,
           2
          ],
          "title": {
           "text": "Z"
          }
         }
        },
        "template": {
         "data": {
          "bar": [
           {
            "error_x": {
             "color": "#2a3f5f"
            },
            "error_y": {
             "color": "#2a3f5f"
            },
            "marker": {
             "line": {
              "color": "#E5ECF6",
              "width": 0.5
             },
             "pattern": {
              "fillmode": "overlay",
              "size": 10,
              "solidity": 0.2
             }
            },
            "type": "bar"
           }
          ],
          "barpolar": [
           {
            "marker": {
             "line": {
              "color": "#E5ECF6",
              "width": 0.5
             },
             "pattern": {
              "fillmode": "overlay",
              "size": 10,
              "solidity": 0.2
             }
            },
            "type": "barpolar"
           }
          ],
          "carpet": [
           {
            "aaxis": {
             "endlinecolor": "#2a3f5f",
             "gridcolor": "white",
             "linecolor": "white",
             "minorgridcolor": "white",
             "startlinecolor": "#2a3f5f"
            },
            "baxis": {
             "endlinecolor": "#2a3f5f",
             "gridcolor": "white",
             "linecolor": "white",
             "minorgridcolor": "white",
             "startlinecolor": "#2a3f5f"
            },
            "type": "carpet"
           }
          ],
          "choropleth": [
           {
            "colorbar": {
             "outlinewidth": 0,
             "ticks": ""
            },
            "type": "choropleth"
           }
          ],
          "contour": [
           {
            "colorbar": {
             "outlinewidth": 0,
             "ticks": ""
            },
            "colorscale": [
             [
              0,
              "#0d0887"
             ],
             [
              0.1111111111111111,
              "#46039f"
             ],
             [
              0.2222222222222222,
              "#7201a8"
             ],
             [
              0.3333333333333333,
              "#9c179e"
             ],
             [
              0.4444444444444444,
              "#bd3786"
             ],
             [
              0.5555555555555556,
              "#d8576b"
             ],
             [
              0.6666666666666666,
              "#ed7953"
             ],
             [
              0.7777777777777778,
              "#fb9f3a"
             ],
             [
              0.8888888888888888,
              "#fdca26"
             ],
             [
              1,
              "#f0f921"
             ]
            ],
            "type": "contour"
           }
          ],
          "contourcarpet": [
           {
            "colorbar": {
             "outlinewidth": 0,
             "ticks": ""
            },
            "type": "contourcarpet"
           }
          ],
          "heatmap": [
           {
            "colorbar": {
             "outlinewidth": 0,
             "ticks": ""
            },
            "colorscale": [
             [
              0,
              "#0d0887"
             ],
             [
              0.1111111111111111,
              "#46039f"
             ],
             [
              0.2222222222222222,
              "#7201a8"
             ],
             [
              0.3333333333333333,
              "#9c179e"
             ],
             [
              0.4444444444444444,
              "#bd3786"
             ],
             [
              0.5555555555555556,
              "#d8576b"
             ],
             [
              0.6666666666666666,
              "#ed7953"
             ],
             [
              0.7777777777777778,
              "#fb9f3a"
             ],
             [
              0.8888888888888888,
              "#fdca26"
             ],
             [
              1,
              "#f0f921"
             ]
            ],
            "type": "heatmap"
           }
          ],
          "histogram": [
           {
            "marker": {
             "pattern": {
              "fillmode": "overlay",
              "size": 10,
              "solidity": 0.2
             }
            },
            "type": "histogram"
           }
          ],
          "histogram2d": [
           {
            "colorbar": {
             "outlinewidth": 0,
             "ticks": ""
            },
            "colorscale": [
             [
              0,
              "#0d0887"
             ],
             [
              0.1111111111111111,
              "#46039f"
             ],
             [
              0.2222222222222222,
              "#7201a8"
             ],
             [
              0.3333333333333333,
              "#9c179e"
             ],
             [
              0.4444444444444444,
              "#bd3786"
             ],
             [
              0.5555555555555556,
              "#d8576b"
             ],
             [
              0.6666666666666666,
              "#ed7953"
             ],
             [
              0.7777777777777778,
              "#fb9f3a"
             ],
             [
              0.8888888888888888,
              "#fdca26"
             ],
             [
              1,
              "#f0f921"
             ]
            ],
            "type": "histogram2d"
           }
          ],
          "histogram2dcontour": [
           {
            "colorbar": {
             "outlinewidth": 0,
             "ticks": ""
            },
            "colorscale": [
             [
              0,
              "#0d0887"
             ],
             [
              0.1111111111111111,
              "#46039f"
             ],
             [
              0.2222222222222222,
              "#7201a8"
             ],
             [
              0.3333333333333333,
              "#9c179e"
             ],
             [
              0.4444444444444444,
              "#bd3786"
             ],
             [
              0.5555555555555556,
              "#d8576b"
             ],
             [
              0.6666666666666666,
              "#ed7953"
             ],
             [
              0.7777777777777778,
              "#fb9f3a"
             ],
             [
              0.8888888888888888,
              "#fdca26"
             ],
             [
              1,
              "#f0f921"
             ]
            ],
            "type": "histogram2dcontour"
           }
          ],
          "mesh3d": [
           {
            "colorbar": {
             "outlinewidth": 0,
             "ticks": ""
            },
            "type": "mesh3d"
           }
          ],
          "parcoords": [
           {
            "line": {
             "colorbar": {
              "outlinewidth": 0,
              "ticks": ""
             }
            },
            "type": "parcoords"
           }
          ],
          "pie": [
           {
            "automargin": true,
            "type": "pie"
           }
          ],
          "scatter": [
           {
            "fillpattern": {
             "fillmode": "overlay",
             "size": 10,
             "solidity": 0.2
            },
            "type": "scatter"
           }
          ],
          "scatter3d": [
           {
            "line": {
             "colorbar": {
              "outlinewidth": 0,
              "ticks": ""
             }
            },
            "marker": {
             "colorbar": {
              "outlinewidth": 0,
              "ticks": ""
             }
            },
            "type": "scatter3d"
           }
          ],
          "scattercarpet": [
           {
            "marker": {
             "colorbar": {
              "outlinewidth": 0,
              "ticks": ""
             }
            },
            "type": "scattercarpet"
           }
          ],
          "scattergeo": [
           {
            "marker": {
             "colorbar": {
              "outlinewidth": 0,
              "ticks": ""
             }
            },
            "type": "scattergeo"
           }
          ],
          "scattergl": [
           {
            "marker": {
             "colorbar": {
              "outlinewidth": 0,
              "ticks": ""
             }
            },
            "type": "scattergl"
           }
          ],
          "scattermap": [
           {
            "marker": {
             "colorbar": {
              "outlinewidth": 0,
              "ticks": ""
             }
            },
            "type": "scattermap"
           }
          ],
          "scattermapbox": [
           {
            "marker": {
             "colorbar": {
              "outlinewidth": 0,
              "ticks": ""
             }
            },
            "type": "scattermapbox"
           }
          ],
          "scatterpolar": [
           {
            "marker": {
             "colorbar": {
              "outlinewidth": 0,
              "ticks": ""
             }
            },
            "type": "scatterpolar"
           }
          ],
          "scatterpolargl": [
           {
            "marker": {
             "colorbar": {
              "outlinewidth": 0,
              "ticks": ""
             }
            },
            "type": "scatterpolargl"
           }
          ],
          "scatterternary": [
           {
            "marker": {
             "colorbar": {
              "outlinewidth": 0,
              "ticks": ""
             }
            },
            "type": "scatterternary"
           }
          ],
          "surface": [
           {
            "colorbar": {
             "outlinewidth": 0,
             "ticks": ""
            },
            "colorscale": [
             [
              0,
              "#0d0887"
             ],
             [
              0.1111111111111111,
              "#46039f"
             ],
             [
              0.2222222222222222,
              "#7201a8"
             ],
             [
              0.3333333333333333,
              "#9c179e"
             ],
             [
              0.4444444444444444,
              "#bd3786"
             ],
             [
              0.5555555555555556,
              "#d8576b"
             ],
             [
              0.6666666666666666,
              "#ed7953"
             ],
             [
              0.7777777777777778,
              "#fb9f3a"
             ],
             [
              0.8888888888888888,
              "#fdca26"
             ],
             [
              1,
              "#f0f921"
             ]
            ],
            "type": "surface"
           }
          ],
          "table": [
           {
            "cells": {
             "fill": {
              "color": "#EBF0F8"
             },
             "line": {
              "color": "white"
             }
            },
            "header": {
             "fill": {
              "color": "#C8D4E3"
             },
             "line": {
              "color": "white"
             }
            },
            "type": "table"
           }
          ]
         },
         "layout": {
          "annotationdefaults": {
           "arrowcolor": "#2a3f5f",
           "arrowhead": 0,
           "arrowwidth": 1
          },
          "autotypenumbers": "strict",
          "coloraxis": {
           "colorbar": {
            "outlinewidth": 0,
            "ticks": ""
           }
          },
          "colorscale": {
           "diverging": [
            [
             0,
             "#8e0152"
            ],
            [
             0.1,
             "#c51b7d"
            ],
            [
             0.2,
             "#de77ae"
            ],
            [
             0.3,
             "#f1b6da"
            ],
            [
             0.4,
             "#fde0ef"
            ],
            [
             0.5,
             "#f7f7f7"
            ],
            [
             0.6,
             "#e6f5d0"
            ],
            [
             0.7,
             "#b8e186"
            ],
            [
             0.8,
             "#7fbc41"
            ],
            [
             0.9,
             "#4d9221"
            ],
            [
             1,
             "#276419"
            ]
           ],
           "sequential": [
            [
             0,
             "#0d0887"
            ],
            [
             0.1111111111111111,
             "#46039f"
            ],
            [
             0.2222222222222222,
             "#7201a8"
            ],
            [
             0.3333333333333333,
             "#9c179e"
            ],
            [
             0.4444444444444444,
             "#bd3786"
            ],
            [
             0.5555555555555556,
             "#d8576b"
            ],
            [
             0.6666666666666666,
             "#ed7953"
            ],
            [
             0.7777777777777778,
             "#fb9f3a"
            ],
            [
             0.8888888888888888,
             "#fdca26"
            ],
            [
             1,
             "#f0f921"
            ]
           ],
           "sequentialminus": [
            [
             0,
             "#0d0887"
            ],
            [
             0.1111111111111111,
             "#46039f"
            ],
            [
             0.2222222222222222,
             "#7201a8"
            ],
            [
             0.3333333333333333,
             "#9c179e"
            ],
            [
             0.4444444444444444,
             "#bd3786"
            ],
            [
             0.5555555555555556,
             "#d8576b"
            ],
            [
             0.6666666666666666,
             "#ed7953"
            ],
            [
             0.7777777777777778,
             "#fb9f3a"
            ],
            [
             0.8888888888888888,
             "#fdca26"
            ],
            [
             1,
             "#f0f921"
            ]
           ]
          },
          "colorway": [
           "#636efa",
           "#EF553B",
           "#00cc96",
           "#ab63fa",
           "#FFA15A",
           "#19d3f3",
           "#FF6692",
           "#B6E880",
           "#FF97FF",
           "#FECB52"
          ],
          "font": {
           "color": "#2a3f5f"
          },
          "geo": {
           "bgcolor": "white",
           "lakecolor": "white",
           "landcolor": "#E5ECF6",
           "showlakes": true,
           "showland": true,
           "subunitcolor": "white"
          },
          "hoverlabel": {
           "align": "left"
          },
          "hovermode": "closest",
          "mapbox": {
           "style": "light"
          },
          "paper_bgcolor": "white",
          "plot_bgcolor": "#E5ECF6",
          "polar": {
           "angularaxis": {
            "gridcolor": "white",
            "linecolor": "white",
            "ticks": ""
           },
           "bgcolor": "#E5ECF6",
           "radialaxis": {
            "gridcolor": "white",
            "linecolor": "white",
            "ticks": ""
           }
          },
          "scene": {
           "xaxis": {
            "backgroundcolor": "#E5ECF6",
            "gridcolor": "white",
            "gridwidth": 2,
            "linecolor": "white",
            "showbackground": true,
            "ticks": "",
            "zerolinecolor": "white"
           },
           "yaxis": {
            "backgroundcolor": "#E5ECF6",
            "gridcolor": "white",
            "gridwidth": 2,
            "linecolor": "white",
            "showbackground": true,
            "ticks": "",
            "zerolinecolor": "white"
           },
           "zaxis": {
            "backgroundcolor": "#E5ECF6",
            "gridcolor": "white",
            "gridwidth": 2,
            "linecolor": "white",
            "showbackground": true,
            "ticks": "",
            "zerolinecolor": "white"
           }
          },
          "shapedefaults": {
           "line": {
            "color": "#2a3f5f"
           }
          },
          "ternary": {
           "aaxis": {
            "gridcolor": "white",
            "linecolor": "white",
            "ticks": ""
           },
           "baxis": {
            "gridcolor": "white",
            "linecolor": "white",
            "ticks": ""
           },
           "bgcolor": "#E5ECF6",
           "caxis": {
            "gridcolor": "white",
            "linecolor": "white",
            "ticks": ""
           }
          },
          "title": {
           "x": 0.05
          },
          "xaxis": {
           "automargin": true,
           "gridcolor": "white",
           "linecolor": "white",
           "ticks": "",
           "title": {
            "standoff": 15
           },
           "zerolinecolor": "white",
           "zerolinewidth": 2
          },
          "yaxis": {
           "automargin": true,
           "gridcolor": "white",
           "linecolor": "white",
           "ticks": "",
           "title": {
            "standoff": 15
           },
           "zerolinecolor": "white",
           "zerolinewidth": 2
          }
         }
        }
       }
      }
     },
     "metadata": {},
     "output_type": "display_data"
    }
   ],
   "source": [
    "import plotly.colors\n",
    "palette = plotly.colors.qualitative.Plotly\n",
    "\n",
    "sample_shape = [[0,0,0], [0,1,0]]\n",
    "\n",
    "rotations = generate_rotations(voxels=sample_shape)\n",
    "translations = generate_translations(voxels=rotations[0], n=2)\n",
    "print(f\"\"\"\n",
    "sample_shape = \n",
    "{np.array(sample_shape)}\n",
    "first rotation =\n",
    "{np.array(rotations[0])}\n",
    "first translation of first rotation =\n",
    "{np.array(translations[0])}\n",
    "\"\"\")\n",
    "fig = go.Figure()\n",
    "plot_voxels(voxels=rotations[0], fig=fig, n=2, color=palette[0])\n",
    "plot_voxels(voxels=rotations[1], fig=fig, n=2, color=palette[1])\n",
    "fig.show()\n",
    "\n",
    "fig = go.Figure()\n",
    "print(f\"\"\"\n",
    "plotting all {len(translations)} translations\n",
    "{translations}\n",
    "\"\"\")\n",
    "for idx,t in enumerate(translations):\n",
    "    fig = plot_voxels(voxels=t, fig=fig, n=2, color=palette[idx], opacity=1)\n",
    "fig.show()"
   ]
  },
  {
   "cell_type": "markdown",
   "id": "029bfd93",
   "metadata": {},
   "source": [
    "# Generating all"
   ]
  },
  {
   "cell_type": "code",
   "execution_count": 2,
   "id": "f1669c9d",
   "metadata": {},
   "outputs": [
    {
     "ename": "ValueError",
     "evalue": "all the input arrays must have same number of dimensions, but the array at index 0 has 3 dimension(s) and the array at index 1 has 1 dimension(s)",
     "output_type": "error",
     "traceback": [
      "\u001b[31m---------------------------------------------------------------------------\u001b[39m",
      "\u001b[31mValueError\u001b[39m                                Traceback (most recent call last)",
      "\u001b[36mCell\u001b[39m\u001b[36m \u001b[39m\u001b[32mIn[2]\u001b[39m\u001b[32m, line 12\u001b[39m\n\u001b[32m      9\u001b[39m blokks[\u001b[33m'\u001b[39m\u001b[33mall_rotations\u001b[39m\u001b[33m'\u001b[39m] = blokks[\u001b[33m'\u001b[39m\u001b[33mvoxels\u001b[39m\u001b[33m'\u001b[39m].apply(np.array).apply(generate_rotations).apply(np.array)  \u001b[38;5;66;03m# a list of blokks\u001b[39;00m\n\u001b[32m     10\u001b[39m blokks[\u001b[33m'\u001b[39m\u001b[33mn_rotations\u001b[39m\u001b[33m'\u001b[39m] = blokks[\u001b[33m'\u001b[39m\u001b[33mall_rotations\u001b[39m\u001b[33m'\u001b[39m].apply(\u001b[38;5;28;01mlambda\u001b[39;00m x: \u001b[38;5;28mlen\u001b[39m(x))\n\u001b[32m---> \u001b[39m\u001b[32m12\u001b[39m blokks[\u001b[33m'\u001b[39m\u001b[33mall_placements_3\u001b[39m\u001b[33m'\u001b[39m] = \u001b[43mblokks\u001b[49m\u001b[43m[\u001b[49m\u001b[33;43m'\u001b[39;49m\u001b[33;43mvoxels\u001b[39;49m\u001b[33;43m'\u001b[39;49m\u001b[43m]\u001b[49m\u001b[43m.\u001b[49m\u001b[43miloc\u001b[49m\u001b[43m[\u001b[49m\u001b[43m[\u001b[49m\u001b[32;43m12\u001b[39;49m\u001b[43m]\u001b[49m\u001b[43m]\u001b[49m\u001b[43m.\u001b[49m\u001b[43mapply\u001b[49m\u001b[43m(\u001b[49m\u001b[43mgenerate_all_placements\u001b[49m\u001b[43m,\u001b[49m\u001b[43m \u001b[49m\u001b[43mn\u001b[49m\u001b[43m=\u001b[49m\u001b[32;43m3\u001b[39;49m\u001b[43m)\u001b[49m\n",
      "\u001b[36mFile \u001b[39m\u001b[32m~/Library/Caches/pypoetry/virtualenvs/blokk-solver-xQknYKdV-py3.13/lib/python3.13/site-packages/pandas/core/series.py:4924\u001b[39m, in \u001b[36mSeries.apply\u001b[39m\u001b[34m(self, func, convert_dtype, args, by_row, **kwargs)\u001b[39m\n\u001b[32m   4789\u001b[39m \u001b[38;5;28;01mdef\u001b[39;00m\u001b[38;5;250m \u001b[39m\u001b[34mapply\u001b[39m(\n\u001b[32m   4790\u001b[39m     \u001b[38;5;28mself\u001b[39m,\n\u001b[32m   4791\u001b[39m     func: AggFuncType,\n\u001b[32m   (...)\u001b[39m\u001b[32m   4796\u001b[39m     **kwargs,\n\u001b[32m   4797\u001b[39m ) -> DataFrame | Series:\n\u001b[32m   4798\u001b[39m \u001b[38;5;250m    \u001b[39m\u001b[33;03m\"\"\"\u001b[39;00m\n\u001b[32m   4799\u001b[39m \u001b[33;03m    Invoke function on values of Series.\u001b[39;00m\n\u001b[32m   4800\u001b[39m \n\u001b[32m   (...)\u001b[39m\u001b[32m   4915\u001b[39m \u001b[33;03m    dtype: float64\u001b[39;00m\n\u001b[32m   4916\u001b[39m \u001b[33;03m    \"\"\"\u001b[39;00m\n\u001b[32m   4917\u001b[39m     \u001b[38;5;28;01mreturn\u001b[39;00m \u001b[43mSeriesApply\u001b[49m\u001b[43m(\u001b[49m\n\u001b[32m   4918\u001b[39m \u001b[43m        \u001b[49m\u001b[38;5;28;43mself\u001b[39;49m\u001b[43m,\u001b[49m\n\u001b[32m   4919\u001b[39m \u001b[43m        \u001b[49m\u001b[43mfunc\u001b[49m\u001b[43m,\u001b[49m\n\u001b[32m   4920\u001b[39m \u001b[43m        \u001b[49m\u001b[43mconvert_dtype\u001b[49m\u001b[43m=\u001b[49m\u001b[43mconvert_dtype\u001b[49m\u001b[43m,\u001b[49m\n\u001b[32m   4921\u001b[39m \u001b[43m        \u001b[49m\u001b[43mby_row\u001b[49m\u001b[43m=\u001b[49m\u001b[43mby_row\u001b[49m\u001b[43m,\u001b[49m\n\u001b[32m   4922\u001b[39m \u001b[43m        \u001b[49m\u001b[43margs\u001b[49m\u001b[43m=\u001b[49m\u001b[43margs\u001b[49m\u001b[43m,\u001b[49m\n\u001b[32m   4923\u001b[39m \u001b[43m        \u001b[49m\u001b[43mkwargs\u001b[49m\u001b[43m=\u001b[49m\u001b[43mkwargs\u001b[49m\u001b[43m,\u001b[49m\n\u001b[32m-> \u001b[39m\u001b[32m4924\u001b[39m \u001b[43m    \u001b[49m\u001b[43m)\u001b[49m\u001b[43m.\u001b[49m\u001b[43mapply\u001b[49m\u001b[43m(\u001b[49m\u001b[43m)\u001b[49m\n",
      "\u001b[36mFile \u001b[39m\u001b[32m~/Library/Caches/pypoetry/virtualenvs/blokk-solver-xQknYKdV-py3.13/lib/python3.13/site-packages/pandas/core/apply.py:1427\u001b[39m, in \u001b[36mSeriesApply.apply\u001b[39m\u001b[34m(self)\u001b[39m\n\u001b[32m   1424\u001b[39m     \u001b[38;5;28;01mreturn\u001b[39;00m \u001b[38;5;28mself\u001b[39m.apply_compat()\n\u001b[32m   1426\u001b[39m \u001b[38;5;66;03m# self.func is Callable\u001b[39;00m\n\u001b[32m-> \u001b[39m\u001b[32m1427\u001b[39m \u001b[38;5;28;01mreturn\u001b[39;00m \u001b[38;5;28;43mself\u001b[39;49m\u001b[43m.\u001b[49m\u001b[43mapply_standard\u001b[49m\u001b[43m(\u001b[49m\u001b[43m)\u001b[49m\n",
      "\u001b[36mFile \u001b[39m\u001b[32m~/Library/Caches/pypoetry/virtualenvs/blokk-solver-xQknYKdV-py3.13/lib/python3.13/site-packages/pandas/core/apply.py:1507\u001b[39m, in \u001b[36mSeriesApply.apply_standard\u001b[39m\u001b[34m(self)\u001b[39m\n\u001b[32m   1501\u001b[39m \u001b[38;5;66;03m# row-wise access\u001b[39;00m\n\u001b[32m   1502\u001b[39m \u001b[38;5;66;03m# apply doesn't have a `na_action` keyword and for backward compat reasons\u001b[39;00m\n\u001b[32m   1503\u001b[39m \u001b[38;5;66;03m# we need to give `na_action=\"ignore\"` for categorical data.\u001b[39;00m\n\u001b[32m   1504\u001b[39m \u001b[38;5;66;03m# TODO: remove the `na_action=\"ignore\"` when that default has been changed in\u001b[39;00m\n\u001b[32m   1505\u001b[39m \u001b[38;5;66;03m#  Categorical (GH51645).\u001b[39;00m\n\u001b[32m   1506\u001b[39m action = \u001b[33m\"\u001b[39m\u001b[33mignore\u001b[39m\u001b[33m\"\u001b[39m \u001b[38;5;28;01mif\u001b[39;00m \u001b[38;5;28misinstance\u001b[39m(obj.dtype, CategoricalDtype) \u001b[38;5;28;01melse\u001b[39;00m \u001b[38;5;28;01mNone\u001b[39;00m\n\u001b[32m-> \u001b[39m\u001b[32m1507\u001b[39m mapped = \u001b[43mobj\u001b[49m\u001b[43m.\u001b[49m\u001b[43m_map_values\u001b[49m\u001b[43m(\u001b[49m\n\u001b[32m   1508\u001b[39m \u001b[43m    \u001b[49m\u001b[43mmapper\u001b[49m\u001b[43m=\u001b[49m\u001b[43mcurried\u001b[49m\u001b[43m,\u001b[49m\u001b[43m \u001b[49m\u001b[43mna_action\u001b[49m\u001b[43m=\u001b[49m\u001b[43maction\u001b[49m\u001b[43m,\u001b[49m\u001b[43m \u001b[49m\u001b[43mconvert\u001b[49m\u001b[43m=\u001b[49m\u001b[38;5;28;43mself\u001b[39;49m\u001b[43m.\u001b[49m\u001b[43mconvert_dtype\u001b[49m\n\u001b[32m   1509\u001b[39m \u001b[43m\u001b[49m\u001b[43m)\u001b[49m\n\u001b[32m   1511\u001b[39m \u001b[38;5;28;01mif\u001b[39;00m \u001b[38;5;28mlen\u001b[39m(mapped) \u001b[38;5;129;01mand\u001b[39;00m \u001b[38;5;28misinstance\u001b[39m(mapped[\u001b[32m0\u001b[39m], ABCSeries):\n\u001b[32m   1512\u001b[39m     \u001b[38;5;66;03m# GH#43986 Need to do list(mapped) in order to get treated as nested\u001b[39;00m\n\u001b[32m   1513\u001b[39m     \u001b[38;5;66;03m#  See also GH#25959 regarding EA support\u001b[39;00m\n\u001b[32m   1514\u001b[39m     \u001b[38;5;28;01mreturn\u001b[39;00m obj._constructor_expanddim(\u001b[38;5;28mlist\u001b[39m(mapped), index=obj.index)\n",
      "\u001b[36mFile \u001b[39m\u001b[32m~/Library/Caches/pypoetry/virtualenvs/blokk-solver-xQknYKdV-py3.13/lib/python3.13/site-packages/pandas/core/base.py:921\u001b[39m, in \u001b[36mIndexOpsMixin._map_values\u001b[39m\u001b[34m(self, mapper, na_action, convert)\u001b[39m\n\u001b[32m    918\u001b[39m \u001b[38;5;28;01mif\u001b[39;00m \u001b[38;5;28misinstance\u001b[39m(arr, ExtensionArray):\n\u001b[32m    919\u001b[39m     \u001b[38;5;28;01mreturn\u001b[39;00m arr.map(mapper, na_action=na_action)\n\u001b[32m--> \u001b[39m\u001b[32m921\u001b[39m \u001b[38;5;28;01mreturn\u001b[39;00m \u001b[43malgorithms\u001b[49m\u001b[43m.\u001b[49m\u001b[43mmap_array\u001b[49m\u001b[43m(\u001b[49m\u001b[43marr\u001b[49m\u001b[43m,\u001b[49m\u001b[43m \u001b[49m\u001b[43mmapper\u001b[49m\u001b[43m,\u001b[49m\u001b[43m \u001b[49m\u001b[43mna_action\u001b[49m\u001b[43m=\u001b[49m\u001b[43mna_action\u001b[49m\u001b[43m,\u001b[49m\u001b[43m \u001b[49m\u001b[43mconvert\u001b[49m\u001b[43m=\u001b[49m\u001b[43mconvert\u001b[49m\u001b[43m)\u001b[49m\n",
      "\u001b[36mFile \u001b[39m\u001b[32m~/Library/Caches/pypoetry/virtualenvs/blokk-solver-xQknYKdV-py3.13/lib/python3.13/site-packages/pandas/core/algorithms.py:1743\u001b[39m, in \u001b[36mmap_array\u001b[39m\u001b[34m(arr, mapper, na_action, convert)\u001b[39m\n\u001b[32m   1741\u001b[39m values = arr.astype(\u001b[38;5;28mobject\u001b[39m, copy=\u001b[38;5;28;01mFalse\u001b[39;00m)\n\u001b[32m   1742\u001b[39m \u001b[38;5;28;01mif\u001b[39;00m na_action \u001b[38;5;129;01mis\u001b[39;00m \u001b[38;5;28;01mNone\u001b[39;00m:\n\u001b[32m-> \u001b[39m\u001b[32m1743\u001b[39m     \u001b[38;5;28;01mreturn\u001b[39;00m \u001b[43mlib\u001b[49m\u001b[43m.\u001b[49m\u001b[43mmap_infer\u001b[49m\u001b[43m(\u001b[49m\u001b[43mvalues\u001b[49m\u001b[43m,\u001b[49m\u001b[43m \u001b[49m\u001b[43mmapper\u001b[49m\u001b[43m,\u001b[49m\u001b[43m \u001b[49m\u001b[43mconvert\u001b[49m\u001b[43m=\u001b[49m\u001b[43mconvert\u001b[49m\u001b[43m)\u001b[49m\n\u001b[32m   1744\u001b[39m \u001b[38;5;28;01melse\u001b[39;00m:\n\u001b[32m   1745\u001b[39m     \u001b[38;5;28;01mreturn\u001b[39;00m lib.map_infer_mask(\n\u001b[32m   1746\u001b[39m         values, mapper, mask=isna(values).view(np.uint8), convert=convert\n\u001b[32m   1747\u001b[39m     )\n",
      "\u001b[36mFile \u001b[39m\u001b[32mlib.pyx:2972\u001b[39m, in \u001b[36mpandas._libs.lib.map_infer\u001b[39m\u001b[34m()\u001b[39m\n",
      "\u001b[36mFile \u001b[39m\u001b[32m~/Library/Caches/pypoetry/virtualenvs/blokk-solver-xQknYKdV-py3.13/lib/python3.13/site-packages/pandas/core/apply.py:1496\u001b[39m, in \u001b[36mSeriesApply.apply_standard.<locals>.curried\u001b[39m\u001b[34m(x)\u001b[39m\n\u001b[32m   1495\u001b[39m \u001b[38;5;28;01mdef\u001b[39;00m\u001b[38;5;250m \u001b[39m\u001b[34mcurried\u001b[39m(x):\n\u001b[32m-> \u001b[39m\u001b[32m1496\u001b[39m     \u001b[38;5;28;01mreturn\u001b[39;00m \u001b[43mfunc\u001b[49m\u001b[43m(\u001b[49m\u001b[43mx\u001b[49m\u001b[43m,\u001b[49m\u001b[43m \u001b[49m\u001b[43m*\u001b[49m\u001b[38;5;28;43mself\u001b[39;49m\u001b[43m.\u001b[49m\u001b[43margs\u001b[49m\u001b[43m,\u001b[49m\u001b[43m \u001b[49m\u001b[43m*\u001b[49m\u001b[43m*\u001b[49m\u001b[38;5;28;43mself\u001b[39;49m\u001b[43m.\u001b[49m\u001b[43mkwargs\u001b[49m\u001b[43m)\u001b[49m\n",
      "\u001b[36mFile \u001b[39m\u001b[32m~/repos/blokk-solver/blokk_solver/combinatorics.py:108\u001b[39m, in \u001b[36mgenerate_all_placements\u001b[39m\u001b[34m(voxels, n)\u001b[39m\n\u001b[32m    106\u001b[39m \u001b[38;5;28;01mfor\u001b[39;00m rotation \u001b[38;5;129;01min\u001b[39;00m rotations:\n\u001b[32m    107\u001b[39m     translations = generate_translations(rotation, n=n)\n\u001b[32m--> \u001b[39m\u001b[32m108\u001b[39m     placements = \u001b[43mnp\u001b[49m\u001b[43m.\u001b[49m\u001b[43mconcatenate\u001b[49m\u001b[43m(\u001b[49m\u001b[43m[\u001b[49m\u001b[43mplacements\u001b[49m\u001b[43m,\u001b[49m\u001b[43m \u001b[49m\u001b[43mtranslations\u001b[49m\u001b[43m]\u001b[49m\u001b[43m,\u001b[49m\u001b[43m \u001b[49m\u001b[43maxis\u001b[49m\u001b[43m=\u001b[49m\u001b[32;43m0\u001b[39;49m\u001b[43m)\u001b[49m\n\u001b[32m    109\u001b[39m unique_placements = np.unique(placements, axis=\u001b[32m0\u001b[39m)\n\u001b[32m    110\u001b[39m \u001b[38;5;28mprint\u001b[39m(\n\u001b[32m    111\u001b[39m     \u001b[33mf\u001b[39m\u001b[33m\"\u001b[39m\u001b[33mgenerated \u001b[39m\u001b[38;5;132;01m{\u001b[39;00m\u001b[38;5;28mlen\u001b[39m(rotations)\u001b[38;5;132;01m}\u001b[39;00m\u001b[33m rotations = \u001b[39m\u001b[38;5;132;01m{\u001b[39;00m\u001b[38;5;28mlen\u001b[39m(placements)\u001b[38;5;132;01m}\u001b[39;00m\u001b[33m placements = \u001b[39m\u001b[38;5;132;01m{\u001b[39;00m\u001b[38;5;28mlen\u001b[39m(unique_placements)\u001b[38;5;132;01m}\u001b[39;00m\u001b[33m unique placements\u001b[39m\u001b[33m\"\u001b[39m\n\u001b[32m    112\u001b[39m )\n",
      "\u001b[31mValueError\u001b[39m: all the input arrays must have same number of dimensions, but the array at index 0 has 3 dimension(s) and the array at index 1 has 1 dimension(s)"
     ]
    }
   ],
   "source": [
    "from blokk_solver.blokks import get_blokks\n",
    "from blokk_solver.combinatorics import generate_rotations, generate_translations, generate_all_placements\n",
    "from blokk_solver.plotting import plot_voxels\n",
    "import plotly.graph_objects as go\n",
    "import numpy as np\n",
    "\n",
    "blokks = get_blokks()\n",
    "\n",
    "blokks['all_rotations'] = blokks['voxels'].apply(np.array).apply(generate_rotations).apply(np.array)  # a list of blokks\n",
    "blokks['n_rotations'] = blokks['all_rotations'].apply(lambda x: len(x))\n",
    "\n",
    "blokks['all_placements_3'] = blokks['voxels'].iloc[[12]].apply(generate_all_placements, n=3)\n"
   ]
  },
  {
   "cell_type": "code",
   "execution_count": 6,
   "id": "1356c371",
   "metadata": {},
   "outputs": [
    {
     "data": {
      "application/vnd.plotly.v1+json": {
       "config": {
        "plotlyServerURL": "https://plot.ly"
       },
       "data": [
        {
         "alphahull": 1,
         "opacity": 0.4,
         "showscale": false,
         "type": "mesh3d",
         "x": [
          0.03999999999999998,
          0.96,
          0.96,
          0.03999999999999998,
          0.03999999999999998,
          0.96,
          0.96,
          0.03999999999999998
         ],
         "y": [
          0.03999999999999998,
          0.03999999999999998,
          0.96,
          0.96,
          0.03999999999999998,
          0.03999999999999998,
          0.96,
          0.96
         ],
         "z": [
          0.03999999999999998,
          0.03999999999999998,
          0.03999999999999998,
          0.03999999999999998,
          0.96,
          0.96,
          0.96,
          0.96
         ]
        },
        {
         "alphahull": 1,
         "opacity": 0.4,
         "showscale": false,
         "type": "mesh3d",
         "x": [
          1.04,
          1.96,
          1.96,
          1.04,
          1.04,
          1.96,
          1.96,
          1.04
         ],
         "y": [
          0.03999999999999998,
          0.03999999999999998,
          0.96,
          0.96,
          0.03999999999999998,
          0.03999999999999998,
          0.96,
          0.96
         ],
         "z": [
          0.03999999999999998,
          0.03999999999999998,
          0.03999999999999998,
          0.03999999999999998,
          0.96,
          0.96,
          0.96,
          0.96
         ]
        },
        {
         "alphahull": 1,
         "opacity": 0.4,
         "showscale": false,
         "type": "mesh3d",
         "x": [
          2.04,
          2.96,
          2.96,
          2.04,
          2.04,
          2.96,
          2.96,
          2.04
         ],
         "y": [
          0.03999999999999998,
          0.03999999999999998,
          0.96,
          0.96,
          0.03999999999999998,
          0.03999999999999998,
          0.96,
          0.96
         ],
         "z": [
          0.03999999999999998,
          0.03999999999999998,
          0.03999999999999998,
          0.03999999999999998,
          0.96,
          0.96,
          0.96,
          0.96
         ]
        },
        {
         "alphahull": 1,
         "opacity": 0.4,
         "showscale": false,
         "type": "mesh3d",
         "x": [
          2.04,
          2.96,
          2.96,
          2.04,
          2.04,
          2.96,
          2.96,
          2.04
         ],
         "y": [
          1.04,
          1.04,
          1.96,
          1.96,
          1.04,
          1.04,
          1.96,
          1.96
         ],
         "z": [
          0.03999999999999998,
          0.03999999999999998,
          0.03999999999999998,
          0.03999999999999998,
          0.96,
          0.96,
          0.96,
          0.96
         ]
        },
        {
         "alphahull": 1,
         "opacity": 0.4,
         "showscale": false,
         "type": "mesh3d",
         "x": [
          3.04,
          3.96,
          3.96,
          3.04,
          3.04,
          3.96,
          3.96,
          3.04
         ],
         "y": [
          1.04,
          1.04,
          1.96,
          1.96,
          1.04,
          1.04,
          1.96,
          1.96
         ],
         "z": [
          0.03999999999999998,
          0.03999999999999998,
          0.03999999999999998,
          0.03999999999999998,
          0.96,
          0.96,
          0.96,
          0.96
         ]
        },
        {
         "alphahull": 0,
         "color": "lightgray",
         "opacity": 0.1,
         "showscale": false,
         "type": "mesh3d",
         "x": [
          0,
          3,
          3,
          0,
          0,
          3,
          3,
          0
         ],
         "y": [
          0,
          0,
          3,
          3,
          0,
          0,
          3,
          3
         ],
         "z": [
          0,
          0,
          0,
          0,
          3,
          3,
          3,
          3
         ]
        }
       ],
       "layout": {
        "margin": {
         "b": 0,
         "l": 0,
         "r": 0,
         "t": 0
        },
        "scene": {
         "aspectratio": {
          "x": 1,
          "y": 1,
          "z": 1
         },
         "xaxis": {
          "range": [
           0,
           3
          ],
          "title": {
           "text": "X"
          }
         },
         "yaxis": {
          "range": [
           0,
           3
          ],
          "title": {
           "text": "Y"
          }
         },
         "zaxis": {
          "range": [
           0,
           3
          ],
          "title": {
           "text": "Z"
          }
         }
        },
        "template": {
         "data": {
          "bar": [
           {
            "error_x": {
             "color": "#2a3f5f"
            },
            "error_y": {
             "color": "#2a3f5f"
            },
            "marker": {
             "line": {
              "color": "#E5ECF6",
              "width": 0.5
             },
             "pattern": {
              "fillmode": "overlay",
              "size": 10,
              "solidity": 0.2
             }
            },
            "type": "bar"
           }
          ],
          "barpolar": [
           {
            "marker": {
             "line": {
              "color": "#E5ECF6",
              "width": 0.5
             },
             "pattern": {
              "fillmode": "overlay",
              "size": 10,
              "solidity": 0.2
             }
            },
            "type": "barpolar"
           }
          ],
          "carpet": [
           {
            "aaxis": {
             "endlinecolor": "#2a3f5f",
             "gridcolor": "white",
             "linecolor": "white",
             "minorgridcolor": "white",
             "startlinecolor": "#2a3f5f"
            },
            "baxis": {
             "endlinecolor": "#2a3f5f",
             "gridcolor": "white",
             "linecolor": "white",
             "minorgridcolor": "white",
             "startlinecolor": "#2a3f5f"
            },
            "type": "carpet"
           }
          ],
          "choropleth": [
           {
            "colorbar": {
             "outlinewidth": 0,
             "ticks": ""
            },
            "type": "choropleth"
           }
          ],
          "contour": [
           {
            "colorbar": {
             "outlinewidth": 0,
             "ticks": ""
            },
            "colorscale": [
             [
              0,
              "#0d0887"
             ],
             [
              0.1111111111111111,
              "#46039f"
             ],
             [
              0.2222222222222222,
              "#7201a8"
             ],
             [
              0.3333333333333333,
              "#9c179e"
             ],
             [
              0.4444444444444444,
              "#bd3786"
             ],
             [
              0.5555555555555556,
              "#d8576b"
             ],
             [
              0.6666666666666666,
              "#ed7953"
             ],
             [
              0.7777777777777778,
              "#fb9f3a"
             ],
             [
              0.8888888888888888,
              "#fdca26"
             ],
             [
              1,
              "#f0f921"
             ]
            ],
            "type": "contour"
           }
          ],
          "contourcarpet": [
           {
            "colorbar": {
             "outlinewidth": 0,
             "ticks": ""
            },
            "type": "contourcarpet"
           }
          ],
          "heatmap": [
           {
            "colorbar": {
             "outlinewidth": 0,
             "ticks": ""
            },
            "colorscale": [
             [
              0,
              "#0d0887"
             ],
             [
              0.1111111111111111,
              "#46039f"
             ],
             [
              0.2222222222222222,
              "#7201a8"
             ],
             [
              0.3333333333333333,
              "#9c179e"
             ],
             [
              0.4444444444444444,
              "#bd3786"
             ],
             [
              0.5555555555555556,
              "#d8576b"
             ],
             [
              0.6666666666666666,
              "#ed7953"
             ],
             [
              0.7777777777777778,
              "#fb9f3a"
             ],
             [
              0.8888888888888888,
              "#fdca26"
             ],
             [
              1,
              "#f0f921"
             ]
            ],
            "type": "heatmap"
           }
          ],
          "histogram": [
           {
            "marker": {
             "pattern": {
              "fillmode": "overlay",
              "size": 10,
              "solidity": 0.2
             }
            },
            "type": "histogram"
           }
          ],
          "histogram2d": [
           {
            "colorbar": {
             "outlinewidth": 0,
             "ticks": ""
            },
            "colorscale": [
             [
              0,
              "#0d0887"
             ],
             [
              0.1111111111111111,
              "#46039f"
             ],
             [
              0.2222222222222222,
              "#7201a8"
             ],
             [
              0.3333333333333333,
              "#9c179e"
             ],
             [
              0.4444444444444444,
              "#bd3786"
             ],
             [
              0.5555555555555556,
              "#d8576b"
             ],
             [
              0.6666666666666666,
              "#ed7953"
             ],
             [
              0.7777777777777778,
              "#fb9f3a"
             ],
             [
              0.8888888888888888,
              "#fdca26"
             ],
             [
              1,
              "#f0f921"
             ]
            ],
            "type": "histogram2d"
           }
          ],
          "histogram2dcontour": [
           {
            "colorbar": {
             "outlinewidth": 0,
             "ticks": ""
            },
            "colorscale": [
             [
              0,
              "#0d0887"
             ],
             [
              0.1111111111111111,
              "#46039f"
             ],
             [
              0.2222222222222222,
              "#7201a8"
             ],
             [
              0.3333333333333333,
              "#9c179e"
             ],
             [
              0.4444444444444444,
              "#bd3786"
             ],
             [
              0.5555555555555556,
              "#d8576b"
             ],
             [
              0.6666666666666666,
              "#ed7953"
             ],
             [
              0.7777777777777778,
              "#fb9f3a"
             ],
             [
              0.8888888888888888,
              "#fdca26"
             ],
             [
              1,
              "#f0f921"
             ]
            ],
            "type": "histogram2dcontour"
           }
          ],
          "mesh3d": [
           {
            "colorbar": {
             "outlinewidth": 0,
             "ticks": ""
            },
            "type": "mesh3d"
           }
          ],
          "parcoords": [
           {
            "line": {
             "colorbar": {
              "outlinewidth": 0,
              "ticks": ""
             }
            },
            "type": "parcoords"
           }
          ],
          "pie": [
           {
            "automargin": true,
            "type": "pie"
           }
          ],
          "scatter": [
           {
            "fillpattern": {
             "fillmode": "overlay",
             "size": 10,
             "solidity": 0.2
            },
            "type": "scatter"
           }
          ],
          "scatter3d": [
           {
            "line": {
             "colorbar": {
              "outlinewidth": 0,
              "ticks": ""
             }
            },
            "marker": {
             "colorbar": {
              "outlinewidth": 0,
              "ticks": ""
             }
            },
            "type": "scatter3d"
           }
          ],
          "scattercarpet": [
           {
            "marker": {
             "colorbar": {
              "outlinewidth": 0,
              "ticks": ""
             }
            },
            "type": "scattercarpet"
           }
          ],
          "scattergeo": [
           {
            "marker": {
             "colorbar": {
              "outlinewidth": 0,
              "ticks": ""
             }
            },
            "type": "scattergeo"
           }
          ],
          "scattergl": [
           {
            "marker": {
             "colorbar": {
              "outlinewidth": 0,
              "ticks": ""
             }
            },
            "type": "scattergl"
           }
          ],
          "scattermap": [
           {
            "marker": {
             "colorbar": {
              "outlinewidth": 0,
              "ticks": ""
             }
            },
            "type": "scattermap"
           }
          ],
          "scattermapbox": [
           {
            "marker": {
             "colorbar": {
              "outlinewidth": 0,
              "ticks": ""
             }
            },
            "type": "scattermapbox"
           }
          ],
          "scatterpolar": [
           {
            "marker": {
             "colorbar": {
              "outlinewidth": 0,
              "ticks": ""
             }
            },
            "type": "scatterpolar"
           }
          ],
          "scatterpolargl": [
           {
            "marker": {
             "colorbar": {
              "outlinewidth": 0,
              "ticks": ""
             }
            },
            "type": "scatterpolargl"
           }
          ],
          "scatterternary": [
           {
            "marker": {
             "colorbar": {
              "outlinewidth": 0,
              "ticks": ""
             }
            },
            "type": "scatterternary"
           }
          ],
          "surface": [
           {
            "colorbar": {
             "outlinewidth": 0,
             "ticks": ""
            },
            "colorscale": [
             [
              0,
              "#0d0887"
             ],
             [
              0.1111111111111111,
              "#46039f"
             ],
             [
              0.2222222222222222,
              "#7201a8"
             ],
             [
              0.3333333333333333,
              "#9c179e"
             ],
             [
              0.4444444444444444,
              "#bd3786"
             ],
             [
              0.5555555555555556,
              "#d8576b"
             ],
             [
              0.6666666666666666,
              "#ed7953"
             ],
             [
              0.7777777777777778,
              "#fb9f3a"
             ],
             [
              0.8888888888888888,
              "#fdca26"
             ],
             [
              1,
              "#f0f921"
             ]
            ],
            "type": "surface"
           }
          ],
          "table": [
           {
            "cells": {
             "fill": {
              "color": "#EBF0F8"
             },
             "line": {
              "color": "white"
             }
            },
            "header": {
             "fill": {
              "color": "#C8D4E3"
             },
             "line": {
              "color": "white"
             }
            },
            "type": "table"
           }
          ]
         },
         "layout": {
          "annotationdefaults": {
           "arrowcolor": "#2a3f5f",
           "arrowhead": 0,
           "arrowwidth": 1
          },
          "autotypenumbers": "strict",
          "coloraxis": {
           "colorbar": {
            "outlinewidth": 0,
            "ticks": ""
           }
          },
          "colorscale": {
           "diverging": [
            [
             0,
             "#8e0152"
            ],
            [
             0.1,
             "#c51b7d"
            ],
            [
             0.2,
             "#de77ae"
            ],
            [
             0.3,
             "#f1b6da"
            ],
            [
             0.4,
             "#fde0ef"
            ],
            [
             0.5,
             "#f7f7f7"
            ],
            [
             0.6,
             "#e6f5d0"
            ],
            [
             0.7,
             "#b8e186"
            ],
            [
             0.8,
             "#7fbc41"
            ],
            [
             0.9,
             "#4d9221"
            ],
            [
             1,
             "#276419"
            ]
           ],
           "sequential": [
            [
             0,
             "#0d0887"
            ],
            [
             0.1111111111111111,
             "#46039f"
            ],
            [
             0.2222222222222222,
             "#7201a8"
            ],
            [
             0.3333333333333333,
             "#9c179e"
            ],
            [
             0.4444444444444444,
             "#bd3786"
            ],
            [
             0.5555555555555556,
             "#d8576b"
            ],
            [
             0.6666666666666666,
             "#ed7953"
            ],
            [
             0.7777777777777778,
             "#fb9f3a"
            ],
            [
             0.8888888888888888,
             "#fdca26"
            ],
            [
             1,
             "#f0f921"
            ]
           ],
           "sequentialminus": [
            [
             0,
             "#0d0887"
            ],
            [
             0.1111111111111111,
             "#46039f"
            ],
            [
             0.2222222222222222,
             "#7201a8"
            ],
            [
             0.3333333333333333,
             "#9c179e"
            ],
            [
             0.4444444444444444,
             "#bd3786"
            ],
            [
             0.5555555555555556,
             "#d8576b"
            ],
            [
             0.6666666666666666,
             "#ed7953"
            ],
            [
             0.7777777777777778,
             "#fb9f3a"
            ],
            [
             0.8888888888888888,
             "#fdca26"
            ],
            [
             1,
             "#f0f921"
            ]
           ]
          },
          "colorway": [
           "#636efa",
           "#EF553B",
           "#00cc96",
           "#ab63fa",
           "#FFA15A",
           "#19d3f3",
           "#FF6692",
           "#B6E880",
           "#FF97FF",
           "#FECB52"
          ],
          "font": {
           "color": "#2a3f5f"
          },
          "geo": {
           "bgcolor": "white",
           "lakecolor": "white",
           "landcolor": "#E5ECF6",
           "showlakes": true,
           "showland": true,
           "subunitcolor": "white"
          },
          "hoverlabel": {
           "align": "left"
          },
          "hovermode": "closest",
          "mapbox": {
           "style": "light"
          },
          "paper_bgcolor": "white",
          "plot_bgcolor": "#E5ECF6",
          "polar": {
           "angularaxis": {
            "gridcolor": "white",
            "linecolor": "white",
            "ticks": ""
           },
           "bgcolor": "#E5ECF6",
           "radialaxis": {
            "gridcolor": "white",
            "linecolor": "white",
            "ticks": ""
           }
          },
          "scene": {
           "xaxis": {
            "backgroundcolor": "#E5ECF6",
            "gridcolor": "white",
            "gridwidth": 2,
            "linecolor": "white",
            "showbackground": true,
            "ticks": "",
            "zerolinecolor": "white"
           },
           "yaxis": {
            "backgroundcolor": "#E5ECF6",
            "gridcolor": "white",
            "gridwidth": 2,
            "linecolor": "white",
            "showbackground": true,
            "ticks": "",
            "zerolinecolor": "white"
           },
           "zaxis": {
            "backgroundcolor": "#E5ECF6",
            "gridcolor": "white",
            "gridwidth": 2,
            "linecolor": "white",
            "showbackground": true,
            "ticks": "",
            "zerolinecolor": "white"
           }
          },
          "shapedefaults": {
           "line": {
            "color": "#2a3f5f"
           }
          },
          "ternary": {
           "aaxis": {
            "gridcolor": "white",
            "linecolor": "white",
            "ticks": ""
           },
           "baxis": {
            "gridcolor": "white",
            "linecolor": "white",
            "ticks": ""
           },
           "bgcolor": "#E5ECF6",
           "caxis": {
            "gridcolor": "white",
            "linecolor": "white",
            "ticks": ""
           }
          },
          "title": {
           "x": 0.05
          },
          "xaxis": {
           "automargin": true,
           "gridcolor": "white",
           "linecolor": "white",
           "ticks": "",
           "title": {
            "standoff": 15
           },
           "zerolinecolor": "white",
           "zerolinewidth": 2
          },
          "yaxis": {
           "automargin": true,
           "gridcolor": "white",
           "linecolor": "white",
           "ticks": "",
           "title": {
            "standoff": 15
           },
           "zerolinecolor": "white",
           "zerolinewidth": 2
          }
         }
        }
       }
      }
     },
     "metadata": {},
     "output_type": "display_data"
    }
   ],
   "source": [
    "plot_voxels(blokks.loc[12, \"voxels\"])"
   ]
  },
  {
   "cell_type": "code",
   "execution_count": 2,
   "id": "e1610c15",
   "metadata": {},
   "outputs": [
    {
     "data": {
      "text/plain": [
       "id\n",
       "1     [[[0, 0, 0]], [[0, 0, 1]], [[0, 0, 2]], [[0, 1...\n",
       "2     [[[0, 0, 0], [0, 0, 1]], [[0, 0, 0], [0, 1, 0]...\n",
       "3     [[[0, 0, 0], [0, 0, 1], [0, 0, 2]], [[0, 0, 0]...\n",
       "4     [[[0, 0, 0], [0, 0, 1], [0, 0, 2]], [[0, 0, 0]...\n",
       "5     [[[0, 0, 0], [0, 0, 1], [0, 1, 1], [0, 1, 2]],...\n",
       "6                                                   NaN\n",
       "7                                                   NaN\n",
       "8                                                   NaN\n",
       "9                                                   NaN\n",
       "10                                                  NaN\n",
       "11                                                  NaN\n",
       "12                                                  NaN\n",
       "13                                                  NaN\n",
       "14                                                  NaN\n",
       "15                                                  NaN\n",
       "16                                                  NaN\n",
       "17                                                  NaN\n",
       "18                                                  NaN\n",
       "19                                                  NaN\n",
       "20                                                  NaN\n",
       "21                                                  NaN\n",
       "22                                                  NaN\n",
       "23                                                  NaN\n",
       "24                                                  NaN\n",
       "25                                                  NaN\n",
       "26                                                  NaN\n",
       "27                                                  NaN\n",
       "28                                                  NaN\n",
       "29                                                  NaN\n",
       "30                                                  NaN\n",
       "31                                                  NaN\n",
       "32                                                  NaN\n",
       "33                                                  NaN\n",
       "34                                                  NaN\n",
       "35                                                  NaN\n",
       "36                                                  NaN\n",
       "Name: all_placements_3, dtype: object"
      ]
     },
     "execution_count": 2,
     "metadata": {},
     "output_type": "execute_result"
    }
   ],
   "source": [
    "blokks['all_placements_3']"
   ]
  },
  {
   "cell_type": "code",
   "execution_count": 11,
   "id": "2ca5ff78",
   "metadata": {},
   "outputs": [
    {
     "data": {
      "application/vnd.plotly.v1+json": {
       "config": {
        "plotlyServerURL": "https://plot.ly"
       },
       "data": [
        {
         "alphahull": 1,
         "color": "black",
         "opacity": 0.4,
         "showscale": false,
         "type": "mesh3d",
         "x": [
          0.03999999999999998,
          0.96,
          0.96,
          0.03999999999999998,
          0.03999999999999998,
          0.96,
          0.96,
          0.03999999999999998
         ],
         "y": [
          0.03999999999999998,
          0.03999999999999998,
          0.96,
          0.96,
          0.03999999999999998,
          0.03999999999999998,
          0.96,
          0.96
         ],
         "z": [
          0.03999999999999998,
          0.03999999999999998,
          0.03999999999999998,
          0.03999999999999998,
          0.96,
          0.96,
          0.96,
          0.96
         ]
        },
        {
         "alphahull": 1,
         "color": "black",
         "opacity": 0.4,
         "showscale": false,
         "type": "mesh3d",
         "x": [
          1.04,
          1.96,
          1.96,
          1.04,
          1.04,
          1.96,
          1.96,
          1.04
         ],
         "y": [
          0.03999999999999998,
          0.03999999999999998,
          0.96,
          0.96,
          0.03999999999999998,
          0.03999999999999998,
          0.96,
          0.96
         ],
         "z": [
          0.03999999999999998,
          0.03999999999999998,
          0.03999999999999998,
          0.03999999999999998,
          0.96,
          0.96,
          0.96,
          0.96
         ]
        },
        {
         "alphahull": 1,
         "color": "black",
         "opacity": 0.4,
         "showscale": false,
         "type": "mesh3d",
         "x": [
          2.04,
          2.96,
          2.96,
          2.04,
          2.04,
          2.96,
          2.96,
          2.04
         ],
         "y": [
          0.03999999999999998,
          0.03999999999999998,
          0.96,
          0.96,
          0.03999999999999998,
          0.03999999999999998,
          0.96,
          0.96
         ],
         "z": [
          0.03999999999999998,
          0.03999999999999998,
          0.03999999999999998,
          0.03999999999999998,
          0.96,
          0.96,
          0.96,
          0.96
         ]
        },
        {
         "alphahull": 1,
         "color": "black",
         "opacity": 0.4,
         "showscale": false,
         "type": "mesh3d",
         "x": [
          2.04,
          2.96,
          2.96,
          2.04,
          2.04,
          2.96,
          2.96,
          2.04
         ],
         "y": [
          1.04,
          1.04,
          1.96,
          1.96,
          1.04,
          1.04,
          1.96,
          1.96
         ],
         "z": [
          0.03999999999999998,
          0.03999999999999998,
          0.03999999999999998,
          0.03999999999999998,
          0.96,
          0.96,
          0.96,
          0.96
         ]
        },
        {
         "alphahull": 1,
         "color": "black",
         "opacity": 0.4,
         "showscale": false,
         "type": "mesh3d",
         "x": [
          3.04,
          3.96,
          3.96,
          3.04,
          3.04,
          3.96,
          3.96,
          3.04
         ],
         "y": [
          1.04,
          1.04,
          1.96,
          1.96,
          1.04,
          1.04,
          1.96,
          1.96
         ],
         "z": [
          0.03999999999999998,
          0.03999999999999998,
          0.03999999999999998,
          0.03999999999999998,
          0.96,
          0.96,
          0.96,
          0.96
         ]
        },
        {
         "alphahull": 0,
         "color": "lightgray",
         "opacity": 0.1,
         "showscale": false,
         "type": "mesh3d",
         "x": [
          0,
          3,
          3,
          0,
          0,
          3,
          3,
          0
         ],
         "y": [
          0,
          0,
          3,
          3,
          0,
          0,
          3,
          3
         ],
         "z": [
          0,
          0,
          0,
          0,
          3,
          3,
          3,
          3
         ]
        }
       ],
       "layout": {
        "margin": {
         "b": 0,
         "l": 0,
         "r": 0,
         "t": 0
        },
        "scene": {
         "aspectratio": {
          "x": 1,
          "y": 1,
          "z": 1
         },
         "xaxis": {
          "range": [
           0,
           3
          ],
          "title": {
           "text": "X"
          }
         },
         "yaxis": {
          "range": [
           0,
           3
          ],
          "title": {
           "text": "Y"
          }
         },
         "zaxis": {
          "range": [
           0,
           3
          ],
          "title": {
           "text": "Z"
          }
         }
        },
        "template": {
         "data": {
          "bar": [
           {
            "error_x": {
             "color": "#2a3f5f"
            },
            "error_y": {
             "color": "#2a3f5f"
            },
            "marker": {
             "line": {
              "color": "#E5ECF6",
              "width": 0.5
             },
             "pattern": {
              "fillmode": "overlay",
              "size": 10,
              "solidity": 0.2
             }
            },
            "type": "bar"
           }
          ],
          "barpolar": [
           {
            "marker": {
             "line": {
              "color": "#E5ECF6",
              "width": 0.5
             },
             "pattern": {
              "fillmode": "overlay",
              "size": 10,
              "solidity": 0.2
             }
            },
            "type": "barpolar"
           }
          ],
          "carpet": [
           {
            "aaxis": {
             "endlinecolor": "#2a3f5f",
             "gridcolor": "white",
             "linecolor": "white",
             "minorgridcolor": "white",
             "startlinecolor": "#2a3f5f"
            },
            "baxis": {
             "endlinecolor": "#2a3f5f",
             "gridcolor": "white",
             "linecolor": "white",
             "minorgridcolor": "white",
             "startlinecolor": "#2a3f5f"
            },
            "type": "carpet"
           }
          ],
          "choropleth": [
           {
            "colorbar": {
             "outlinewidth": 0,
             "ticks": ""
            },
            "type": "choropleth"
           }
          ],
          "contour": [
           {
            "colorbar": {
             "outlinewidth": 0,
             "ticks": ""
            },
            "colorscale": [
             [
              0,
              "#0d0887"
             ],
             [
              0.1111111111111111,
              "#46039f"
             ],
             [
              0.2222222222222222,
              "#7201a8"
             ],
             [
              0.3333333333333333,
              "#9c179e"
             ],
             [
              0.4444444444444444,
              "#bd3786"
             ],
             [
              0.5555555555555556,
              "#d8576b"
             ],
             [
              0.6666666666666666,
              "#ed7953"
             ],
             [
              0.7777777777777778,
              "#fb9f3a"
             ],
             [
              0.8888888888888888,
              "#fdca26"
             ],
             [
              1,
              "#f0f921"
             ]
            ],
            "type": "contour"
           }
          ],
          "contourcarpet": [
           {
            "colorbar": {
             "outlinewidth": 0,
             "ticks": ""
            },
            "type": "contourcarpet"
           }
          ],
          "heatmap": [
           {
            "colorbar": {
             "outlinewidth": 0,
             "ticks": ""
            },
            "colorscale": [
             [
              0,
              "#0d0887"
             ],
             [
              0.1111111111111111,
              "#46039f"
             ],
             [
              0.2222222222222222,
              "#7201a8"
             ],
             [
              0.3333333333333333,
              "#9c179e"
             ],
             [
              0.4444444444444444,
              "#bd3786"
             ],
             [
              0.5555555555555556,
              "#d8576b"
             ],
             [
              0.6666666666666666,
              "#ed7953"
             ],
             [
              0.7777777777777778,
              "#fb9f3a"
             ],
             [
              0.8888888888888888,
              "#fdca26"
             ],
             [
              1,
              "#f0f921"
             ]
            ],
            "type": "heatmap"
           }
          ],
          "histogram": [
           {
            "marker": {
             "pattern": {
              "fillmode": "overlay",
              "size": 10,
              "solidity": 0.2
             }
            },
            "type": "histogram"
           }
          ],
          "histogram2d": [
           {
            "colorbar": {
             "outlinewidth": 0,
             "ticks": ""
            },
            "colorscale": [
             [
              0,
              "#0d0887"
             ],
             [
              0.1111111111111111,
              "#46039f"
             ],
             [
              0.2222222222222222,
              "#7201a8"
             ],
             [
              0.3333333333333333,
              "#9c179e"
             ],
             [
              0.4444444444444444,
              "#bd3786"
             ],
             [
              0.5555555555555556,
              "#d8576b"
             ],
             [
              0.6666666666666666,
              "#ed7953"
             ],
             [
              0.7777777777777778,
              "#fb9f3a"
             ],
             [
              0.8888888888888888,
              "#fdca26"
             ],
             [
              1,
              "#f0f921"
             ]
            ],
            "type": "histogram2d"
           }
          ],
          "histogram2dcontour": [
           {
            "colorbar": {
             "outlinewidth": 0,
             "ticks": ""
            },
            "colorscale": [
             [
              0,
              "#0d0887"
             ],
             [
              0.1111111111111111,
              "#46039f"
             ],
             [
              0.2222222222222222,
              "#7201a8"
             ],
             [
              0.3333333333333333,
              "#9c179e"
             ],
             [
              0.4444444444444444,
              "#bd3786"
             ],
             [
              0.5555555555555556,
              "#d8576b"
             ],
             [
              0.6666666666666666,
              "#ed7953"
             ],
             [
              0.7777777777777778,
              "#fb9f3a"
             ],
             [
              0.8888888888888888,
              "#fdca26"
             ],
             [
              1,
              "#f0f921"
             ]
            ],
            "type": "histogram2dcontour"
           }
          ],
          "mesh3d": [
           {
            "colorbar": {
             "outlinewidth": 0,
             "ticks": ""
            },
            "type": "mesh3d"
           }
          ],
          "parcoords": [
           {
            "line": {
             "colorbar": {
              "outlinewidth": 0,
              "ticks": ""
             }
            },
            "type": "parcoords"
           }
          ],
          "pie": [
           {
            "automargin": true,
            "type": "pie"
           }
          ],
          "scatter": [
           {
            "fillpattern": {
             "fillmode": "overlay",
             "size": 10,
             "solidity": 0.2
            },
            "type": "scatter"
           }
          ],
          "scatter3d": [
           {
            "line": {
             "colorbar": {
              "outlinewidth": 0,
              "ticks": ""
             }
            },
            "marker": {
             "colorbar": {
              "outlinewidth": 0,
              "ticks": ""
             }
            },
            "type": "scatter3d"
           }
          ],
          "scattercarpet": [
           {
            "marker": {
             "colorbar": {
              "outlinewidth": 0,
              "ticks": ""
             }
            },
            "type": "scattercarpet"
           }
          ],
          "scattergeo": [
           {
            "marker": {
             "colorbar": {
              "outlinewidth": 0,
              "ticks": ""
             }
            },
            "type": "scattergeo"
           }
          ],
          "scattergl": [
           {
            "marker": {
             "colorbar": {
              "outlinewidth": 0,
              "ticks": ""
             }
            },
            "type": "scattergl"
           }
          ],
          "scattermap": [
           {
            "marker": {
             "colorbar": {
              "outlinewidth": 0,
              "ticks": ""
             }
            },
            "type": "scattermap"
           }
          ],
          "scattermapbox": [
           {
            "marker": {
             "colorbar": {
              "outlinewidth": 0,
              "ticks": ""
             }
            },
            "type": "scattermapbox"
           }
          ],
          "scatterpolar": [
           {
            "marker": {
             "colorbar": {
              "outlinewidth": 0,
              "ticks": ""
             }
            },
            "type": "scatterpolar"
           }
          ],
          "scatterpolargl": [
           {
            "marker": {
             "colorbar": {
              "outlinewidth": 0,
              "ticks": ""
             }
            },
            "type": "scatterpolargl"
           }
          ],
          "scatterternary": [
           {
            "marker": {
             "colorbar": {
              "outlinewidth": 0,
              "ticks": ""
             }
            },
            "type": "scatterternary"
           }
          ],
          "surface": [
           {
            "colorbar": {
             "outlinewidth": 0,
             "ticks": ""
            },
            "colorscale": [
             [
              0,
              "#0d0887"
             ],
             [
              0.1111111111111111,
              "#46039f"
             ],
             [
              0.2222222222222222,
              "#7201a8"
             ],
             [
              0.3333333333333333,
              "#9c179e"
             ],
             [
              0.4444444444444444,
              "#bd3786"
             ],
             [
              0.5555555555555556,
              "#d8576b"
             ],
             [
              0.6666666666666666,
              "#ed7953"
             ],
             [
              0.7777777777777778,
              "#fb9f3a"
             ],
             [
              0.8888888888888888,
              "#fdca26"
             ],
             [
              1,
              "#f0f921"
             ]
            ],
            "type": "surface"
           }
          ],
          "table": [
           {
            "cells": {
             "fill": {
              "color": "#EBF0F8"
             },
             "line": {
              "color": "white"
             }
            },
            "header": {
             "fill": {
              "color": "#C8D4E3"
             },
             "line": {
              "color": "white"
             }
            },
            "type": "table"
           }
          ]
         },
         "layout": {
          "annotationdefaults": {
           "arrowcolor": "#2a3f5f",
           "arrowhead": 0,
           "arrowwidth": 1
          },
          "autotypenumbers": "strict",
          "coloraxis": {
           "colorbar": {
            "outlinewidth": 0,
            "ticks": ""
           }
          },
          "colorscale": {
           "diverging": [
            [
             0,
             "#8e0152"
            ],
            [
             0.1,
             "#c51b7d"
            ],
            [
             0.2,
             "#de77ae"
            ],
            [
             0.3,
             "#f1b6da"
            ],
            [
             0.4,
             "#fde0ef"
            ],
            [
             0.5,
             "#f7f7f7"
            ],
            [
             0.6,
             "#e6f5d0"
            ],
            [
             0.7,
             "#b8e186"
            ],
            [
             0.8,
             "#7fbc41"
            ],
            [
             0.9,
             "#4d9221"
            ],
            [
             1,
             "#276419"
            ]
           ],
           "sequential": [
            [
             0,
             "#0d0887"
            ],
            [
             0.1111111111111111,
             "#46039f"
            ],
            [
             0.2222222222222222,
             "#7201a8"
            ],
            [
             0.3333333333333333,
             "#9c179e"
            ],
            [
             0.4444444444444444,
             "#bd3786"
            ],
            [
             0.5555555555555556,
             "#d8576b"
            ],
            [
             0.6666666666666666,
             "#ed7953"
            ],
            [
             0.7777777777777778,
             "#fb9f3a"
            ],
            [
             0.8888888888888888,
             "#fdca26"
            ],
            [
             1,
             "#f0f921"
            ]
           ],
           "sequentialminus": [
            [
             0,
             "#0d0887"
            ],
            [
             0.1111111111111111,
             "#46039f"
            ],
            [
             0.2222222222222222,
             "#7201a8"
            ],
            [
             0.3333333333333333,
             "#9c179e"
            ],
            [
             0.4444444444444444,
             "#bd3786"
            ],
            [
             0.5555555555555556,
             "#d8576b"
            ],
            [
             0.6666666666666666,
             "#ed7953"
            ],
            [
             0.7777777777777778,
             "#fb9f3a"
            ],
            [
             0.8888888888888888,
             "#fdca26"
            ],
            [
             1,
             "#f0f921"
            ]
           ]
          },
          "colorway": [
           "#636efa",
           "#EF553B",
           "#00cc96",
           "#ab63fa",
           "#FFA15A",
           "#19d3f3",
           "#FF6692",
           "#B6E880",
           "#FF97FF",
           "#FECB52"
          ],
          "font": {
           "color": "#2a3f5f"
          },
          "geo": {
           "bgcolor": "white",
           "lakecolor": "white",
           "landcolor": "#E5ECF6",
           "showlakes": true,
           "showland": true,
           "subunitcolor": "white"
          },
          "hoverlabel": {
           "align": "left"
          },
          "hovermode": "closest",
          "mapbox": {
           "style": "light"
          },
          "paper_bgcolor": "white",
          "plot_bgcolor": "#E5ECF6",
          "polar": {
           "angularaxis": {
            "gridcolor": "white",
            "linecolor": "white",
            "ticks": ""
           },
           "bgcolor": "#E5ECF6",
           "radialaxis": {
            "gridcolor": "white",
            "linecolor": "white",
            "ticks": ""
           }
          },
          "scene": {
           "xaxis": {
            "backgroundcolor": "#E5ECF6",
            "gridcolor": "white",
            "gridwidth": 2,
            "linecolor": "white",
            "showbackground": true,
            "ticks": "",
            "zerolinecolor": "white"
           },
           "yaxis": {
            "backgroundcolor": "#E5ECF6",
            "gridcolor": "white",
            "gridwidth": 2,
            "linecolor": "white",
            "showbackground": true,
            "ticks": "",
            "zerolinecolor": "white"
           },
           "zaxis": {
            "backgroundcolor": "#E5ECF6",
            "gridcolor": "white",
            "gridwidth": 2,
            "linecolor": "white",
            "showbackground": true,
            "ticks": "",
            "zerolinecolor": "white"
           }
          },
          "shapedefaults": {
           "line": {
            "color": "#2a3f5f"
           }
          },
          "ternary": {
           "aaxis": {
            "gridcolor": "white",
            "linecolor": "white",
            "ticks": ""
           },
           "baxis": {
            "gridcolor": "white",
            "linecolor": "white",
            "ticks": ""
           },
           "bgcolor": "#E5ECF6",
           "caxis": {
            "gridcolor": "white",
            "linecolor": "white",
            "ticks": ""
           }
          },
          "title": {
           "x": 0.05
          },
          "xaxis": {
           "automargin": true,
           "gridcolor": "white",
           "linecolor": "white",
           "ticks": "",
           "title": {
            "standoff": 15
           },
           "zerolinecolor": "white",
           "zerolinewidth": 2
          },
          "yaxis": {
           "automargin": true,
           "gridcolor": "white",
           "linecolor": "white",
           "ticks": "",
           "title": {
            "standoff": 15
           },
           "zerolinecolor": "white",
           "zerolinewidth": 2
          }
         }
        }
       }
      }
     },
     "metadata": {},
     "output_type": "display_data"
    },
    {
     "ename": "ValueError",
     "evalue": "all the input arrays must have same number of dimensions, but the array at index 0 has 3 dimension(s) and the array at index 1 has 1 dimension(s)",
     "output_type": "error",
     "traceback": [
      "\u001b[31m---------------------------------------------------------------------------\u001b[39m",
      "\u001b[31mValueError\u001b[39m                                Traceback (most recent call last)",
      "\u001b[36mCell\u001b[39m\u001b[36m \u001b[39m\u001b[32mIn[11]\u001b[39m\u001b[32m, line 10\u001b[39m\n\u001b[32m      6\u001b[39m \u001b[38;5;66;03m# there should be 54 unique placements of id=2 in a 3x3 game!\u001b[39;00m\n\u001b[32m      7\u001b[39m \u001b[38;5;66;03m# id=12, the L shaped one, introduces a problem in 3x3 but not 4x4 ---\u001b[39;00m\n\u001b[32m      9\u001b[39m all_rotations = generate_rotations(voxels=example_shape)\n\u001b[32m---> \u001b[39m\u001b[32m10\u001b[39m all_placements = \u001b[43mgenerate_all_placements\u001b[49m\u001b[43m(\u001b[49m\u001b[43mvoxels\u001b[49m\u001b[43m=\u001b[49m\u001b[43mexample_shape\u001b[49m\u001b[43m,\u001b[49m\u001b[43m \u001b[49m\u001b[43mn\u001b[49m\u001b[43m=\u001b[49m\u001b[43mexample_n\u001b[49m\u001b[43m)\u001b[49m\n",
      "\u001b[36mFile \u001b[39m\u001b[32m~/repos/blokk-solver/blokk_solver/combinatorics.py:108\u001b[39m, in \u001b[36mgenerate_all_placements\u001b[39m\u001b[34m(voxels, n)\u001b[39m\n\u001b[32m    106\u001b[39m \u001b[38;5;28;01mfor\u001b[39;00m rotation \u001b[38;5;129;01min\u001b[39;00m rotations:\n\u001b[32m    107\u001b[39m     translations = generate_translations(rotation, n=n)\n\u001b[32m--> \u001b[39m\u001b[32m108\u001b[39m     placements = \u001b[43mnp\u001b[49m\u001b[43m.\u001b[49m\u001b[43mconcatenate\u001b[49m\u001b[43m(\u001b[49m\u001b[43m[\u001b[49m\u001b[43mplacements\u001b[49m\u001b[43m,\u001b[49m\u001b[43m \u001b[49m\u001b[43mtranslations\u001b[49m\u001b[43m]\u001b[49m\u001b[43m,\u001b[49m\u001b[43m \u001b[49m\u001b[43maxis\u001b[49m\u001b[43m=\u001b[49m\u001b[32;43m0\u001b[39;49m\u001b[43m)\u001b[49m\n\u001b[32m    109\u001b[39m unique_placements = np.unique(placements, axis=\u001b[32m0\u001b[39m)\n\u001b[32m    110\u001b[39m \u001b[38;5;28mprint\u001b[39m(\n\u001b[32m    111\u001b[39m     \u001b[33mf\u001b[39m\u001b[33m\"\u001b[39m\u001b[33mgenerated \u001b[39m\u001b[38;5;132;01m{\u001b[39;00m\u001b[38;5;28mlen\u001b[39m(rotations)\u001b[38;5;132;01m}\u001b[39;00m\u001b[33m rotations = \u001b[39m\u001b[38;5;132;01m{\u001b[39;00m\u001b[38;5;28mlen\u001b[39m(placements)\u001b[38;5;132;01m}\u001b[39;00m\u001b[33m placements = \u001b[39m\u001b[38;5;132;01m{\u001b[39;00m\u001b[38;5;28mlen\u001b[39m(unique_placements)\u001b[38;5;132;01m}\u001b[39;00m\u001b[33m unique placements\u001b[39m\u001b[33m\"\u001b[39m\n\u001b[32m    112\u001b[39m )\n",
      "\u001b[31mValueError\u001b[39m: all the input arrays must have same number of dimensions, but the array at index 0 has 3 dimension(s) and the array at index 1 has 1 dimension(s)"
     ]
    }
   ],
   "source": [
    "\n",
    "example_shape = blokks.loc[12, \"voxels\"]  # id=2\n",
    "example_n = 3\n",
    "fig = plot_voxels(voxels=example_shape, n=example_n, color=\"black\")\n",
    "fig.show()\n",
    "\n",
    "# there should be 54 unique placements of id=2 in a 3x3 game!\n",
    "# id=12, the L shaped one, introduces a problem in 3x3 but not 4x4 ---\n",
    "\n",
    "all_rotations = generate_rotations(voxels=example_shape)\n",
    "all_placements = generate_all_placements(voxels=example_shape, n=example_n)"
   ]
  },
  {
   "cell_type": "code",
   "execution_count": 12,
   "id": "d088878e",
   "metadata": {},
   "outputs": [
    {
     "data": {
      "application/vnd.plotly.v1+json": {
       "config": {
        "plotlyServerURL": "https://plot.ly"
       },
       "data": [
        {
         "alphahull": 1,
         "color": "#636EFA",
         "opacity": 0.9,
         "showscale": false,
         "type": "mesh3d",
         "x": [
          0.03999999999999998,
          0.96,
          0.96,
          0.03999999999999998,
          0.03999999999999998,
          0.96,
          0.96,
          0.03999999999999998
         ],
         "y": [
          0.03999999999999998,
          0.03999999999999998,
          0.96,
          0.96,
          0.03999999999999998,
          0.03999999999999998,
          0.96,
          0.96
         ],
         "z": [
          0.03999999999999998,
          0.03999999999999998,
          0.03999999999999998,
          0.03999999999999998,
          0.96,
          0.96,
          0.96,
          0.96
         ]
        },
        {
         "alphahull": 1,
         "color": "#636EFA",
         "opacity": 0.9,
         "showscale": false,
         "type": "mesh3d",
         "x": [
          0.03999999999999998,
          0.96,
          0.96,
          0.03999999999999998,
          0.03999999999999998,
          0.96,
          0.96,
          0.03999999999999998
         ],
         "y": [
          0.03999999999999998,
          0.03999999999999998,
          0.96,
          0.96,
          0.03999999999999998,
          0.03999999999999998,
          0.96,
          0.96
         ],
         "z": [
          1.04,
          1.04,
          1.04,
          1.04,
          1.96,
          1.96,
          1.96,
          1.96
         ]
        },
        {
         "alphahull": 1,
         "color": "#636EFA",
         "opacity": 0.9,
         "showscale": false,
         "type": "mesh3d",
         "x": [
          0.03999999999999998,
          0.96,
          0.96,
          0.03999999999999998,
          0.03999999999999998,
          0.96,
          0.96,
          0.03999999999999998
         ],
         "y": [
          0.03999999999999998,
          0.03999999999999998,
          0.96,
          0.96,
          0.03999999999999998,
          0.03999999999999998,
          0.96,
          0.96
         ],
         "z": [
          2.04,
          2.04,
          2.04,
          2.04,
          2.96,
          2.96,
          2.96,
          2.96
         ]
        },
        {
         "alphahull": 1,
         "color": "#636EFA",
         "opacity": 0.9,
         "showscale": false,
         "type": "mesh3d",
         "x": [
          0.03999999999999998,
          0.96,
          0.96,
          0.03999999999999998,
          0.03999999999999998,
          0.96,
          0.96,
          0.03999999999999998
         ],
         "y": [
          1.04,
          1.04,
          1.96,
          1.96,
          1.04,
          1.04,
          1.96,
          1.96
         ],
         "z": [
          2.04,
          2.04,
          2.04,
          2.04,
          2.96,
          2.96,
          2.96,
          2.96
         ]
        },
        {
         "alphahull": 1,
         "color": "#636EFA",
         "opacity": 0.9,
         "showscale": false,
         "type": "mesh3d",
         "x": [
          0.03999999999999998,
          0.96,
          0.96,
          0.03999999999999998,
          0.03999999999999998,
          0.96,
          0.96,
          0.03999999999999998
         ],
         "y": [
          1.04,
          1.04,
          1.96,
          1.96,
          1.04,
          1.04,
          1.96,
          1.96
         ],
         "z": [
          3.04,
          3.04,
          3.04,
          3.04,
          3.96,
          3.96,
          3.96,
          3.96
         ]
        },
        {
         "alphahull": 0,
         "color": "lightgray",
         "opacity": 0.1,
         "showscale": false,
         "type": "mesh3d",
         "x": [
          0,
          3,
          3,
          0,
          0,
          3,
          3,
          0
         ],
         "y": [
          0,
          0,
          3,
          3,
          0,
          0,
          3,
          3
         ],
         "z": [
          0,
          0,
          0,
          0,
          3,
          3,
          3,
          3
         ]
        },
        {
         "alphahull": 1,
         "color": "#EF553B",
         "opacity": 0.9,
         "showscale": false,
         "type": "mesh3d",
         "x": [
          0.03999999999999998,
          0.96,
          0.96,
          0.03999999999999998,
          0.03999999999999998,
          0.96,
          0.96,
          0.03999999999999998
         ],
         "y": [
          0.03999999999999998,
          0.03999999999999998,
          0.96,
          0.96,
          0.03999999999999998,
          0.03999999999999998,
          0.96,
          0.96
         ],
         "z": [
          0.03999999999999998,
          0.03999999999999998,
          0.03999999999999998,
          0.03999999999999998,
          0.96,
          0.96,
          0.96,
          0.96
         ]
        },
        {
         "alphahull": 1,
         "color": "#EF553B",
         "opacity": 0.9,
         "showscale": false,
         "type": "mesh3d",
         "x": [
          0.03999999999999998,
          0.96,
          0.96,
          0.03999999999999998,
          0.03999999999999998,
          0.96,
          0.96,
          0.03999999999999998
         ],
         "y": [
          0.03999999999999998,
          0.03999999999999998,
          0.96,
          0.96,
          0.03999999999999998,
          0.03999999999999998,
          0.96,
          0.96
         ],
         "z": [
          1.04,
          1.04,
          1.04,
          1.04,
          1.96,
          1.96,
          1.96,
          1.96
         ]
        },
        {
         "alphahull": 1,
         "color": "#EF553B",
         "opacity": 0.9,
         "showscale": false,
         "type": "mesh3d",
         "x": [
          0.03999999999999998,
          0.96,
          0.96,
          0.03999999999999998,
          0.03999999999999998,
          0.96,
          0.96,
          0.03999999999999998
         ],
         "y": [
          0.03999999999999998,
          0.03999999999999998,
          0.96,
          0.96,
          0.03999999999999998,
          0.03999999999999998,
          0.96,
          0.96
         ],
         "z": [
          2.04,
          2.04,
          2.04,
          2.04,
          2.96,
          2.96,
          2.96,
          2.96
         ]
        },
        {
         "alphahull": 1,
         "color": "#EF553B",
         "opacity": 0.9,
         "showscale": false,
         "type": "mesh3d",
         "x": [
          1.04,
          1.96,
          1.96,
          1.04,
          1.04,
          1.96,
          1.96,
          1.04
         ],
         "y": [
          0.03999999999999998,
          0.03999999999999998,
          0.96,
          0.96,
          0.03999999999999998,
          0.03999999999999998,
          0.96,
          0.96
         ],
         "z": [
          2.04,
          2.04,
          2.04,
          2.04,
          2.96,
          2.96,
          2.96,
          2.96
         ]
        },
        {
         "alphahull": 1,
         "color": "#EF553B",
         "opacity": 0.9,
         "showscale": false,
         "type": "mesh3d",
         "x": [
          1.04,
          1.96,
          1.96,
          1.04,
          1.04,
          1.96,
          1.96,
          1.04
         ],
         "y": [
          0.03999999999999998,
          0.03999999999999998,
          0.96,
          0.96,
          0.03999999999999998,
          0.03999999999999998,
          0.96,
          0.96
         ],
         "z": [
          3.04,
          3.04,
          3.04,
          3.04,
          3.96,
          3.96,
          3.96,
          3.96
         ]
        },
        {
         "alphahull": 0,
         "color": "lightgray",
         "opacity": 0.1,
         "showscale": false,
         "type": "mesh3d",
         "x": [
          0,
          3,
          3,
          0,
          0,
          3,
          3,
          0
         ],
         "y": [
          0,
          0,
          3,
          3,
          0,
          0,
          3,
          3
         ],
         "z": [
          0,
          0,
          0,
          0,
          3,
          3,
          3,
          3
         ]
        },
        {
         "alphahull": 1,
         "color": "#00CC96",
         "opacity": 0.9,
         "showscale": false,
         "type": "mesh3d",
         "x": [
          0.03999999999999998,
          0.96,
          0.96,
          0.03999999999999998,
          0.03999999999999998,
          0.96,
          0.96,
          0.03999999999999998
         ],
         "y": [
          0.03999999999999998,
          0.03999999999999998,
          0.96,
          0.96,
          0.03999999999999998,
          0.03999999999999998,
          0.96,
          0.96
         ],
         "z": [
          0.03999999999999998,
          0.03999999999999998,
          0.03999999999999998,
          0.03999999999999998,
          0.96,
          0.96,
          0.96,
          0.96
         ]
        },
        {
         "alphahull": 1,
         "color": "#00CC96",
         "opacity": 0.9,
         "showscale": false,
         "type": "mesh3d",
         "x": [
          0.03999999999999998,
          0.96,
          0.96,
          0.03999999999999998,
          0.03999999999999998,
          0.96,
          0.96,
          0.03999999999999998
         ],
         "y": [
          1.04,
          1.04,
          1.96,
          1.96,
          1.04,
          1.04,
          1.96,
          1.96
         ],
         "z": [
          0.03999999999999998,
          0.03999999999999998,
          0.03999999999999998,
          0.03999999999999998,
          0.96,
          0.96,
          0.96,
          0.96
         ]
        },
        {
         "alphahull": 1,
         "color": "#00CC96",
         "opacity": 0.9,
         "showscale": false,
         "type": "mesh3d",
         "x": [
          0.03999999999999998,
          0.96,
          0.96,
          0.03999999999999998,
          0.03999999999999998,
          0.96,
          0.96,
          0.03999999999999998
         ],
         "y": [
          2.04,
          2.04,
          2.96,
          2.96,
          2.04,
          2.04,
          2.96,
          2.96
         ],
         "z": [
          0.03999999999999998,
          0.03999999999999998,
          0.03999999999999998,
          0.03999999999999998,
          0.96,
          0.96,
          0.96,
          0.96
         ]
        },
        {
         "alphahull": 1,
         "color": "#00CC96",
         "opacity": 0.9,
         "showscale": false,
         "type": "mesh3d",
         "x": [
          0.03999999999999998,
          0.96,
          0.96,
          0.03999999999999998,
          0.03999999999999998,
          0.96,
          0.96,
          0.03999999999999998
         ],
         "y": [
          2.04,
          2.04,
          2.96,
          2.96,
          2.04,
          2.04,
          2.96,
          2.96
         ],
         "z": [
          1.04,
          1.04,
          1.04,
          1.04,
          1.96,
          1.96,
          1.96,
          1.96
         ]
        },
        {
         "alphahull": 1,
         "color": "#00CC96",
         "opacity": 0.9,
         "showscale": false,
         "type": "mesh3d",
         "x": [
          0.03999999999999998,
          0.96,
          0.96,
          0.03999999999999998,
          0.03999999999999998,
          0.96,
          0.96,
          0.03999999999999998
         ],
         "y": [
          3.04,
          3.04,
          3.96,
          3.96,
          3.04,
          3.04,
          3.96,
          3.96
         ],
         "z": [
          1.04,
          1.04,
          1.04,
          1.04,
          1.96,
          1.96,
          1.96,
          1.96
         ]
        },
        {
         "alphahull": 0,
         "color": "lightgray",
         "opacity": 0.1,
         "showscale": false,
         "type": "mesh3d",
         "x": [
          0,
          3,
          3,
          0,
          0,
          3,
          3,
          0
         ],
         "y": [
          0,
          0,
          3,
          3,
          0,
          0,
          3,
          3
         ],
         "z": [
          0,
          0,
          0,
          0,
          3,
          3,
          3,
          3
         ]
        },
        {
         "alphahull": 1,
         "color": "#AB63FA",
         "opacity": 0.9,
         "showscale": false,
         "type": "mesh3d",
         "x": [
          0.03999999999999998,
          0.96,
          0.96,
          0.03999999999999998,
          0.03999999999999998,
          0.96,
          0.96,
          0.03999999999999998
         ],
         "y": [
          0.03999999999999998,
          0.03999999999999998,
          0.96,
          0.96,
          0.03999999999999998,
          0.03999999999999998,
          0.96,
          0.96
         ],
         "z": [
          0.03999999999999998,
          0.03999999999999998,
          0.03999999999999998,
          0.03999999999999998,
          0.96,
          0.96,
          0.96,
          0.96
         ]
        },
        {
         "alphahull": 1,
         "color": "#AB63FA",
         "opacity": 0.9,
         "showscale": false,
         "type": "mesh3d",
         "x": [
          0.03999999999999998,
          0.96,
          0.96,
          0.03999999999999998,
          0.03999999999999998,
          0.96,
          0.96,
          0.03999999999999998
         ],
         "y": [
          1.04,
          1.04,
          1.96,
          1.96,
          1.04,
          1.04,
          1.96,
          1.96
         ],
         "z": [
          0.03999999999999998,
          0.03999999999999998,
          0.03999999999999998,
          0.03999999999999998,
          0.96,
          0.96,
          0.96,
          0.96
         ]
        },
        {
         "alphahull": 1,
         "color": "#AB63FA",
         "opacity": 0.9,
         "showscale": false,
         "type": "mesh3d",
         "x": [
          0.03999999999999998,
          0.96,
          0.96,
          0.03999999999999998,
          0.03999999999999998,
          0.96,
          0.96,
          0.03999999999999998
         ],
         "y": [
          2.04,
          2.04,
          2.96,
          2.96,
          2.04,
          2.04,
          2.96,
          2.96
         ],
         "z": [
          0.03999999999999998,
          0.03999999999999998,
          0.03999999999999998,
          0.03999999999999998,
          0.96,
          0.96,
          0.96,
          0.96
         ]
        },
        {
         "alphahull": 1,
         "color": "#AB63FA",
         "opacity": 0.9,
         "showscale": false,
         "type": "mesh3d",
         "x": [
          1.04,
          1.96,
          1.96,
          1.04,
          1.04,
          1.96,
          1.96,
          1.04
         ],
         "y": [
          2.04,
          2.04,
          2.96,
          2.96,
          2.04,
          2.04,
          2.96,
          2.96
         ],
         "z": [
          0.03999999999999998,
          0.03999999999999998,
          0.03999999999999998,
          0.03999999999999998,
          0.96,
          0.96,
          0.96,
          0.96
         ]
        },
        {
         "alphahull": 1,
         "color": "#AB63FA",
         "opacity": 0.9,
         "showscale": false,
         "type": "mesh3d",
         "x": [
          1.04,
          1.96,
          1.96,
          1.04,
          1.04,
          1.96,
          1.96,
          1.04
         ],
         "y": [
          3.04,
          3.04,
          3.96,
          3.96,
          3.04,
          3.04,
          3.96,
          3.96
         ],
         "z": [
          0.03999999999999998,
          0.03999999999999998,
          0.03999999999999998,
          0.03999999999999998,
          0.96,
          0.96,
          0.96,
          0.96
         ]
        },
        {
         "alphahull": 0,
         "color": "lightgray",
         "opacity": 0.1,
         "showscale": false,
         "type": "mesh3d",
         "x": [
          0,
          3,
          3,
          0,
          0,
          3,
          3,
          0
         ],
         "y": [
          0,
          0,
          3,
          3,
          0,
          0,
          3,
          3
         ],
         "z": [
          0,
          0,
          0,
          0,
          3,
          3,
          3,
          3
         ]
        },
        {
         "alphahull": 1,
         "color": "#FFA15A",
         "opacity": 0.9,
         "showscale": false,
         "type": "mesh3d",
         "x": [
          0.03999999999999998,
          0.96,
          0.96,
          0.03999999999999998,
          0.03999999999999998,
          0.96,
          0.96,
          0.03999999999999998
         ],
         "y": [
          0.03999999999999998,
          0.03999999999999998,
          0.96,
          0.96,
          0.03999999999999998,
          0.03999999999999998,
          0.96,
          0.96
         ],
         "z": [
          0.03999999999999998,
          0.03999999999999998,
          0.03999999999999998,
          0.03999999999999998,
          0.96,
          0.96,
          0.96,
          0.96
         ]
        },
        {
         "alphahull": 1,
         "color": "#FFA15A",
         "opacity": 0.9,
         "showscale": false,
         "type": "mesh3d",
         "x": [
          1.04,
          1.96,
          1.96,
          1.04,
          1.04,
          1.96,
          1.96,
          1.04
         ],
         "y": [
          0.03999999999999998,
          0.03999999999999998,
          0.96,
          0.96,
          0.03999999999999998,
          0.03999999999999998,
          0.96,
          0.96
         ],
         "z": [
          0.03999999999999998,
          0.03999999999999998,
          0.03999999999999998,
          0.03999999999999998,
          0.96,
          0.96,
          0.96,
          0.96
         ]
        },
        {
         "alphahull": 1,
         "color": "#FFA15A",
         "opacity": 0.9,
         "showscale": false,
         "type": "mesh3d",
         "x": [
          2.04,
          2.96,
          2.96,
          2.04,
          2.04,
          2.96,
          2.96,
          2.04
         ],
         "y": [
          0.03999999999999998,
          0.03999999999999998,
          0.96,
          0.96,
          0.03999999999999998,
          0.03999999999999998,
          0.96,
          0.96
         ],
         "z": [
          0.03999999999999998,
          0.03999999999999998,
          0.03999999999999998,
          0.03999999999999998,
          0.96,
          0.96,
          0.96,
          0.96
         ]
        },
        {
         "alphahull": 1,
         "color": "#FFA15A",
         "opacity": 0.9,
         "showscale": false,
         "type": "mesh3d",
         "x": [
          2.04,
          2.96,
          2.96,
          2.04,
          2.04,
          2.96,
          2.96,
          2.04
         ],
         "y": [
          0.03999999999999998,
          0.03999999999999998,
          0.96,
          0.96,
          0.03999999999999998,
          0.03999999999999998,
          0.96,
          0.96
         ],
         "z": [
          1.04,
          1.04,
          1.04,
          1.04,
          1.96,
          1.96,
          1.96,
          1.96
         ]
        },
        {
         "alphahull": 1,
         "color": "#FFA15A",
         "opacity": 0.9,
         "showscale": false,
         "type": "mesh3d",
         "x": [
          3.04,
          3.96,
          3.96,
          3.04,
          3.04,
          3.96,
          3.96,
          3.04
         ],
         "y": [
          0.03999999999999998,
          0.03999999999999998,
          0.96,
          0.96,
          0.03999999999999998,
          0.03999999999999998,
          0.96,
          0.96
         ],
         "z": [
          1.04,
          1.04,
          1.04,
          1.04,
          1.96,
          1.96,
          1.96,
          1.96
         ]
        },
        {
         "alphahull": 0,
         "color": "lightgray",
         "opacity": 0.1,
         "showscale": false,
         "type": "mesh3d",
         "x": [
          0,
          3,
          3,
          0,
          0,
          3,
          3,
          0
         ],
         "y": [
          0,
          0,
          3,
          3,
          0,
          0,
          3,
          3
         ],
         "z": [
          0,
          0,
          0,
          0,
          3,
          3,
          3,
          3
         ]
        },
        {
         "alphahull": 1,
         "color": "#19D3F3",
         "opacity": 0.9,
         "showscale": false,
         "type": "mesh3d",
         "x": [
          0.03999999999999998,
          0.96,
          0.96,
          0.03999999999999998,
          0.03999999999999998,
          0.96,
          0.96,
          0.03999999999999998
         ],
         "y": [
          0.03999999999999998,
          0.03999999999999998,
          0.96,
          0.96,
          0.03999999999999998,
          0.03999999999999998,
          0.96,
          0.96
         ],
         "z": [
          0.03999999999999998,
          0.03999999999999998,
          0.03999999999999998,
          0.03999999999999998,
          0.96,
          0.96,
          0.96,
          0.96
         ]
        },
        {
         "alphahull": 1,
         "color": "#19D3F3",
         "opacity": 0.9,
         "showscale": false,
         "type": "mesh3d",
         "x": [
          1.04,
          1.96,
          1.96,
          1.04,
          1.04,
          1.96,
          1.96,
          1.04
         ],
         "y": [
          0.03999999999999998,
          0.03999999999999998,
          0.96,
          0.96,
          0.03999999999999998,
          0.03999999999999998,
          0.96,
          0.96
         ],
         "z": [
          0.03999999999999998,
          0.03999999999999998,
          0.03999999999999998,
          0.03999999999999998,
          0.96,
          0.96,
          0.96,
          0.96
         ]
        },
        {
         "alphahull": 1,
         "color": "#19D3F3",
         "opacity": 0.9,
         "showscale": false,
         "type": "mesh3d",
         "x": [
          2.04,
          2.96,
          2.96,
          2.04,
          2.04,
          2.96,
          2.96,
          2.04
         ],
         "y": [
          0.03999999999999998,
          0.03999999999999998,
          0.96,
          0.96,
          0.03999999999999998,
          0.03999999999999998,
          0.96,
          0.96
         ],
         "z": [
          0.03999999999999998,
          0.03999999999999998,
          0.03999999999999998,
          0.03999999999999998,
          0.96,
          0.96,
          0.96,
          0.96
         ]
        },
        {
         "alphahull": 1,
         "color": "#19D3F3",
         "opacity": 0.9,
         "showscale": false,
         "type": "mesh3d",
         "x": [
          2.04,
          2.96,
          2.96,
          2.04,
          2.04,
          2.96,
          2.96,
          2.04
         ],
         "y": [
          1.04,
          1.04,
          1.96,
          1.96,
          1.04,
          1.04,
          1.96,
          1.96
         ],
         "z": [
          0.03999999999999998,
          0.03999999999999998,
          0.03999999999999998,
          0.03999999999999998,
          0.96,
          0.96,
          0.96,
          0.96
         ]
        },
        {
         "alphahull": 1,
         "color": "#19D3F3",
         "opacity": 0.9,
         "showscale": false,
         "type": "mesh3d",
         "x": [
          3.04,
          3.96,
          3.96,
          3.04,
          3.04,
          3.96,
          3.96,
          3.04
         ],
         "y": [
          1.04,
          1.04,
          1.96,
          1.96,
          1.04,
          1.04,
          1.96,
          1.96
         ],
         "z": [
          0.03999999999999998,
          0.03999999999999998,
          0.03999999999999998,
          0.03999999999999998,
          0.96,
          0.96,
          0.96,
          0.96
         ]
        },
        {
         "alphahull": 0,
         "color": "lightgray",
         "opacity": 0.1,
         "showscale": false,
         "type": "mesh3d",
         "x": [
          0,
          3,
          3,
          0,
          0,
          3,
          3,
          0
         ],
         "y": [
          0,
          0,
          3,
          3,
          0,
          0,
          3,
          3
         ],
         "z": [
          0,
          0,
          0,
          0,
          3,
          3,
          3,
          3
         ]
        }
       ],
       "layout": {
        "margin": {
         "b": 0,
         "l": 0,
         "r": 0,
         "t": 0
        },
        "scene": {
         "aspectratio": {
          "x": 1,
          "y": 1,
          "z": 1
         },
         "xaxis": {
          "range": [
           0,
           3
          ],
          "title": {
           "text": "X"
          }
         },
         "yaxis": {
          "range": [
           0,
           3
          ],
          "title": {
           "text": "Y"
          }
         },
         "zaxis": {
          "range": [
           0,
           3
          ],
          "title": {
           "text": "Z"
          }
         }
        },
        "template": {
         "data": {
          "bar": [
           {
            "error_x": {
             "color": "#2a3f5f"
            },
            "error_y": {
             "color": "#2a3f5f"
            },
            "marker": {
             "line": {
              "color": "#E5ECF6",
              "width": 0.5
             },
             "pattern": {
              "fillmode": "overlay",
              "size": 10,
              "solidity": 0.2
             }
            },
            "type": "bar"
           }
          ],
          "barpolar": [
           {
            "marker": {
             "line": {
              "color": "#E5ECF6",
              "width": 0.5
             },
             "pattern": {
              "fillmode": "overlay",
              "size": 10,
              "solidity": 0.2
             }
            },
            "type": "barpolar"
           }
          ],
          "carpet": [
           {
            "aaxis": {
             "endlinecolor": "#2a3f5f",
             "gridcolor": "white",
             "linecolor": "white",
             "minorgridcolor": "white",
             "startlinecolor": "#2a3f5f"
            },
            "baxis": {
             "endlinecolor": "#2a3f5f",
             "gridcolor": "white",
             "linecolor": "white",
             "minorgridcolor": "white",
             "startlinecolor": "#2a3f5f"
            },
            "type": "carpet"
           }
          ],
          "choropleth": [
           {
            "colorbar": {
             "outlinewidth": 0,
             "ticks": ""
            },
            "type": "choropleth"
           }
          ],
          "contour": [
           {
            "colorbar": {
             "outlinewidth": 0,
             "ticks": ""
            },
            "colorscale": [
             [
              0,
              "#0d0887"
             ],
             [
              0.1111111111111111,
              "#46039f"
             ],
             [
              0.2222222222222222,
              "#7201a8"
             ],
             [
              0.3333333333333333,
              "#9c179e"
             ],
             [
              0.4444444444444444,
              "#bd3786"
             ],
             [
              0.5555555555555556,
              "#d8576b"
             ],
             [
              0.6666666666666666,
              "#ed7953"
             ],
             [
              0.7777777777777778,
              "#fb9f3a"
             ],
             [
              0.8888888888888888,
              "#fdca26"
             ],
             [
              1,
              "#f0f921"
             ]
            ],
            "type": "contour"
           }
          ],
          "contourcarpet": [
           {
            "colorbar": {
             "outlinewidth": 0,
             "ticks": ""
            },
            "type": "contourcarpet"
           }
          ],
          "heatmap": [
           {
            "colorbar": {
             "outlinewidth": 0,
             "ticks": ""
            },
            "colorscale": [
             [
              0,
              "#0d0887"
             ],
             [
              0.1111111111111111,
              "#46039f"
             ],
             [
              0.2222222222222222,
              "#7201a8"
             ],
             [
              0.3333333333333333,
              "#9c179e"
             ],
             [
              0.4444444444444444,
              "#bd3786"
             ],
             [
              0.5555555555555556,
              "#d8576b"
             ],
             [
              0.6666666666666666,
              "#ed7953"
             ],
             [
              0.7777777777777778,
              "#fb9f3a"
             ],
             [
              0.8888888888888888,
              "#fdca26"
             ],
             [
              1,
              "#f0f921"
             ]
            ],
            "type": "heatmap"
           }
          ],
          "histogram": [
           {
            "marker": {
             "pattern": {
              "fillmode": "overlay",
              "size": 10,
              "solidity": 0.2
             }
            },
            "type": "histogram"
           }
          ],
          "histogram2d": [
           {
            "colorbar": {
             "outlinewidth": 0,
             "ticks": ""
            },
            "colorscale": [
             [
              0,
              "#0d0887"
             ],
             [
              0.1111111111111111,
              "#46039f"
             ],
             [
              0.2222222222222222,
              "#7201a8"
             ],
             [
              0.3333333333333333,
              "#9c179e"
             ],
             [
              0.4444444444444444,
              "#bd3786"
             ],
             [
              0.5555555555555556,
              "#d8576b"
             ],
             [
              0.6666666666666666,
              "#ed7953"
             ],
             [
              0.7777777777777778,
              "#fb9f3a"
             ],
             [
              0.8888888888888888,
              "#fdca26"
             ],
             [
              1,
              "#f0f921"
             ]
            ],
            "type": "histogram2d"
           }
          ],
          "histogram2dcontour": [
           {
            "colorbar": {
             "outlinewidth": 0,
             "ticks": ""
            },
            "colorscale": [
             [
              0,
              "#0d0887"
             ],
             [
              0.1111111111111111,
              "#46039f"
             ],
             [
              0.2222222222222222,
              "#7201a8"
             ],
             [
              0.3333333333333333,
              "#9c179e"
             ],
             [
              0.4444444444444444,
              "#bd3786"
             ],
             [
              0.5555555555555556,
              "#d8576b"
             ],
             [
              0.6666666666666666,
              "#ed7953"
             ],
             [
              0.7777777777777778,
              "#fb9f3a"
             ],
             [
              0.8888888888888888,
              "#fdca26"
             ],
             [
              1,
              "#f0f921"
             ]
            ],
            "type": "histogram2dcontour"
           }
          ],
          "mesh3d": [
           {
            "colorbar": {
             "outlinewidth": 0,
             "ticks": ""
            },
            "type": "mesh3d"
           }
          ],
          "parcoords": [
           {
            "line": {
             "colorbar": {
              "outlinewidth": 0,
              "ticks": ""
             }
            },
            "type": "parcoords"
           }
          ],
          "pie": [
           {
            "automargin": true,
            "type": "pie"
           }
          ],
          "scatter": [
           {
            "fillpattern": {
             "fillmode": "overlay",
             "size": 10,
             "solidity": 0.2
            },
            "type": "scatter"
           }
          ],
          "scatter3d": [
           {
            "line": {
             "colorbar": {
              "outlinewidth": 0,
              "ticks": ""
             }
            },
            "marker": {
             "colorbar": {
              "outlinewidth": 0,
              "ticks": ""
             }
            },
            "type": "scatter3d"
           }
          ],
          "scattercarpet": [
           {
            "marker": {
             "colorbar": {
              "outlinewidth": 0,
              "ticks": ""
             }
            },
            "type": "scattercarpet"
           }
          ],
          "scattergeo": [
           {
            "marker": {
             "colorbar": {
              "outlinewidth": 0,
              "ticks": ""
             }
            },
            "type": "scattergeo"
           }
          ],
          "scattergl": [
           {
            "marker": {
             "colorbar": {
              "outlinewidth": 0,
              "ticks": ""
             }
            },
            "type": "scattergl"
           }
          ],
          "scattermap": [
           {
            "marker": {
             "colorbar": {
              "outlinewidth": 0,
              "ticks": ""
             }
            },
            "type": "scattermap"
           }
          ],
          "scattermapbox": [
           {
            "marker": {
             "colorbar": {
              "outlinewidth": 0,
              "ticks": ""
             }
            },
            "type": "scattermapbox"
           }
          ],
          "scatterpolar": [
           {
            "marker": {
             "colorbar": {
              "outlinewidth": 0,
              "ticks": ""
             }
            },
            "type": "scatterpolar"
           }
          ],
          "scatterpolargl": [
           {
            "marker": {
             "colorbar": {
              "outlinewidth": 0,
              "ticks": ""
             }
            },
            "type": "scatterpolargl"
           }
          ],
          "scatterternary": [
           {
            "marker": {
             "colorbar": {
              "outlinewidth": 0,
              "ticks": ""
             }
            },
            "type": "scatterternary"
           }
          ],
          "surface": [
           {
            "colorbar": {
             "outlinewidth": 0,
             "ticks": ""
            },
            "colorscale": [
             [
              0,
              "#0d0887"
             ],
             [
              0.1111111111111111,
              "#46039f"
             ],
             [
              0.2222222222222222,
              "#7201a8"
             ],
             [
              0.3333333333333333,
              "#9c179e"
             ],
             [
              0.4444444444444444,
              "#bd3786"
             ],
             [
              0.5555555555555556,
              "#d8576b"
             ],
             [
              0.6666666666666666,
              "#ed7953"
             ],
             [
              0.7777777777777778,
              "#fb9f3a"
             ],
             [
              0.8888888888888888,
              "#fdca26"
             ],
             [
              1,
              "#f0f921"
             ]
            ],
            "type": "surface"
           }
          ],
          "table": [
           {
            "cells": {
             "fill": {
              "color": "#EBF0F8"
             },
             "line": {
              "color": "white"
             }
            },
            "header": {
             "fill": {
              "color": "#C8D4E3"
             },
             "line": {
              "color": "white"
             }
            },
            "type": "table"
           }
          ]
         },
         "layout": {
          "annotationdefaults": {
           "arrowcolor": "#2a3f5f",
           "arrowhead": 0,
           "arrowwidth": 1
          },
          "autotypenumbers": "strict",
          "coloraxis": {
           "colorbar": {
            "outlinewidth": 0,
            "ticks": ""
           }
          },
          "colorscale": {
           "diverging": [
            [
             0,
             "#8e0152"
            ],
            [
             0.1,
             "#c51b7d"
            ],
            [
             0.2,
             "#de77ae"
            ],
            [
             0.3,
             "#f1b6da"
            ],
            [
             0.4,
             "#fde0ef"
            ],
            [
             0.5,
             "#f7f7f7"
            ],
            [
             0.6,
             "#e6f5d0"
            ],
            [
             0.7,
             "#b8e186"
            ],
            [
             0.8,
             "#7fbc41"
            ],
            [
             0.9,
             "#4d9221"
            ],
            [
             1,
             "#276419"
            ]
           ],
           "sequential": [
            [
             0,
             "#0d0887"
            ],
            [
             0.1111111111111111,
             "#46039f"
            ],
            [
             0.2222222222222222,
             "#7201a8"
            ],
            [
             0.3333333333333333,
             "#9c179e"
            ],
            [
             0.4444444444444444,
             "#bd3786"
            ],
            [
             0.5555555555555556,
             "#d8576b"
            ],
            [
             0.6666666666666666,
             "#ed7953"
            ],
            [
             0.7777777777777778,
             "#fb9f3a"
            ],
            [
             0.8888888888888888,
             "#fdca26"
            ],
            [
             1,
             "#f0f921"
            ]
           ],
           "sequentialminus": [
            [
             0,
             "#0d0887"
            ],
            [
             0.1111111111111111,
             "#46039f"
            ],
            [
             0.2222222222222222,
             "#7201a8"
            ],
            [
             0.3333333333333333,
             "#9c179e"
            ],
            [
             0.4444444444444444,
             "#bd3786"
            ],
            [
             0.5555555555555556,
             "#d8576b"
            ],
            [
             0.6666666666666666,
             "#ed7953"
            ],
            [
             0.7777777777777778,
             "#fb9f3a"
            ],
            [
             0.8888888888888888,
             "#fdca26"
            ],
            [
             1,
             "#f0f921"
            ]
           ]
          },
          "colorway": [
           "#636efa",
           "#EF553B",
           "#00cc96",
           "#ab63fa",
           "#FFA15A",
           "#19d3f3",
           "#FF6692",
           "#B6E880",
           "#FF97FF",
           "#FECB52"
          ],
          "font": {
           "color": "#2a3f5f"
          },
          "geo": {
           "bgcolor": "white",
           "lakecolor": "white",
           "landcolor": "#E5ECF6",
           "showlakes": true,
           "showland": true,
           "subunitcolor": "white"
          },
          "hoverlabel": {
           "align": "left"
          },
          "hovermode": "closest",
          "mapbox": {
           "style": "light"
          },
          "paper_bgcolor": "white",
          "plot_bgcolor": "#E5ECF6",
          "polar": {
           "angularaxis": {
            "gridcolor": "white",
            "linecolor": "white",
            "ticks": ""
           },
           "bgcolor": "#E5ECF6",
           "radialaxis": {
            "gridcolor": "white",
            "linecolor": "white",
            "ticks": ""
           }
          },
          "scene": {
           "xaxis": {
            "backgroundcolor": "#E5ECF6",
            "gridcolor": "white",
            "gridwidth": 2,
            "linecolor": "white",
            "showbackground": true,
            "ticks": "",
            "zerolinecolor": "white"
           },
           "yaxis": {
            "backgroundcolor": "#E5ECF6",
            "gridcolor": "white",
            "gridwidth": 2,
            "linecolor": "white",
            "showbackground": true,
            "ticks": "",
            "zerolinecolor": "white"
           },
           "zaxis": {
            "backgroundcolor": "#E5ECF6",
            "gridcolor": "white",
            "gridwidth": 2,
            "linecolor": "white",
            "showbackground": true,
            "ticks": "",
            "zerolinecolor": "white"
           }
          },
          "shapedefaults": {
           "line": {
            "color": "#2a3f5f"
           }
          },
          "ternary": {
           "aaxis": {
            "gridcolor": "white",
            "linecolor": "white",
            "ticks": ""
           },
           "baxis": {
            "gridcolor": "white",
            "linecolor": "white",
            "ticks": ""
           },
           "bgcolor": "#E5ECF6",
           "caxis": {
            "gridcolor": "white",
            "linecolor": "white",
            "ticks": ""
           }
          },
          "title": {
           "x": 0.05
          },
          "xaxis": {
           "automargin": true,
           "gridcolor": "white",
           "linecolor": "white",
           "ticks": "",
           "title": {
            "standoff": 15
           },
           "zerolinecolor": "white",
           "zerolinewidth": 2
          },
          "yaxis": {
           "automargin": true,
           "gridcolor": "white",
           "linecolor": "white",
           "ticks": "",
           "title": {
            "standoff": 15
           },
           "zerolinecolor": "white",
           "zerolinewidth": 2
          }
         }
        }
       }
      }
     },
     "metadata": {},
     "output_type": "display_data"
    }
   ],
   "source": [
    "import plotly.graph_objects as go\n",
    "import plotly.colors\n",
    "palette = plotly.colors.qualitative.Plotly\n",
    "\n",
    "fig = go.Figure()\n",
    "for idx,p in enumerate(all_rotations[:6]):\n",
    "    plot_voxels(voxels=p, fig=fig, n=example_n, color=palette[idx], opacity=0.9)\n",
    "fig.show()\n"
   ]
  },
  {
   "cell_type": "code",
   "execution_count": 13,
   "id": "d677900e",
   "metadata": {},
   "outputs": [
    {
     "data": {
      "text/plain": [
       "144"
      ]
     },
     "execution_count": 13,
     "metadata": {},
     "output_type": "execute_result"
    }
   ],
   "source": [
    "(((4 * 4) * 3) * 3)"
   ]
  },
  {
   "cell_type": "markdown",
   "id": "23dc2a91",
   "metadata": {},
   "source": []
  }
 ],
 "metadata": {
  "kernelspec": {
   "display_name": "blokk-dev",
   "language": "python",
   "name": "blokk-dev"
  },
  "language_info": {
   "codemirror_mode": {
    "name": "ipython",
    "version": 3
   },
   "file_extension": ".py",
   "mimetype": "text/x-python",
   "name": "python",
   "nbconvert_exporter": "python",
   "pygments_lexer": "ipython3",
   "version": "3.13.2"
  }
 },
 "nbformat": 4,
 "nbformat_minor": 5
}
