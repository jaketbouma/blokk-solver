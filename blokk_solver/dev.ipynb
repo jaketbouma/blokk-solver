{
 "cells": [
  {
   "cell_type": "markdown",
   "id": "69a5c370",
   "metadata": {},
   "source": [
    "# Plotting"
   ]
  },
  {
   "cell_type": "code",
   "execution_count": 1,
   "id": "8a992577",
   "metadata": {},
   "outputs": [
    {
     "data": {
      "text/html": [
       "<div>\n",
       "<style scoped>\n",
       "    .dataframe tbody tr th:only-of-type {\n",
       "        vertical-align: middle;\n",
       "    }\n",
       "\n",
       "    .dataframe tbody tr th {\n",
       "        vertical-align: top;\n",
       "    }\n",
       "\n",
       "    .dataframe thead th {\n",
       "        text-align: right;\n",
       "    }\n",
       "</style>\n",
       "<table border=\"1\" class=\"dataframe\">\n",
       "  <thead>\n",
       "    <tr style=\"text-align: right;\">\n",
       "      <th></th>\n",
       "      <th>id</th>\n",
       "      <th>name</th>\n",
       "      <th>color</th>\n",
       "      <th>volume</th>\n",
       "      <th>shape</th>\n",
       "      <th>max_length</th>\n",
       "    </tr>\n",
       "  </thead>\n",
       "  <tbody>\n",
       "    <tr>\n",
       "      <th>0</th>\n",
       "      <td>1</td>\n",
       "      <td>Block 01</td>\n",
       "      <td>rgb(239, 139, 27)</td>\n",
       "      <td>1</td>\n",
       "      <td>[[0, 0, 0]]</td>\n",
       "      <td>1</td>\n",
       "    </tr>\n",
       "    <tr>\n",
       "      <th>1</th>\n",
       "      <td>2</td>\n",
       "      <td>Block 02</td>\n",
       "      <td>rgb(106, 194, 84)</td>\n",
       "      <td>2</td>\n",
       "      <td>[[0, 0, 0], [1, 0, 0]]</td>\n",
       "      <td>2</td>\n",
       "    </tr>\n",
       "    <tr>\n",
       "      <th>2</th>\n",
       "      <td>3</td>\n",
       "      <td>Block 03</td>\n",
       "      <td>rgb(244, 195, 203)</td>\n",
       "      <td>3</td>\n",
       "      <td>[[0, 0, 0], [1, 0, 0], [2, 0, 0]]</td>\n",
       "      <td>3</td>\n",
       "    </tr>\n",
       "    <tr>\n",
       "      <th>3</th>\n",
       "      <td>4</td>\n",
       "      <td>Block 04</td>\n",
       "      <td>rgb(252, 221, 80)</td>\n",
       "      <td>3</td>\n",
       "      <td>[[0, 0, 0], [0, 1, 0], [0, 2, 0]]</td>\n",
       "      <td>3</td>\n",
       "    </tr>\n",
       "    <tr>\n",
       "      <th>4</th>\n",
       "      <td>5</td>\n",
       "      <td>Block 05</td>\n",
       "      <td>purple-blue</td>\n",
       "      <td>4</td>\n",
       "      <td>[[0, 0, 0], [1, 0, 0], [1, 1, 0], [2, 1, 0]]</td>\n",
       "      <td>3</td>\n",
       "    </tr>\n",
       "    <tr>\n",
       "      <th>5</th>\n",
       "      <td>6</td>\n",
       "      <td>Block 06</td>\n",
       "      <td>rgb(239, 139, 27)</td>\n",
       "      <td>4</td>\n",
       "      <td>[[0, 0, 0], [1, 0, 0], [1, 1, 0], [1, 2, 0]]</td>\n",
       "      <td>3</td>\n",
       "    </tr>\n",
       "    <tr>\n",
       "      <th>6</th>\n",
       "      <td>7</td>\n",
       "      <td>Block 07</td>\n",
       "      <td>rgb(239, 139, 27)</td>\n",
       "      <td>4</td>\n",
       "      <td>[[0, 0, 0], [0, 1, 0], [1, 1, 0], [1, 2, 0]]</td>\n",
       "      <td>3</td>\n",
       "    </tr>\n",
       "    <tr>\n",
       "      <th>7</th>\n",
       "      <td>8</td>\n",
       "      <td>Block 08</td>\n",
       "      <td>rgb(239, 139, 27)</td>\n",
       "      <td>4</td>\n",
       "      <td>[[0, 0, 0], [0, 1, 0], [0, 2, 0], [1, 0, 0]]</td>\n",
       "      <td>3</td>\n",
       "    </tr>\n",
       "    <tr>\n",
       "      <th>8</th>\n",
       "      <td>9</td>\n",
       "      <td>Block 09</td>\n",
       "      <td>rgb(252, 221, 80)</td>\n",
       "      <td>4</td>\n",
       "      <td>[[0, 0, 0], [1, 0, 0], [2, 0, 0], [2, 1, 0]]</td>\n",
       "      <td>3</td>\n",
       "    </tr>\n",
       "    <tr>\n",
       "      <th>9</th>\n",
       "      <td>10</td>\n",
       "      <td>Block 10</td>\n",
       "      <td>rgb(244, 195, 203)</td>\n",
       "      <td>4</td>\n",
       "      <td>[[0, 0, 0], [0, 1, 0], [0, 2, 0], [1, 2, 0]]</td>\n",
       "      <td>3</td>\n",
       "    </tr>\n",
       "    <tr>\n",
       "      <th>10</th>\n",
       "      <td>11</td>\n",
       "      <td>Block 11</td>\n",
       "      <td>rgb(239, 139, 27)</td>\n",
       "      <td>4</td>\n",
       "      <td>[[0, 0, 0], [1, 0, 0], [1, 1, 0], [2, 0, 0]]</td>\n",
       "      <td>3</td>\n",
       "    </tr>\n",
       "    <tr>\n",
       "      <th>11</th>\n",
       "      <td>12</td>\n",
       "      <td>Block 12</td>\n",
       "      <td>rgb(106, 194, 84)</td>\n",
       "      <td>5</td>\n",
       "      <td>[[0, 0, 0], [1, 0, 0], [2, 0, 0], [2, 1, 0], [...</td>\n",
       "      <td>3</td>\n",
       "    </tr>\n",
       "    <tr>\n",
       "      <th>12</th>\n",
       "      <td>13</td>\n",
       "      <td>Block 13</td>\n",
       "      <td>rgb(252, 221, 80)</td>\n",
       "      <td>5</td>\n",
       "      <td>[[0, 0, 0], [1, 0, 0], [2, 0, 0], [2, 1, 0], [...</td>\n",
       "      <td>4</td>\n",
       "    </tr>\n",
       "    <tr>\n",
       "      <th>13</th>\n",
       "      <td>14</td>\n",
       "      <td>Block 14</td>\n",
       "      <td>rgb(239, 139, 27)</td>\n",
       "      <td>5</td>\n",
       "      <td>[[0, 0, 0], [1, 0, 0], [2, 0, 0], [1, 1, 0], [...</td>\n",
       "      <td>3</td>\n",
       "    </tr>\n",
       "    <tr>\n",
       "      <th>14</th>\n",
       "      <td>15</td>\n",
       "      <td>Block 15</td>\n",
       "      <td>rgb(252, 221, 80)</td>\n",
       "      <td>5</td>\n",
       "      <td>[[0, 0, 0], [1, 0, 0], [1, 1, 0], [1, 2, 0], [...</td>\n",
       "      <td>3</td>\n",
       "    </tr>\n",
       "    <tr>\n",
       "      <th>15</th>\n",
       "      <td>16</td>\n",
       "      <td>Block 16</td>\n",
       "      <td>rgb(106, 194, 84)</td>\n",
       "      <td>5</td>\n",
       "      <td>[[0, 0, 0], [0, 1, 0], [1, 1, 0], [1, 2, 0], [...</td>\n",
       "      <td>3</td>\n",
       "    </tr>\n",
       "    <tr>\n",
       "      <th>16</th>\n",
       "      <td>17</td>\n",
       "      <td>Block 17</td>\n",
       "      <td>rgb(106, 194, 84)</td>\n",
       "      <td>5</td>\n",
       "      <td>[[0, 0, 0], [0, 1, 0], [0, 2, 0], [1, 2, 0], [...</td>\n",
       "      <td>3</td>\n",
       "    </tr>\n",
       "    <tr>\n",
       "      <th>17</th>\n",
       "      <td>18</td>\n",
       "      <td>Block 18</td>\n",
       "      <td>rgb(244, 195, 203)</td>\n",
       "      <td>5</td>\n",
       "      <td>[[0, 0, 0], [0, 1, 0], [0, 2, 0], [1, 1, 0], [...</td>\n",
       "      <td>3</td>\n",
       "    </tr>\n",
       "    <tr>\n",
       "      <th>18</th>\n",
       "      <td>19</td>\n",
       "      <td>Block 19</td>\n",
       "      <td>rgb(244, 195, 203)</td>\n",
       "      <td>5</td>\n",
       "      <td>[[0, 0, 0], [0, 1, 0], [0, 2, 0], [1, 0, 0], [...</td>\n",
       "      <td>3</td>\n",
       "    </tr>\n",
       "    <tr>\n",
       "      <th>19</th>\n",
       "      <td>20</td>\n",
       "      <td>Block 20</td>\n",
       "      <td>rgb(106, 194, 84)</td>\n",
       "      <td>5</td>\n",
       "      <td>[[0, 0, 0], [1, 0, 0], [1, 1, 0], [1, 2, 0], [...</td>\n",
       "      <td>3</td>\n",
       "    </tr>\n",
       "    <tr>\n",
       "      <th>20</th>\n",
       "      <td>21</td>\n",
       "      <td>Block 21</td>\n",
       "      <td>rgb(106, 194, 84)</td>\n",
       "      <td>5</td>\n",
       "      <td>[[0, 0, 0], [1, 0, 0], [2, 0, 0], [2, 1, 0], [...</td>\n",
       "      <td>3</td>\n",
       "    </tr>\n",
       "    <tr>\n",
       "      <th>21</th>\n",
       "      <td>22</td>\n",
       "      <td>Block 22</td>\n",
       "      <td>rgb(252, 221, 80)</td>\n",
       "      <td>5</td>\n",
       "      <td>[[0, 0, 0], [0, 1, 0], [1, 1, 0], [1, 2, 0], [...</td>\n",
       "      <td>3</td>\n",
       "    </tr>\n",
       "    <tr>\n",
       "      <th>22</th>\n",
       "      <td>23</td>\n",
       "      <td>Block 23</td>\n",
       "      <td>rgb(239, 139, 27)</td>\n",
       "      <td>5</td>\n",
       "      <td>[[0, 0, 0], [1, 0, 0], [2, 0, 0], [1, 1, 0], [...</td>\n",
       "      <td>3</td>\n",
       "    </tr>\n",
       "    <tr>\n",
       "      <th>23</th>\n",
       "      <td>24</td>\n",
       "      <td>Block 24</td>\n",
       "      <td>rgb(252, 221, 80)</td>\n",
       "      <td>5</td>\n",
       "      <td>[[0, 0, 0], [0, 1, 0], [0, 2, 0], [1, 1, 0], [...</td>\n",
       "      <td>3</td>\n",
       "    </tr>\n",
       "    <tr>\n",
       "      <th>24</th>\n",
       "      <td>25</td>\n",
       "      <td>Block 25</td>\n",
       "      <td>rgb(244, 195, 203)</td>\n",
       "      <td>5</td>\n",
       "      <td>[[0, 0, 0], [1, 0, 0], [1, 1, 0], [1, 2, 0], [...</td>\n",
       "      <td>3</td>\n",
       "    </tr>\n",
       "    <tr>\n",
       "      <th>25</th>\n",
       "      <td>26</td>\n",
       "      <td>Block 26</td>\n",
       "      <td>rgb(244, 195, 203)</td>\n",
       "      <td>5</td>\n",
       "      <td>[[0, 0, 0], [0, 1, 0], [1, 1, 0], [2, 1, 0], [...</td>\n",
       "      <td>3</td>\n",
       "    </tr>\n",
       "    <tr>\n",
       "      <th>26</th>\n",
       "      <td>27</td>\n",
       "      <td>Block 27</td>\n",
       "      <td>rgb(87, 194, 230)</td>\n",
       "      <td>5</td>\n",
       "      <td>[[0, 0, 0], [1, 0, 0], [2, 0, 0], [2, 1, 0], [...</td>\n",
       "      <td>4</td>\n",
       "    </tr>\n",
       "    <tr>\n",
       "      <th>27</th>\n",
       "      <td>28</td>\n",
       "      <td>Block 28</td>\n",
       "      <td>rgb(167, 99, 137)</td>\n",
       "      <td>5</td>\n",
       "      <td>[[0, 0, 0], [0, 1, 0], [1, 1, 0], [2, 1, 0], [...</td>\n",
       "      <td>3</td>\n",
       "    </tr>\n",
       "    <tr>\n",
       "      <th>28</th>\n",
       "      <td>29</td>\n",
       "      <td>Block 29</td>\n",
       "      <td>rgb(87, 194, 230)</td>\n",
       "      <td>5</td>\n",
       "      <td>[[0, 0, 0], [1, 0, 0], [1, 1, 0], [2, 1, 0], [...</td>\n",
       "      <td>3</td>\n",
       "    </tr>\n",
       "    <tr>\n",
       "      <th>29</th>\n",
       "      <td>30</td>\n",
       "      <td>Block 30</td>\n",
       "      <td>rgb(167, 99, 137)</td>\n",
       "      <td>5</td>\n",
       "      <td>[[0, 0, 0], [1, 0, 0], [2, 0, 0], [1, 1, 0], [...</td>\n",
       "      <td>3</td>\n",
       "    </tr>\n",
       "    <tr>\n",
       "      <th>30</th>\n",
       "      <td>31</td>\n",
       "      <td>Block 31</td>\n",
       "      <td>rgb(87, 194, 230)</td>\n",
       "      <td>5</td>\n",
       "      <td>[[0, 0, 0], [0, 1, 0], [1, 1, 0], [1, 2, 0], [...</td>\n",
       "      <td>3</td>\n",
       "    </tr>\n",
       "    <tr>\n",
       "      <th>31</th>\n",
       "      <td>32</td>\n",
       "      <td>Block 32</td>\n",
       "      <td>rgb(167, 99, 137)</td>\n",
       "      <td>5</td>\n",
       "      <td>[[0, 0, 0], [1, 0, 0], [1, 1, 0], [2, 1, 0], [...</td>\n",
       "      <td>3</td>\n",
       "    </tr>\n",
       "    <tr>\n",
       "      <th>32</th>\n",
       "      <td>33</td>\n",
       "      <td>Block 33</td>\n",
       "      <td>rgb(87, 194, 230)</td>\n",
       "      <td>5</td>\n",
       "      <td>[[0, 0, 0], [1, 0, 0], [2, 0, 0], [2, 1, 0], [...</td>\n",
       "      <td>3</td>\n",
       "    </tr>\n",
       "    <tr>\n",
       "      <th>33</th>\n",
       "      <td>34</td>\n",
       "      <td>Block 34</td>\n",
       "      <td>rgb(167, 99, 137)</td>\n",
       "      <td>5</td>\n",
       "      <td>[[0, 0, 0], [1, 0, 0], [1, 1, 0], [2, 1, 0], [...</td>\n",
       "      <td>3</td>\n",
       "    </tr>\n",
       "    <tr>\n",
       "      <th>34</th>\n",
       "      <td>35</td>\n",
       "      <td>Block 35</td>\n",
       "      <td>rgb(87, 194, 230)</td>\n",
       "      <td>5</td>\n",
       "      <td>[[0, 0, 0], [0, 1, 0], [1, 1, 0], [2, 1, 0], [...</td>\n",
       "      <td>3</td>\n",
       "    </tr>\n",
       "    <tr>\n",
       "      <th>35</th>\n",
       "      <td>36</td>\n",
       "      <td>Block 36</td>\n",
       "      <td>rgb(167, 99, 137)</td>\n",
       "      <td>5</td>\n",
       "      <td>[[0, 0, 0], [0, 1, 0], [0, 2, 0], [1, 2, 0], [...</td>\n",
       "      <td>3</td>\n",
       "    </tr>\n",
       "  </tbody>\n",
       "</table>\n",
       "</div>"
      ],
      "text/plain": [
       "    id      name               color  volume  \\\n",
       "0    1  Block 01   rgb(239, 139, 27)       1   \n",
       "1    2  Block 02   rgb(106, 194, 84)       2   \n",
       "2    3  Block 03  rgb(244, 195, 203)       3   \n",
       "3    4  Block 04   rgb(252, 221, 80)       3   \n",
       "4    5  Block 05         purple-blue       4   \n",
       "5    6  Block 06   rgb(239, 139, 27)       4   \n",
       "6    7  Block 07   rgb(239, 139, 27)       4   \n",
       "7    8  Block 08   rgb(239, 139, 27)       4   \n",
       "8    9  Block 09   rgb(252, 221, 80)       4   \n",
       "9   10  Block 10  rgb(244, 195, 203)       4   \n",
       "10  11  Block 11   rgb(239, 139, 27)       4   \n",
       "11  12  Block 12   rgb(106, 194, 84)       5   \n",
       "12  13  Block 13   rgb(252, 221, 80)       5   \n",
       "13  14  Block 14   rgb(239, 139, 27)       5   \n",
       "14  15  Block 15   rgb(252, 221, 80)       5   \n",
       "15  16  Block 16   rgb(106, 194, 84)       5   \n",
       "16  17  Block 17   rgb(106, 194, 84)       5   \n",
       "17  18  Block 18  rgb(244, 195, 203)       5   \n",
       "18  19  Block 19  rgb(244, 195, 203)       5   \n",
       "19  20  Block 20   rgb(106, 194, 84)       5   \n",
       "20  21  Block 21   rgb(106, 194, 84)       5   \n",
       "21  22  Block 22   rgb(252, 221, 80)       5   \n",
       "22  23  Block 23   rgb(239, 139, 27)       5   \n",
       "23  24  Block 24   rgb(252, 221, 80)       5   \n",
       "24  25  Block 25  rgb(244, 195, 203)       5   \n",
       "25  26  Block 26  rgb(244, 195, 203)       5   \n",
       "26  27  Block 27   rgb(87, 194, 230)       5   \n",
       "27  28  Block 28   rgb(167, 99, 137)       5   \n",
       "28  29  Block 29   rgb(87, 194, 230)       5   \n",
       "29  30  Block 30   rgb(167, 99, 137)       5   \n",
       "30  31  Block 31   rgb(87, 194, 230)       5   \n",
       "31  32  Block 32   rgb(167, 99, 137)       5   \n",
       "32  33  Block 33   rgb(87, 194, 230)       5   \n",
       "33  34  Block 34   rgb(167, 99, 137)       5   \n",
       "34  35  Block 35   rgb(87, 194, 230)       5   \n",
       "35  36  Block 36   rgb(167, 99, 137)       5   \n",
       "\n",
       "                                                shape  max_length  \n",
       "0                                         [[0, 0, 0]]           1  \n",
       "1                              [[0, 0, 0], [1, 0, 0]]           2  \n",
       "2                   [[0, 0, 0], [1, 0, 0], [2, 0, 0]]           3  \n",
       "3                   [[0, 0, 0], [0, 1, 0], [0, 2, 0]]           3  \n",
       "4        [[0, 0, 0], [1, 0, 0], [1, 1, 0], [2, 1, 0]]           3  \n",
       "5        [[0, 0, 0], [1, 0, 0], [1, 1, 0], [1, 2, 0]]           3  \n",
       "6        [[0, 0, 0], [0, 1, 0], [1, 1, 0], [1, 2, 0]]           3  \n",
       "7        [[0, 0, 0], [0, 1, 0], [0, 2, 0], [1, 0, 0]]           3  \n",
       "8        [[0, 0, 0], [1, 0, 0], [2, 0, 0], [2, 1, 0]]           3  \n",
       "9        [[0, 0, 0], [0, 1, 0], [0, 2, 0], [1, 2, 0]]           3  \n",
       "10       [[0, 0, 0], [1, 0, 0], [1, 1, 0], [2, 0, 0]]           3  \n",
       "11  [[0, 0, 0], [1, 0, 0], [2, 0, 0], [2, 1, 0], [...           3  \n",
       "12  [[0, 0, 0], [1, 0, 0], [2, 0, 0], [2, 1, 0], [...           4  \n",
       "13  [[0, 0, 0], [1, 0, 0], [2, 0, 0], [1, 1, 0], [...           3  \n",
       "14  [[0, 0, 0], [1, 0, 0], [1, 1, 0], [1, 2, 0], [...           3  \n",
       "15  [[0, 0, 0], [0, 1, 0], [1, 1, 0], [1, 2, 0], [...           3  \n",
       "16  [[0, 0, 0], [0, 1, 0], [0, 2, 0], [1, 2, 0], [...           3  \n",
       "17  [[0, 0, 0], [0, 1, 0], [0, 2, 0], [1, 1, 0], [...           3  \n",
       "18  [[0, 0, 0], [0, 1, 0], [0, 2, 0], [1, 0, 0], [...           3  \n",
       "19  [[0, 0, 0], [1, 0, 0], [1, 1, 0], [1, 2, 0], [...           3  \n",
       "20  [[0, 0, 0], [1, 0, 0], [2, 0, 0], [2, 1, 0], [...           3  \n",
       "21  [[0, 0, 0], [0, 1, 0], [1, 1, 0], [1, 2, 0], [...           3  \n",
       "22  [[0, 0, 0], [1, 0, 0], [2, 0, 0], [1, 1, 0], [...           3  \n",
       "23  [[0, 0, 0], [0, 1, 0], [0, 2, 0], [1, 1, 0], [...           3  \n",
       "24  [[0, 0, 0], [1, 0, 0], [1, 1, 0], [1, 2, 0], [...           3  \n",
       "25  [[0, 0, 0], [0, 1, 0], [1, 1, 0], [2, 1, 0], [...           3  \n",
       "26  [[0, 0, 0], [1, 0, 0], [2, 0, 0], [2, 1, 0], [...           4  \n",
       "27  [[0, 0, 0], [0, 1, 0], [1, 1, 0], [2, 1, 0], [...           3  \n",
       "28  [[0, 0, 0], [1, 0, 0], [1, 1, 0], [2, 1, 0], [...           3  \n",
       "29  [[0, 0, 0], [1, 0, 0], [2, 0, 0], [1, 1, 0], [...           3  \n",
       "30  [[0, 0, 0], [0, 1, 0], [1, 1, 0], [1, 2, 0], [...           3  \n",
       "31  [[0, 0, 0], [1, 0, 0], [1, 1, 0], [2, 1, 0], [...           3  \n",
       "32  [[0, 0, 0], [1, 0, 0], [2, 0, 0], [2, 1, 0], [...           3  \n",
       "33  [[0, 0, 0], [1, 0, 0], [1, 1, 0], [2, 1, 0], [...           3  \n",
       "34  [[0, 0, 0], [0, 1, 0], [1, 1, 0], [2, 1, 0], [...           3  \n",
       "35  [[0, 0, 0], [0, 1, 0], [0, 2, 0], [1, 2, 0], [...           3  "
      ]
     },
     "execution_count": 1,
     "metadata": {},
     "output_type": "execute_result"
    }
   ],
   "source": [
    "from blokk_solver.blokks import blokks\n",
    "blokks"
   ]
  },
  {
   "cell_type": "code",
   "execution_count": 2,
   "id": "ca591d24",
   "metadata": {},
   "outputs": [],
   "source": [
    "import plotly.graph_objects as go\n",
    "from numpy.typing import ArrayLike\n",
    "\n",
    "def plot_blokk_shape_plotly(voxels: list[ArrayLike], color=None, n=3, fig=None, show_coord_markers=False, cube_size=0.92):\n",
    "    xs, ys, zs = zip(*voxels)\n",
    "    if(fig is None):\n",
    "        fig = go.Figure()\n",
    "    \n",
    "    if show_coord_markers:\n",
    "        fig.add_trace(go.Scatter3d(\n",
    "            x=xs, y=ys, z=zs,\n",
    "            mode='markers',\n",
    "            marker=dict(size=10, color=color, opacity=0.8, line=dict(width=2, color='black'))\n",
    "        ))\n",
    "    \n",
    "    offset = (1 - cube_size) / 2\n",
    "    # Draw cubes for each block\n",
    "    for x, y, z in voxels:\n",
    "        fig.add_trace(go.Mesh3d(\n",
    "            x=[x+offset, x+cube_size+offset, x+cube_size+offset, x+offset, x+offset, x+cube_size+offset, x+cube_size+offset, x+offset],\n",
    "            y=[y+offset, y+offset, y+cube_size+offset, y+cube_size+offset, y+offset, y+offset, y+cube_size+offset, y+cube_size+offset],\n",
    "            z=[z+offset, z+offset, z+offset, z+offset, z+cube_size+offset, z+cube_size+offset, z+cube_size+offset, z+cube_size+offset],\n",
    "            color=color,\n",
    "            opacity=0.5,\n",
    "            alphahull=1,\n",
    "            showscale=False\n",
    "        ))\n",
    "    # Optionally, draw the bounding cube (transparent)\n",
    "    fig.add_trace(go.Mesh3d(\n",
    "        x=[0, n, n, 0, 0, n, n, 0],\n",
    "        y=[0, 0, n, n, 0, 0, n, n],\n",
    "        z=[0, 0, 0, 0, n, n, n, n],\n",
    "        color='lightgray',\n",
    "        opacity=0.1,\n",
    "        alphahull=0,\n",
    "        showscale=False\n",
    "    ))\n",
    "    fig.update_layout(\n",
    "        scene=dict(\n",
    "            xaxis_title='X',\n",
    "            yaxis_title='Y',\n",
    "            zaxis_title='Z',\n",
    "            aspectratio=dict(x=1, y=1, z=1),\n",
    "            xaxis=dict(range=[0, n]),\n",
    "            yaxis=dict(range=[0, n]),\n",
    "            zaxis=dict(range=[0, n]),\n",
    "        ),\n",
    "        margin=dict(l=0, r=0, b=0, t=0)\n",
    "    )\n",
    "    return fig"
   ]
  },
  {
   "cell_type": "markdown",
   "id": "ebecc417",
   "metadata": {},
   "source": [
    "# Prototyping"
   ]
  },
  {
   "cell_type": "code",
   "execution_count": 6,
   "id": "77825173",
   "metadata": {},
   "outputs": [],
   "source": [
    "from blokk_solver.combinatorics import generate_rotations, generate_translations\n",
    "import numpy as np"
   ]
  },
  {
   "cell_type": "code",
   "execution_count": 7,
   "id": "8b2a6c2b",
   "metadata": {},
   "outputs": [
    {
     "data": {
      "application/vnd.plotly.v1+json": {
       "config": {
        "plotlyServerURL": "https://plot.ly"
       },
       "data": [
        {
         "alphahull": 1,
         "opacity": 0.5,
         "showscale": false,
         "type": "mesh3d",
         "x": [
          0.03999999999999998,
          0.96,
          0.96,
          0.03999999999999998,
          0.03999999999999998,
          0.96,
          0.96,
          0.03999999999999998
         ],
         "y": [
          0.03999999999999998,
          0.03999999999999998,
          0.96,
          0.96,
          0.03999999999999998,
          0.03999999999999998,
          0.96,
          0.96
         ],
         "z": [
          0.03999999999999998,
          0.03999999999999998,
          0.03999999999999998,
          0.03999999999999998,
          0.96,
          0.96,
          0.96,
          0.96
         ]
        },
        {
         "alphahull": 1,
         "opacity": 0.5,
         "showscale": false,
         "type": "mesh3d",
         "x": [
          0.03999999999999998,
          0.96,
          0.96,
          0.03999999999999998,
          0.03999999999999998,
          0.96,
          0.96,
          0.03999999999999998
         ],
         "y": [
          1.04,
          1.04,
          1.96,
          1.96,
          1.04,
          1.04,
          1.96,
          1.96
         ],
         "z": [
          0.03999999999999998,
          0.03999999999999998,
          0.03999999999999998,
          0.03999999999999998,
          0.96,
          0.96,
          0.96,
          0.96
         ]
        },
        {
         "alphahull": 0,
         "color": "lightgray",
         "opacity": 0.1,
         "showscale": false,
         "type": "mesh3d",
         "x": [
          0,
          2,
          2,
          0,
          0,
          2,
          2,
          0
         ],
         "y": [
          0,
          0,
          2,
          2,
          0,
          0,
          2,
          2
         ],
         "z": [
          0,
          0,
          0,
          0,
          2,
          2,
          2,
          2
         ]
        }
       ],
       "layout": {
        "margin": {
         "b": 0,
         "l": 0,
         "r": 0,
         "t": 0
        },
        "scene": {
         "aspectratio": {
          "x": 1,
          "y": 1,
          "z": 1
         },
         "xaxis": {
          "range": [
           0,
           2
          ],
          "title": {
           "text": "X"
          }
         },
         "yaxis": {
          "range": [
           0,
           2
          ],
          "title": {
           "text": "Y"
          }
         },
         "zaxis": {
          "range": [
           0,
           2
          ],
          "title": {
           "text": "Z"
          }
         }
        },
        "template": {
         "data": {
          "bar": [
           {
            "error_x": {
             "color": "#2a3f5f"
            },
            "error_y": {
             "color": "#2a3f5f"
            },
            "marker": {
             "line": {
              "color": "#E5ECF6",
              "width": 0.5
             },
             "pattern": {
              "fillmode": "overlay",
              "size": 10,
              "solidity": 0.2
             }
            },
            "type": "bar"
           }
          ],
          "barpolar": [
           {
            "marker": {
             "line": {
              "color": "#E5ECF6",
              "width": 0.5
             },
             "pattern": {
              "fillmode": "overlay",
              "size": 10,
              "solidity": 0.2
             }
            },
            "type": "barpolar"
           }
          ],
          "carpet": [
           {
            "aaxis": {
             "endlinecolor": "#2a3f5f",
             "gridcolor": "white",
             "linecolor": "white",
             "minorgridcolor": "white",
             "startlinecolor": "#2a3f5f"
            },
            "baxis": {
             "endlinecolor": "#2a3f5f",
             "gridcolor": "white",
             "linecolor": "white",
             "minorgridcolor": "white",
             "startlinecolor": "#2a3f5f"
            },
            "type": "carpet"
           }
          ],
          "choropleth": [
           {
            "colorbar": {
             "outlinewidth": 0,
             "ticks": ""
            },
            "type": "choropleth"
           }
          ],
          "contour": [
           {
            "colorbar": {
             "outlinewidth": 0,
             "ticks": ""
            },
            "colorscale": [
             [
              0,
              "#0d0887"
             ],
             [
              0.1111111111111111,
              "#46039f"
             ],
             [
              0.2222222222222222,
              "#7201a8"
             ],
             [
              0.3333333333333333,
              "#9c179e"
             ],
             [
              0.4444444444444444,
              "#bd3786"
             ],
             [
              0.5555555555555556,
              "#d8576b"
             ],
             [
              0.6666666666666666,
              "#ed7953"
             ],
             [
              0.7777777777777778,
              "#fb9f3a"
             ],
             [
              0.8888888888888888,
              "#fdca26"
             ],
             [
              1,
              "#f0f921"
             ]
            ],
            "type": "contour"
           }
          ],
          "contourcarpet": [
           {
            "colorbar": {
             "outlinewidth": 0,
             "ticks": ""
            },
            "type": "contourcarpet"
           }
          ],
          "heatmap": [
           {
            "colorbar": {
             "outlinewidth": 0,
             "ticks": ""
            },
            "colorscale": [
             [
              0,
              "#0d0887"
             ],
             [
              0.1111111111111111,
              "#46039f"
             ],
             [
              0.2222222222222222,
              "#7201a8"
             ],
             [
              0.3333333333333333,
              "#9c179e"
             ],
             [
              0.4444444444444444,
              "#bd3786"
             ],
             [
              0.5555555555555556,
              "#d8576b"
             ],
             [
              0.6666666666666666,
              "#ed7953"
             ],
             [
              0.7777777777777778,
              "#fb9f3a"
             ],
             [
              0.8888888888888888,
              "#fdca26"
             ],
             [
              1,
              "#f0f921"
             ]
            ],
            "type": "heatmap"
           }
          ],
          "histogram": [
           {
            "marker": {
             "pattern": {
              "fillmode": "overlay",
              "size": 10,
              "solidity": 0.2
             }
            },
            "type": "histogram"
           }
          ],
          "histogram2d": [
           {
            "colorbar": {
             "outlinewidth": 0,
             "ticks": ""
            },
            "colorscale": [
             [
              0,
              "#0d0887"
             ],
             [
              0.1111111111111111,
              "#46039f"
             ],
             [
              0.2222222222222222,
              "#7201a8"
             ],
             [
              0.3333333333333333,
              "#9c179e"
             ],
             [
              0.4444444444444444,
              "#bd3786"
             ],
             [
              0.5555555555555556,
              "#d8576b"
             ],
             [
              0.6666666666666666,
              "#ed7953"
             ],
             [
              0.7777777777777778,
              "#fb9f3a"
             ],
             [
              0.8888888888888888,
              "#fdca26"
             ],
             [
              1,
              "#f0f921"
             ]
            ],
            "type": "histogram2d"
           }
          ],
          "histogram2dcontour": [
           {
            "colorbar": {
             "outlinewidth": 0,
             "ticks": ""
            },
            "colorscale": [
             [
              0,
              "#0d0887"
             ],
             [
              0.1111111111111111,
              "#46039f"
             ],
             [
              0.2222222222222222,
              "#7201a8"
             ],
             [
              0.3333333333333333,
              "#9c179e"
             ],
             [
              0.4444444444444444,
              "#bd3786"
             ],
             [
              0.5555555555555556,
              "#d8576b"
             ],
             [
              0.6666666666666666,
              "#ed7953"
             ],
             [
              0.7777777777777778,
              "#fb9f3a"
             ],
             [
              0.8888888888888888,
              "#fdca26"
             ],
             [
              1,
              "#f0f921"
             ]
            ],
            "type": "histogram2dcontour"
           }
          ],
          "mesh3d": [
           {
            "colorbar": {
             "outlinewidth": 0,
             "ticks": ""
            },
            "type": "mesh3d"
           }
          ],
          "parcoords": [
           {
            "line": {
             "colorbar": {
              "outlinewidth": 0,
              "ticks": ""
             }
            },
            "type": "parcoords"
           }
          ],
          "pie": [
           {
            "automargin": true,
            "type": "pie"
           }
          ],
          "scatter": [
           {
            "fillpattern": {
             "fillmode": "overlay",
             "size": 10,
             "solidity": 0.2
            },
            "type": "scatter"
           }
          ],
          "scatter3d": [
           {
            "line": {
             "colorbar": {
              "outlinewidth": 0,
              "ticks": ""
             }
            },
            "marker": {
             "colorbar": {
              "outlinewidth": 0,
              "ticks": ""
             }
            },
            "type": "scatter3d"
           }
          ],
          "scattercarpet": [
           {
            "marker": {
             "colorbar": {
              "outlinewidth": 0,
              "ticks": ""
             }
            },
            "type": "scattercarpet"
           }
          ],
          "scattergeo": [
           {
            "marker": {
             "colorbar": {
              "outlinewidth": 0,
              "ticks": ""
             }
            },
            "type": "scattergeo"
           }
          ],
          "scattergl": [
           {
            "marker": {
             "colorbar": {
              "outlinewidth": 0,
              "ticks": ""
             }
            },
            "type": "scattergl"
           }
          ],
          "scattermap": [
           {
            "marker": {
             "colorbar": {
              "outlinewidth": 0,
              "ticks": ""
             }
            },
            "type": "scattermap"
           }
          ],
          "scattermapbox": [
           {
            "marker": {
             "colorbar": {
              "outlinewidth": 0,
              "ticks": ""
             }
            },
            "type": "scattermapbox"
           }
          ],
          "scatterpolar": [
           {
            "marker": {
             "colorbar": {
              "outlinewidth": 0,
              "ticks": ""
             }
            },
            "type": "scatterpolar"
           }
          ],
          "scatterpolargl": [
           {
            "marker": {
             "colorbar": {
              "outlinewidth": 0,
              "ticks": ""
             }
            },
            "type": "scatterpolargl"
           }
          ],
          "scatterternary": [
           {
            "marker": {
             "colorbar": {
              "outlinewidth": 0,
              "ticks": ""
             }
            },
            "type": "scatterternary"
           }
          ],
          "surface": [
           {
            "colorbar": {
             "outlinewidth": 0,
             "ticks": ""
            },
            "colorscale": [
             [
              0,
              "#0d0887"
             ],
             [
              0.1111111111111111,
              "#46039f"
             ],
             [
              0.2222222222222222,
              "#7201a8"
             ],
             [
              0.3333333333333333,
              "#9c179e"
             ],
             [
              0.4444444444444444,
              "#bd3786"
             ],
             [
              0.5555555555555556,
              "#d8576b"
             ],
             [
              0.6666666666666666,
              "#ed7953"
             ],
             [
              0.7777777777777778,
              "#fb9f3a"
             ],
             [
              0.8888888888888888,
              "#fdca26"
             ],
             [
              1,
              "#f0f921"
             ]
            ],
            "type": "surface"
           }
          ],
          "table": [
           {
            "cells": {
             "fill": {
              "color": "#EBF0F8"
             },
             "line": {
              "color": "white"
             }
            },
            "header": {
             "fill": {
              "color": "#C8D4E3"
             },
             "line": {
              "color": "white"
             }
            },
            "type": "table"
           }
          ]
         },
         "layout": {
          "annotationdefaults": {
           "arrowcolor": "#2a3f5f",
           "arrowhead": 0,
           "arrowwidth": 1
          },
          "autotypenumbers": "strict",
          "coloraxis": {
           "colorbar": {
            "outlinewidth": 0,
            "ticks": ""
           }
          },
          "colorscale": {
           "diverging": [
            [
             0,
             "#8e0152"
            ],
            [
             0.1,
             "#c51b7d"
            ],
            [
             0.2,
             "#de77ae"
            ],
            [
             0.3,
             "#f1b6da"
            ],
            [
             0.4,
             "#fde0ef"
            ],
            [
             0.5,
             "#f7f7f7"
            ],
            [
             0.6,
             "#e6f5d0"
            ],
            [
             0.7,
             "#b8e186"
            ],
            [
             0.8,
             "#7fbc41"
            ],
            [
             0.9,
             "#4d9221"
            ],
            [
             1,
             "#276419"
            ]
           ],
           "sequential": [
            [
             0,
             "#0d0887"
            ],
            [
             0.1111111111111111,
             "#46039f"
            ],
            [
             0.2222222222222222,
             "#7201a8"
            ],
            [
             0.3333333333333333,
             "#9c179e"
            ],
            [
             0.4444444444444444,
             "#bd3786"
            ],
            [
             0.5555555555555556,
             "#d8576b"
            ],
            [
             0.6666666666666666,
             "#ed7953"
            ],
            [
             0.7777777777777778,
             "#fb9f3a"
            ],
            [
             0.8888888888888888,
             "#fdca26"
            ],
            [
             1,
             "#f0f921"
            ]
           ],
           "sequentialminus": [
            [
             0,
             "#0d0887"
            ],
            [
             0.1111111111111111,
             "#46039f"
            ],
            [
             0.2222222222222222,
             "#7201a8"
            ],
            [
             0.3333333333333333,
             "#9c179e"
            ],
            [
             0.4444444444444444,
             "#bd3786"
            ],
            [
             0.5555555555555556,
             "#d8576b"
            ],
            [
             0.6666666666666666,
             "#ed7953"
            ],
            [
             0.7777777777777778,
             "#fb9f3a"
            ],
            [
             0.8888888888888888,
             "#fdca26"
            ],
            [
             1,
             "#f0f921"
            ]
           ]
          },
          "colorway": [
           "#636efa",
           "#EF553B",
           "#00cc96",
           "#ab63fa",
           "#FFA15A",
           "#19d3f3",
           "#FF6692",
           "#B6E880",
           "#FF97FF",
           "#FECB52"
          ],
          "font": {
           "color": "#2a3f5f"
          },
          "geo": {
           "bgcolor": "white",
           "lakecolor": "white",
           "landcolor": "#E5ECF6",
           "showlakes": true,
           "showland": true,
           "subunitcolor": "white"
          },
          "hoverlabel": {
           "align": "left"
          },
          "hovermode": "closest",
          "mapbox": {
           "style": "light"
          },
          "paper_bgcolor": "white",
          "plot_bgcolor": "#E5ECF6",
          "polar": {
           "angularaxis": {
            "gridcolor": "white",
            "linecolor": "white",
            "ticks": ""
           },
           "bgcolor": "#E5ECF6",
           "radialaxis": {
            "gridcolor": "white",
            "linecolor": "white",
            "ticks": ""
           }
          },
          "scene": {
           "xaxis": {
            "backgroundcolor": "#E5ECF6",
            "gridcolor": "white",
            "gridwidth": 2,
            "linecolor": "white",
            "showbackground": true,
            "ticks": "",
            "zerolinecolor": "white"
           },
           "yaxis": {
            "backgroundcolor": "#E5ECF6",
            "gridcolor": "white",
            "gridwidth": 2,
            "linecolor": "white",
            "showbackground": true,
            "ticks": "",
            "zerolinecolor": "white"
           },
           "zaxis": {
            "backgroundcolor": "#E5ECF6",
            "gridcolor": "white",
            "gridwidth": 2,
            "linecolor": "white",
            "showbackground": true,
            "ticks": "",
            "zerolinecolor": "white"
           }
          },
          "shapedefaults": {
           "line": {
            "color": "#2a3f5f"
           }
          },
          "ternary": {
           "aaxis": {
            "gridcolor": "white",
            "linecolor": "white",
            "ticks": ""
           },
           "baxis": {
            "gridcolor": "white",
            "linecolor": "white",
            "ticks": ""
           },
           "bgcolor": "#E5ECF6",
           "caxis": {
            "gridcolor": "white",
            "linecolor": "white",
            "ticks": ""
           }
          },
          "title": {
           "x": 0.05
          },
          "xaxis": {
           "automargin": true,
           "gridcolor": "white",
           "linecolor": "white",
           "ticks": "",
           "title": {
            "standoff": 15
           },
           "zerolinecolor": "white",
           "zerolinewidth": 2
          },
          "yaxis": {
           "automargin": true,
           "gridcolor": "white",
           "linecolor": "white",
           "ticks": "",
           "title": {
            "standoff": 15
           },
           "zerolinecolor": "white",
           "zerolinewidth": 2
          }
         }
        }
       }
      }
     },
     "metadata": {},
     "output_type": "display_data"
    }
   ],
   "source": [
    "sample_shape = [[0,0,0], [0,1,0]]\n",
    "plot_blokk_shape_plotly(voxels=sample_shape, n=2)"
   ]
  },
  {
   "cell_type": "code",
   "execution_count": 8,
   "id": "ce69999c",
   "metadata": {},
   "outputs": [
    {
     "name": "stdout",
     "output_type": "stream",
     "text": [
      "\n",
      "sample_shape = \n",
      "[[0 0 0]\n",
      " [0 1 0]]\n",
      "first translation =\n",
      "[[0 0 0]\n",
      " [0 1 0]]\n",
      "first rotation =\n",
      "[[0 0 0]\n",
      " [0 0 1]]\n",
      "\n"
     ]
    },
    {
     "data": {
      "application/vnd.plotly.v1+json": {
       "config": {
        "plotlyServerURL": "https://plot.ly"
       },
       "data": [
        {
         "alphahull": 1,
         "opacity": 0.5,
         "showscale": false,
         "type": "mesh3d",
         "x": [
          1.04,
          1.96,
          1.96,
          1.04,
          1.04,
          1.96,
          1.96,
          1.04
         ],
         "y": [
          0.03999999999999998,
          0.03999999999999998,
          0.96,
          0.96,
          0.03999999999999998,
          0.03999999999999998,
          0.96,
          0.96
         ],
         "z": [
          0.03999999999999998,
          0.03999999999999998,
          0.03999999999999998,
          0.03999999999999998,
          0.96,
          0.96,
          0.96,
          0.96
         ]
        },
        {
         "alphahull": 1,
         "opacity": 0.5,
         "showscale": false,
         "type": "mesh3d",
         "x": [
          0.03999999999999998,
          0.96,
          0.96,
          0.03999999999999998,
          0.03999999999999998,
          0.96,
          0.96,
          0.03999999999999998
         ],
         "y": [
          0.03999999999999998,
          0.03999999999999998,
          0.96,
          0.96,
          0.03999999999999998,
          0.03999999999999998,
          0.96,
          0.96
         ],
         "z": [
          0.03999999999999998,
          0.03999999999999998,
          0.03999999999999998,
          0.03999999999999998,
          0.96,
          0.96,
          0.96,
          0.96
         ]
        },
        {
         "alphahull": 0,
         "color": "lightgray",
         "opacity": 0.1,
         "showscale": false,
         "type": "mesh3d",
         "x": [
          0,
          2,
          2,
          0,
          0,
          2,
          2,
          0
         ],
         "y": [
          0,
          0,
          2,
          2,
          0,
          0,
          2,
          2
         ],
         "z": [
          0,
          0,
          0,
          0,
          2,
          2,
          2,
          2
         ]
        }
       ],
       "layout": {
        "margin": {
         "b": 0,
         "l": 0,
         "r": 0,
         "t": 0
        },
        "scene": {
         "aspectratio": {
          "x": 1,
          "y": 1,
          "z": 1
         },
         "xaxis": {
          "range": [
           0,
           2
          ],
          "title": {
           "text": "X"
          }
         },
         "yaxis": {
          "range": [
           0,
           2
          ],
          "title": {
           "text": "Y"
          }
         },
         "zaxis": {
          "range": [
           0,
           2
          ],
          "title": {
           "text": "Z"
          }
         }
        },
        "template": {
         "data": {
          "bar": [
           {
            "error_x": {
             "color": "#2a3f5f"
            },
            "error_y": {
             "color": "#2a3f5f"
            },
            "marker": {
             "line": {
              "color": "#E5ECF6",
              "width": 0.5
             },
             "pattern": {
              "fillmode": "overlay",
              "size": 10,
              "solidity": 0.2
             }
            },
            "type": "bar"
           }
          ],
          "barpolar": [
           {
            "marker": {
             "line": {
              "color": "#E5ECF6",
              "width": 0.5
             },
             "pattern": {
              "fillmode": "overlay",
              "size": 10,
              "solidity": 0.2
             }
            },
            "type": "barpolar"
           }
          ],
          "carpet": [
           {
            "aaxis": {
             "endlinecolor": "#2a3f5f",
             "gridcolor": "white",
             "linecolor": "white",
             "minorgridcolor": "white",
             "startlinecolor": "#2a3f5f"
            },
            "baxis": {
             "endlinecolor": "#2a3f5f",
             "gridcolor": "white",
             "linecolor": "white",
             "minorgridcolor": "white",
             "startlinecolor": "#2a3f5f"
            },
            "type": "carpet"
           }
          ],
          "choropleth": [
           {
            "colorbar": {
             "outlinewidth": 0,
             "ticks": ""
            },
            "type": "choropleth"
           }
          ],
          "contour": [
           {
            "colorbar": {
             "outlinewidth": 0,
             "ticks": ""
            },
            "colorscale": [
             [
              0,
              "#0d0887"
             ],
             [
              0.1111111111111111,
              "#46039f"
             ],
             [
              0.2222222222222222,
              "#7201a8"
             ],
             [
              0.3333333333333333,
              "#9c179e"
             ],
             [
              0.4444444444444444,
              "#bd3786"
             ],
             [
              0.5555555555555556,
              "#d8576b"
             ],
             [
              0.6666666666666666,
              "#ed7953"
             ],
             [
              0.7777777777777778,
              "#fb9f3a"
             ],
             [
              0.8888888888888888,
              "#fdca26"
             ],
             [
              1,
              "#f0f921"
             ]
            ],
            "type": "contour"
           }
          ],
          "contourcarpet": [
           {
            "colorbar": {
             "outlinewidth": 0,
             "ticks": ""
            },
            "type": "contourcarpet"
           }
          ],
          "heatmap": [
           {
            "colorbar": {
             "outlinewidth": 0,
             "ticks": ""
            },
            "colorscale": [
             [
              0,
              "#0d0887"
             ],
             [
              0.1111111111111111,
              "#46039f"
             ],
             [
              0.2222222222222222,
              "#7201a8"
             ],
             [
              0.3333333333333333,
              "#9c179e"
             ],
             [
              0.4444444444444444,
              "#bd3786"
             ],
             [
              0.5555555555555556,
              "#d8576b"
             ],
             [
              0.6666666666666666,
              "#ed7953"
             ],
             [
              0.7777777777777778,
              "#fb9f3a"
             ],
             [
              0.8888888888888888,
              "#fdca26"
             ],
             [
              1,
              "#f0f921"
             ]
            ],
            "type": "heatmap"
           }
          ],
          "histogram": [
           {
            "marker": {
             "pattern": {
              "fillmode": "overlay",
              "size": 10,
              "solidity": 0.2
             }
            },
            "type": "histogram"
           }
          ],
          "histogram2d": [
           {
            "colorbar": {
             "outlinewidth": 0,
             "ticks": ""
            },
            "colorscale": [
             [
              0,
              "#0d0887"
             ],
             [
              0.1111111111111111,
              "#46039f"
             ],
             [
              0.2222222222222222,
              "#7201a8"
             ],
             [
              0.3333333333333333,
              "#9c179e"
             ],
             [
              0.4444444444444444,
              "#bd3786"
             ],
             [
              0.5555555555555556,
              "#d8576b"
             ],
             [
              0.6666666666666666,
              "#ed7953"
             ],
             [
              0.7777777777777778,
              "#fb9f3a"
             ],
             [
              0.8888888888888888,
              "#fdca26"
             ],
             [
              1,
              "#f0f921"
             ]
            ],
            "type": "histogram2d"
           }
          ],
          "histogram2dcontour": [
           {
            "colorbar": {
             "outlinewidth": 0,
             "ticks": ""
            },
            "colorscale": [
             [
              0,
              "#0d0887"
             ],
             [
              0.1111111111111111,
              "#46039f"
             ],
             [
              0.2222222222222222,
              "#7201a8"
             ],
             [
              0.3333333333333333,
              "#9c179e"
             ],
             [
              0.4444444444444444,
              "#bd3786"
             ],
             [
              0.5555555555555556,
              "#d8576b"
             ],
             [
              0.6666666666666666,
              "#ed7953"
             ],
             [
              0.7777777777777778,
              "#fb9f3a"
             ],
             [
              0.8888888888888888,
              "#fdca26"
             ],
             [
              1,
              "#f0f921"
             ]
            ],
            "type": "histogram2dcontour"
           }
          ],
          "mesh3d": [
           {
            "colorbar": {
             "outlinewidth": 0,
             "ticks": ""
            },
            "type": "mesh3d"
           }
          ],
          "parcoords": [
           {
            "line": {
             "colorbar": {
              "outlinewidth": 0,
              "ticks": ""
             }
            },
            "type": "parcoords"
           }
          ],
          "pie": [
           {
            "automargin": true,
            "type": "pie"
           }
          ],
          "scatter": [
           {
            "fillpattern": {
             "fillmode": "overlay",
             "size": 10,
             "solidity": 0.2
            },
            "type": "scatter"
           }
          ],
          "scatter3d": [
           {
            "line": {
             "colorbar": {
              "outlinewidth": 0,
              "ticks": ""
             }
            },
            "marker": {
             "colorbar": {
              "outlinewidth": 0,
              "ticks": ""
             }
            },
            "type": "scatter3d"
           }
          ],
          "scattercarpet": [
           {
            "marker": {
             "colorbar": {
              "outlinewidth": 0,
              "ticks": ""
             }
            },
            "type": "scattercarpet"
           }
          ],
          "scattergeo": [
           {
            "marker": {
             "colorbar": {
              "outlinewidth": 0,
              "ticks": ""
             }
            },
            "type": "scattergeo"
           }
          ],
          "scattergl": [
           {
            "marker": {
             "colorbar": {
              "outlinewidth": 0,
              "ticks": ""
             }
            },
            "type": "scattergl"
           }
          ],
          "scattermap": [
           {
            "marker": {
             "colorbar": {
              "outlinewidth": 0,
              "ticks": ""
             }
            },
            "type": "scattermap"
           }
          ],
          "scattermapbox": [
           {
            "marker": {
             "colorbar": {
              "outlinewidth": 0,
              "ticks": ""
             }
            },
            "type": "scattermapbox"
           }
          ],
          "scatterpolar": [
           {
            "marker": {
             "colorbar": {
              "outlinewidth": 0,
              "ticks": ""
             }
            },
            "type": "scatterpolar"
           }
          ],
          "scatterpolargl": [
           {
            "marker": {
             "colorbar": {
              "outlinewidth": 0,
              "ticks": ""
             }
            },
            "type": "scatterpolargl"
           }
          ],
          "scatterternary": [
           {
            "marker": {
             "colorbar": {
              "outlinewidth": 0,
              "ticks": ""
             }
            },
            "type": "scatterternary"
           }
          ],
          "surface": [
           {
            "colorbar": {
             "outlinewidth": 0,
             "ticks": ""
            },
            "colorscale": [
             [
              0,
              "#0d0887"
             ],
             [
              0.1111111111111111,
              "#46039f"
             ],
             [
              0.2222222222222222,
              "#7201a8"
             ],
             [
              0.3333333333333333,
              "#9c179e"
             ],
             [
              0.4444444444444444,
              "#bd3786"
             ],
             [
              0.5555555555555556,
              "#d8576b"
             ],
             [
              0.6666666666666666,
              "#ed7953"
             ],
             [
              0.7777777777777778,
              "#fb9f3a"
             ],
             [
              0.8888888888888888,
              "#fdca26"
             ],
             [
              1,
              "#f0f921"
             ]
            ],
            "type": "surface"
           }
          ],
          "table": [
           {
            "cells": {
             "fill": {
              "color": "#EBF0F8"
             },
             "line": {
              "color": "white"
             }
            },
            "header": {
             "fill": {
              "color": "#C8D4E3"
             },
             "line": {
              "color": "white"
             }
            },
            "type": "table"
           }
          ]
         },
         "layout": {
          "annotationdefaults": {
           "arrowcolor": "#2a3f5f",
           "arrowhead": 0,
           "arrowwidth": 1
          },
          "autotypenumbers": "strict",
          "coloraxis": {
           "colorbar": {
            "outlinewidth": 0,
            "ticks": ""
           }
          },
          "colorscale": {
           "diverging": [
            [
             0,
             "#8e0152"
            ],
            [
             0.1,
             "#c51b7d"
            ],
            [
             0.2,
             "#de77ae"
            ],
            [
             0.3,
             "#f1b6da"
            ],
            [
             0.4,
             "#fde0ef"
            ],
            [
             0.5,
             "#f7f7f7"
            ],
            [
             0.6,
             "#e6f5d0"
            ],
            [
             0.7,
             "#b8e186"
            ],
            [
             0.8,
             "#7fbc41"
            ],
            [
             0.9,
             "#4d9221"
            ],
            [
             1,
             "#276419"
            ]
           ],
           "sequential": [
            [
             0,
             "#0d0887"
            ],
            [
             0.1111111111111111,
             "#46039f"
            ],
            [
             0.2222222222222222,
             "#7201a8"
            ],
            [
             0.3333333333333333,
             "#9c179e"
            ],
            [
             0.4444444444444444,
             "#bd3786"
            ],
            [
             0.5555555555555556,
             "#d8576b"
            ],
            [
             0.6666666666666666,
             "#ed7953"
            ],
            [
             0.7777777777777778,
             "#fb9f3a"
            ],
            [
             0.8888888888888888,
             "#fdca26"
            ],
            [
             1,
             "#f0f921"
            ]
           ],
           "sequentialminus": [
            [
             0,
             "#0d0887"
            ],
            [
             0.1111111111111111,
             "#46039f"
            ],
            [
             0.2222222222222222,
             "#7201a8"
            ],
            [
             0.3333333333333333,
             "#9c179e"
            ],
            [
             0.4444444444444444,
             "#bd3786"
            ],
            [
             0.5555555555555556,
             "#d8576b"
            ],
            [
             0.6666666666666666,
             "#ed7953"
            ],
            [
             0.7777777777777778,
             "#fb9f3a"
            ],
            [
             0.8888888888888888,
             "#fdca26"
            ],
            [
             1,
             "#f0f921"
            ]
           ]
          },
          "colorway": [
           "#636efa",
           "#EF553B",
           "#00cc96",
           "#ab63fa",
           "#FFA15A",
           "#19d3f3",
           "#FF6692",
           "#B6E880",
           "#FF97FF",
           "#FECB52"
          ],
          "font": {
           "color": "#2a3f5f"
          },
          "geo": {
           "bgcolor": "white",
           "lakecolor": "white",
           "landcolor": "#E5ECF6",
           "showlakes": true,
           "showland": true,
           "subunitcolor": "white"
          },
          "hoverlabel": {
           "align": "left"
          },
          "hovermode": "closest",
          "mapbox": {
           "style": "light"
          },
          "paper_bgcolor": "white",
          "plot_bgcolor": "#E5ECF6",
          "polar": {
           "angularaxis": {
            "gridcolor": "white",
            "linecolor": "white",
            "ticks": ""
           },
           "bgcolor": "#E5ECF6",
           "radialaxis": {
            "gridcolor": "white",
            "linecolor": "white",
            "ticks": ""
           }
          },
          "scene": {
           "xaxis": {
            "backgroundcolor": "#E5ECF6",
            "gridcolor": "white",
            "gridwidth": 2,
            "linecolor": "white",
            "showbackground": true,
            "ticks": "",
            "zerolinecolor": "white"
           },
           "yaxis": {
            "backgroundcolor": "#E5ECF6",
            "gridcolor": "white",
            "gridwidth": 2,
            "linecolor": "white",
            "showbackground": true,
            "ticks": "",
            "zerolinecolor": "white"
           },
           "zaxis": {
            "backgroundcolor": "#E5ECF6",
            "gridcolor": "white",
            "gridwidth": 2,
            "linecolor": "white",
            "showbackground": true,
            "ticks": "",
            "zerolinecolor": "white"
           }
          },
          "shapedefaults": {
           "line": {
            "color": "#2a3f5f"
           }
          },
          "ternary": {
           "aaxis": {
            "gridcolor": "white",
            "linecolor": "white",
            "ticks": ""
           },
           "baxis": {
            "gridcolor": "white",
            "linecolor": "white",
            "ticks": ""
           },
           "bgcolor": "#E5ECF6",
           "caxis": {
            "gridcolor": "white",
            "linecolor": "white",
            "ticks": ""
           }
          },
          "title": {
           "x": 0.05
          },
          "xaxis": {
           "automargin": true,
           "gridcolor": "white",
           "linecolor": "white",
           "ticks": "",
           "title": {
            "standoff": 15
           },
           "zerolinecolor": "white",
           "zerolinewidth": 2
          },
          "yaxis": {
           "automargin": true,
           "gridcolor": "white",
           "linecolor": "white",
           "ticks": "",
           "title": {
            "standoff": 15
           },
           "zerolinecolor": "white",
           "zerolinewidth": 2
          }
         }
        }
       }
      }
     },
     "metadata": {},
     "output_type": "display_data"
    }
   ],
   "source": [
    "rotations = generate_rotations(voxels=sample_shape)\n",
    "translations = generate_translations(voxels=sample_shape, n=2)\n",
    "print(f\"\"\"\n",
    "sample_shape = \n",
    "{np.array(sample_shape)}\n",
    "first translation =\n",
    "{np.array(translations[0])}\n",
    "first rotation =\n",
    "{np.array(rotations[0])}\n",
    "\"\"\")\n",
    "plot_blokk_shape_plotly(voxels=rotations[-1], n=2)"
   ]
  },
  {
   "cell_type": "code",
   "execution_count": 9,
   "id": "16891b68",
   "metadata": {},
   "outputs": [
    {
     "name": "stdout",
     "output_type": "stream",
     "text": [
      "4\n"
     ]
    },
    {
     "data": {
      "application/vnd.plotly.v1+json": {
       "config": {
        "plotlyServerURL": "https://plot.ly"
       },
       "data": [
        {
         "alphahull": 1,
         "color": "black",
         "opacity": 0.5,
         "showscale": false,
         "type": "mesh3d",
         "x": [
          0.03999999999999998,
          0.96,
          0.96,
          0.03999999999999998,
          0.03999999999999998,
          0.96,
          0.96,
          0.03999999999999998
         ],
         "y": [
          0.03999999999999998,
          0.03999999999999998,
          0.96,
          0.96,
          0.03999999999999998,
          0.03999999999999998,
          0.96,
          0.96
         ],
         "z": [
          0.03999999999999998,
          0.03999999999999998,
          0.03999999999999998,
          0.03999999999999998,
          0.96,
          0.96,
          0.96,
          0.96
         ]
        },
        {
         "alphahull": 1,
         "color": "black",
         "opacity": 0.5,
         "showscale": false,
         "type": "mesh3d",
         "x": [
          0.03999999999999998,
          0.96,
          0.96,
          0.03999999999999998,
          0.03999999999999998,
          0.96,
          0.96,
          0.03999999999999998
         ],
         "y": [
          1.04,
          1.04,
          1.96,
          1.96,
          1.04,
          1.04,
          1.96,
          1.96
         ],
         "z": [
          0.03999999999999998,
          0.03999999999999998,
          0.03999999999999998,
          0.03999999999999998,
          0.96,
          0.96,
          0.96,
          0.96
         ]
        },
        {
         "alphahull": 0,
         "color": "lightgray",
         "opacity": 0.1,
         "showscale": false,
         "type": "mesh3d",
         "x": [
          0,
          2,
          2,
          0,
          0,
          2,
          2,
          0
         ],
         "y": [
          0,
          0,
          2,
          2,
          0,
          0,
          2,
          2
         ],
         "z": [
          0,
          0,
          0,
          0,
          2,
          2,
          2,
          2
         ]
        },
        {
         "alphahull": 1,
         "color": "black",
         "opacity": 0.5,
         "showscale": false,
         "type": "mesh3d",
         "x": [
          0.03999999999999998,
          0.96,
          0.96,
          0.03999999999999998,
          0.03999999999999998,
          0.96,
          0.96,
          0.03999999999999998
         ],
         "y": [
          0.03999999999999998,
          0.03999999999999998,
          0.96,
          0.96,
          0.03999999999999998,
          0.03999999999999998,
          0.96,
          0.96
         ],
         "z": [
          1.04,
          1.04,
          1.04,
          1.04,
          1.96,
          1.96,
          1.96,
          1.96
         ]
        },
        {
         "alphahull": 1,
         "color": "black",
         "opacity": 0.5,
         "showscale": false,
         "type": "mesh3d",
         "x": [
          0.03999999999999998,
          0.96,
          0.96,
          0.03999999999999998,
          0.03999999999999998,
          0.96,
          0.96,
          0.03999999999999998
         ],
         "y": [
          1.04,
          1.04,
          1.96,
          1.96,
          1.04,
          1.04,
          1.96,
          1.96
         ],
         "z": [
          1.04,
          1.04,
          1.04,
          1.04,
          1.96,
          1.96,
          1.96,
          1.96
         ]
        },
        {
         "alphahull": 0,
         "color": "lightgray",
         "opacity": 0.1,
         "showscale": false,
         "type": "mesh3d",
         "x": [
          0,
          2,
          2,
          0,
          0,
          2,
          2,
          0
         ],
         "y": [
          0,
          0,
          2,
          2,
          0,
          0,
          2,
          2
         ],
         "z": [
          0,
          0,
          0,
          0,
          2,
          2,
          2,
          2
         ]
        },
        {
         "alphahull": 1,
         "color": "black",
         "opacity": 0.5,
         "showscale": false,
         "type": "mesh3d",
         "x": [
          1.04,
          1.96,
          1.96,
          1.04,
          1.04,
          1.96,
          1.96,
          1.04
         ],
         "y": [
          0.03999999999999998,
          0.03999999999999998,
          0.96,
          0.96,
          0.03999999999999998,
          0.03999999999999998,
          0.96,
          0.96
         ],
         "z": [
          0.03999999999999998,
          0.03999999999999998,
          0.03999999999999998,
          0.03999999999999998,
          0.96,
          0.96,
          0.96,
          0.96
         ]
        },
        {
         "alphahull": 1,
         "color": "black",
         "opacity": 0.5,
         "showscale": false,
         "type": "mesh3d",
         "x": [
          1.04,
          1.96,
          1.96,
          1.04,
          1.04,
          1.96,
          1.96,
          1.04
         ],
         "y": [
          1.04,
          1.04,
          1.96,
          1.96,
          1.04,
          1.04,
          1.96,
          1.96
         ],
         "z": [
          0.03999999999999998,
          0.03999999999999998,
          0.03999999999999998,
          0.03999999999999998,
          0.96,
          0.96,
          0.96,
          0.96
         ]
        },
        {
         "alphahull": 0,
         "color": "lightgray",
         "opacity": 0.1,
         "showscale": false,
         "type": "mesh3d",
         "x": [
          0,
          2,
          2,
          0,
          0,
          2,
          2,
          0
         ],
         "y": [
          0,
          0,
          2,
          2,
          0,
          0,
          2,
          2
         ],
         "z": [
          0,
          0,
          0,
          0,
          2,
          2,
          2,
          2
         ]
        },
        {
         "alphahull": 1,
         "color": "black",
         "opacity": 0.5,
         "showscale": false,
         "type": "mesh3d",
         "x": [
          1.04,
          1.96,
          1.96,
          1.04,
          1.04,
          1.96,
          1.96,
          1.04
         ],
         "y": [
          0.03999999999999998,
          0.03999999999999998,
          0.96,
          0.96,
          0.03999999999999998,
          0.03999999999999998,
          0.96,
          0.96
         ],
         "z": [
          1.04,
          1.04,
          1.04,
          1.04,
          1.96,
          1.96,
          1.96,
          1.96
         ]
        },
        {
         "alphahull": 1,
         "color": "black",
         "opacity": 0.5,
         "showscale": false,
         "type": "mesh3d",
         "x": [
          1.04,
          1.96,
          1.96,
          1.04,
          1.04,
          1.96,
          1.96,
          1.04
         ],
         "y": [
          1.04,
          1.04,
          1.96,
          1.96,
          1.04,
          1.04,
          1.96,
          1.96
         ],
         "z": [
          1.04,
          1.04,
          1.04,
          1.04,
          1.96,
          1.96,
          1.96,
          1.96
         ]
        },
        {
         "alphahull": 0,
         "color": "lightgray",
         "opacity": 0.1,
         "showscale": false,
         "type": "mesh3d",
         "x": [
          0,
          2,
          2,
          0,
          0,
          2,
          2,
          0
         ],
         "y": [
          0,
          0,
          2,
          2,
          0,
          0,
          2,
          2
         ],
         "z": [
          0,
          0,
          0,
          0,
          2,
          2,
          2,
          2
         ]
        }
       ],
       "layout": {
        "margin": {
         "b": 0,
         "l": 0,
         "r": 0,
         "t": 0
        },
        "scene": {
         "aspectratio": {
          "x": 1,
          "y": 1,
          "z": 1
         },
         "xaxis": {
          "range": [
           0,
           2
          ],
          "title": {
           "text": "X"
          }
         },
         "yaxis": {
          "range": [
           0,
           2
          ],
          "title": {
           "text": "Y"
          }
         },
         "zaxis": {
          "range": [
           0,
           2
          ],
          "title": {
           "text": "Z"
          }
         }
        },
        "template": {
         "data": {
          "bar": [
           {
            "error_x": {
             "color": "#2a3f5f"
            },
            "error_y": {
             "color": "#2a3f5f"
            },
            "marker": {
             "line": {
              "color": "#E5ECF6",
              "width": 0.5
             },
             "pattern": {
              "fillmode": "overlay",
              "size": 10,
              "solidity": 0.2
             }
            },
            "type": "bar"
           }
          ],
          "barpolar": [
           {
            "marker": {
             "line": {
              "color": "#E5ECF6",
              "width": 0.5
             },
             "pattern": {
              "fillmode": "overlay",
              "size": 10,
              "solidity": 0.2
             }
            },
            "type": "barpolar"
           }
          ],
          "carpet": [
           {
            "aaxis": {
             "endlinecolor": "#2a3f5f",
             "gridcolor": "white",
             "linecolor": "white",
             "minorgridcolor": "white",
             "startlinecolor": "#2a3f5f"
            },
            "baxis": {
             "endlinecolor": "#2a3f5f",
             "gridcolor": "white",
             "linecolor": "white",
             "minorgridcolor": "white",
             "startlinecolor": "#2a3f5f"
            },
            "type": "carpet"
           }
          ],
          "choropleth": [
           {
            "colorbar": {
             "outlinewidth": 0,
             "ticks": ""
            },
            "type": "choropleth"
           }
          ],
          "contour": [
           {
            "colorbar": {
             "outlinewidth": 0,
             "ticks": ""
            },
            "colorscale": [
             [
              0,
              "#0d0887"
             ],
             [
              0.1111111111111111,
              "#46039f"
             ],
             [
              0.2222222222222222,
              "#7201a8"
             ],
             [
              0.3333333333333333,
              "#9c179e"
             ],
             [
              0.4444444444444444,
              "#bd3786"
             ],
             [
              0.5555555555555556,
              "#d8576b"
             ],
             [
              0.6666666666666666,
              "#ed7953"
             ],
             [
              0.7777777777777778,
              "#fb9f3a"
             ],
             [
              0.8888888888888888,
              "#fdca26"
             ],
             [
              1,
              "#f0f921"
             ]
            ],
            "type": "contour"
           }
          ],
          "contourcarpet": [
           {
            "colorbar": {
             "outlinewidth": 0,
             "ticks": ""
            },
            "type": "contourcarpet"
           }
          ],
          "heatmap": [
           {
            "colorbar": {
             "outlinewidth": 0,
             "ticks": ""
            },
            "colorscale": [
             [
              0,
              "#0d0887"
             ],
             [
              0.1111111111111111,
              "#46039f"
             ],
             [
              0.2222222222222222,
              "#7201a8"
             ],
             [
              0.3333333333333333,
              "#9c179e"
             ],
             [
              0.4444444444444444,
              "#bd3786"
             ],
             [
              0.5555555555555556,
              "#d8576b"
             ],
             [
              0.6666666666666666,
              "#ed7953"
             ],
             [
              0.7777777777777778,
              "#fb9f3a"
             ],
             [
              0.8888888888888888,
              "#fdca26"
             ],
             [
              1,
              "#f0f921"
             ]
            ],
            "type": "heatmap"
           }
          ],
          "histogram": [
           {
            "marker": {
             "pattern": {
              "fillmode": "overlay",
              "size": 10,
              "solidity": 0.2
             }
            },
            "type": "histogram"
           }
          ],
          "histogram2d": [
           {
            "colorbar": {
             "outlinewidth": 0,
             "ticks": ""
            },
            "colorscale": [
             [
              0,
              "#0d0887"
             ],
             [
              0.1111111111111111,
              "#46039f"
             ],
             [
              0.2222222222222222,
              "#7201a8"
             ],
             [
              0.3333333333333333,
              "#9c179e"
             ],
             [
              0.4444444444444444,
              "#bd3786"
             ],
             [
              0.5555555555555556,
              "#d8576b"
             ],
             [
              0.6666666666666666,
              "#ed7953"
             ],
             [
              0.7777777777777778,
              "#fb9f3a"
             ],
             [
              0.8888888888888888,
              "#fdca26"
             ],
             [
              1,
              "#f0f921"
             ]
            ],
            "type": "histogram2d"
           }
          ],
          "histogram2dcontour": [
           {
            "colorbar": {
             "outlinewidth": 0,
             "ticks": ""
            },
            "colorscale": [
             [
              0,
              "#0d0887"
             ],
             [
              0.1111111111111111,
              "#46039f"
             ],
             [
              0.2222222222222222,
              "#7201a8"
             ],
             [
              0.3333333333333333,
              "#9c179e"
             ],
             [
              0.4444444444444444,
              "#bd3786"
             ],
             [
              0.5555555555555556,
              "#d8576b"
             ],
             [
              0.6666666666666666,
              "#ed7953"
             ],
             [
              0.7777777777777778,
              "#fb9f3a"
             ],
             [
              0.8888888888888888,
              "#fdca26"
             ],
             [
              1,
              "#f0f921"
             ]
            ],
            "type": "histogram2dcontour"
           }
          ],
          "mesh3d": [
           {
            "colorbar": {
             "outlinewidth": 0,
             "ticks": ""
            },
            "type": "mesh3d"
           }
          ],
          "parcoords": [
           {
            "line": {
             "colorbar": {
              "outlinewidth": 0,
              "ticks": ""
             }
            },
            "type": "parcoords"
           }
          ],
          "pie": [
           {
            "automargin": true,
            "type": "pie"
           }
          ],
          "scatter": [
           {
            "fillpattern": {
             "fillmode": "overlay",
             "size": 10,
             "solidity": 0.2
            },
            "type": "scatter"
           }
          ],
          "scatter3d": [
           {
            "line": {
             "colorbar": {
              "outlinewidth": 0,
              "ticks": ""
             }
            },
            "marker": {
             "colorbar": {
              "outlinewidth": 0,
              "ticks": ""
             }
            },
            "type": "scatter3d"
           }
          ],
          "scattercarpet": [
           {
            "marker": {
             "colorbar": {
              "outlinewidth": 0,
              "ticks": ""
             }
            },
            "type": "scattercarpet"
           }
          ],
          "scattergeo": [
           {
            "marker": {
             "colorbar": {
              "outlinewidth": 0,
              "ticks": ""
             }
            },
            "type": "scattergeo"
           }
          ],
          "scattergl": [
           {
            "marker": {
             "colorbar": {
              "outlinewidth": 0,
              "ticks": ""
             }
            },
            "type": "scattergl"
           }
          ],
          "scattermap": [
           {
            "marker": {
             "colorbar": {
              "outlinewidth": 0,
              "ticks": ""
             }
            },
            "type": "scattermap"
           }
          ],
          "scattermapbox": [
           {
            "marker": {
             "colorbar": {
              "outlinewidth": 0,
              "ticks": ""
             }
            },
            "type": "scattermapbox"
           }
          ],
          "scatterpolar": [
           {
            "marker": {
             "colorbar": {
              "outlinewidth": 0,
              "ticks": ""
             }
            },
            "type": "scatterpolar"
           }
          ],
          "scatterpolargl": [
           {
            "marker": {
             "colorbar": {
              "outlinewidth": 0,
              "ticks": ""
             }
            },
            "type": "scatterpolargl"
           }
          ],
          "scatterternary": [
           {
            "marker": {
             "colorbar": {
              "outlinewidth": 0,
              "ticks": ""
             }
            },
            "type": "scatterternary"
           }
          ],
          "surface": [
           {
            "colorbar": {
             "outlinewidth": 0,
             "ticks": ""
            },
            "colorscale": [
             [
              0,
              "#0d0887"
             ],
             [
              0.1111111111111111,
              "#46039f"
             ],
             [
              0.2222222222222222,
              "#7201a8"
             ],
             [
              0.3333333333333333,
              "#9c179e"
             ],
             [
              0.4444444444444444,
              "#bd3786"
             ],
             [
              0.5555555555555556,
              "#d8576b"
             ],
             [
              0.6666666666666666,
              "#ed7953"
             ],
             [
              0.7777777777777778,
              "#fb9f3a"
             ],
             [
              0.8888888888888888,
              "#fdca26"
             ],
             [
              1,
              "#f0f921"
             ]
            ],
            "type": "surface"
           }
          ],
          "table": [
           {
            "cells": {
             "fill": {
              "color": "#EBF0F8"
             },
             "line": {
              "color": "white"
             }
            },
            "header": {
             "fill": {
              "color": "#C8D4E3"
             },
             "line": {
              "color": "white"
             }
            },
            "type": "table"
           }
          ]
         },
         "layout": {
          "annotationdefaults": {
           "arrowcolor": "#2a3f5f",
           "arrowhead": 0,
           "arrowwidth": 1
          },
          "autotypenumbers": "strict",
          "coloraxis": {
           "colorbar": {
            "outlinewidth": 0,
            "ticks": ""
           }
          },
          "colorscale": {
           "diverging": [
            [
             0,
             "#8e0152"
            ],
            [
             0.1,
             "#c51b7d"
            ],
            [
             0.2,
             "#de77ae"
            ],
            [
             0.3,
             "#f1b6da"
            ],
            [
             0.4,
             "#fde0ef"
            ],
            [
             0.5,
             "#f7f7f7"
            ],
            [
             0.6,
             "#e6f5d0"
            ],
            [
             0.7,
             "#b8e186"
            ],
            [
             0.8,
             "#7fbc41"
            ],
            [
             0.9,
             "#4d9221"
            ],
            [
             1,
             "#276419"
            ]
           ],
           "sequential": [
            [
             0,
             "#0d0887"
            ],
            [
             0.1111111111111111,
             "#46039f"
            ],
            [
             0.2222222222222222,
             "#7201a8"
            ],
            [
             0.3333333333333333,
             "#9c179e"
            ],
            [
             0.4444444444444444,
             "#bd3786"
            ],
            [
             0.5555555555555556,
             "#d8576b"
            ],
            [
             0.6666666666666666,
             "#ed7953"
            ],
            [
             0.7777777777777778,
             "#fb9f3a"
            ],
            [
             0.8888888888888888,
             "#fdca26"
            ],
            [
             1,
             "#f0f921"
            ]
           ],
           "sequentialminus": [
            [
             0,
             "#0d0887"
            ],
            [
             0.1111111111111111,
             "#46039f"
            ],
            [
             0.2222222222222222,
             "#7201a8"
            ],
            [
             0.3333333333333333,
             "#9c179e"
            ],
            [
             0.4444444444444444,
             "#bd3786"
            ],
            [
             0.5555555555555556,
             "#d8576b"
            ],
            [
             0.6666666666666666,
             "#ed7953"
            ],
            [
             0.7777777777777778,
             "#fb9f3a"
            ],
            [
             0.8888888888888888,
             "#fdca26"
            ],
            [
             1,
             "#f0f921"
            ]
           ]
          },
          "colorway": [
           "#636efa",
           "#EF553B",
           "#00cc96",
           "#ab63fa",
           "#FFA15A",
           "#19d3f3",
           "#FF6692",
           "#B6E880",
           "#FF97FF",
           "#FECB52"
          ],
          "font": {
           "color": "#2a3f5f"
          },
          "geo": {
           "bgcolor": "white",
           "lakecolor": "white",
           "landcolor": "#E5ECF6",
           "showlakes": true,
           "showland": true,
           "subunitcolor": "white"
          },
          "hoverlabel": {
           "align": "left"
          },
          "hovermode": "closest",
          "mapbox": {
           "style": "light"
          },
          "paper_bgcolor": "white",
          "plot_bgcolor": "#E5ECF6",
          "polar": {
           "angularaxis": {
            "gridcolor": "white",
            "linecolor": "white",
            "ticks": ""
           },
           "bgcolor": "#E5ECF6",
           "radialaxis": {
            "gridcolor": "white",
            "linecolor": "white",
            "ticks": ""
           }
          },
          "scene": {
           "xaxis": {
            "backgroundcolor": "#E5ECF6",
            "gridcolor": "white",
            "gridwidth": 2,
            "linecolor": "white",
            "showbackground": true,
            "ticks": "",
            "zerolinecolor": "white"
           },
           "yaxis": {
            "backgroundcolor": "#E5ECF6",
            "gridcolor": "white",
            "gridwidth": 2,
            "linecolor": "white",
            "showbackground": true,
            "ticks": "",
            "zerolinecolor": "white"
           },
           "zaxis": {
            "backgroundcolor": "#E5ECF6",
            "gridcolor": "white",
            "gridwidth": 2,
            "linecolor": "white",
            "showbackground": true,
            "ticks": "",
            "zerolinecolor": "white"
           }
          },
          "shapedefaults": {
           "line": {
            "color": "#2a3f5f"
           }
          },
          "ternary": {
           "aaxis": {
            "gridcolor": "white",
            "linecolor": "white",
            "ticks": ""
           },
           "baxis": {
            "gridcolor": "white",
            "linecolor": "white",
            "ticks": ""
           },
           "bgcolor": "#E5ECF6",
           "caxis": {
            "gridcolor": "white",
            "linecolor": "white",
            "ticks": ""
           }
          },
          "title": {
           "x": 0.05
          },
          "xaxis": {
           "automargin": true,
           "gridcolor": "white",
           "linecolor": "white",
           "ticks": "",
           "title": {
            "standoff": 15
           },
           "zerolinecolor": "white",
           "zerolinewidth": 2
          },
          "yaxis": {
           "automargin": true,
           "gridcolor": "white",
           "linecolor": "white",
           "ticks": "",
           "title": {
            "standoff": 15
           },
           "zerolinecolor": "white",
           "zerolinewidth": 2
          }
         }
        }
       }
      }
     },
     "metadata": {},
     "output_type": "display_data"
    }
   ],
   "source": [
    "translations = generate_translations(voxels=sample_shape, n=2)\n",
    "fig = go.Figure()\n",
    "print(len(translations))\n",
    "for t in translations:\n",
    "    plot_blokk_shape_plotly(voxels=t, fig=fig, color='black', n=2)\n",
    "fig.show()"
   ]
  },
  {
   "cell_type": "code",
   "execution_count": null,
   "id": "55bf3523",
   "metadata": {},
   "outputs": [],
   "source": []
  },
  {
   "cell_type": "code",
   "execution_count": null,
   "id": "21b31d8c",
   "metadata": {},
   "outputs": [],
   "source": [
    "generate_rotations(voxels=[[0,0,0], [0,0,1]])"
   ]
  },
  {
   "cell_type": "code",
   "execution_count": null,
   "id": "75b87572",
   "metadata": {},
   "outputs": [],
   "source": [
    "l = generate_rotations(voxels=[[0,0,0], [0,0,1]])\n",
    "s = np.unique(l, axis=0)\n",
    "print(f\"list len = {len(l)}, set len = {len(s)}\")"
   ]
  },
  {
   "cell_type": "code",
   "execution_count": null,
   "id": "7d4b4907",
   "metadata": {},
   "outputs": [],
   "source": [
    "from ipywidgets import widgets\n",
    "from IPython.display import display\n",
    "\n",
    "import plotly.graph_objects as go\n",
    "\n",
    "# Generate all rotations for the test_shape\n",
    "rotations = list(generate_rotations(test_shape, n))[:10]\n",
    "\n",
    "def plot_rotation(idx):\n",
    "    shape = rotations[idx]\n",
    "    fig = plot_blokk_shape_plotly(shape=shape, color='orange', n=n, show_coord_markers=True)\n",
    "    fig.update_layout(title_text=f\"Rotation {idx+1}/{len(rotations)}\")\n",
    "    fig.show()\n",
    "\n",
    "slider = widgets.IntSlider(min=0, max=len(rotations)-1, step=1, value=0, description='Rotation')\n",
    "widgets.interact(plot_rotation, idx=slider)"
   ]
  },
  {
   "cell_type": "code",
   "execution_count": null,
   "id": "9a8dfe22",
   "metadata": {},
   "outputs": [],
   "source": [
    "all_placements[2]"
   ]
  },
  {
   "cell_type": "code",
   "execution_count": null,
   "id": "f5290798",
   "metadata": {},
   "outputs": [],
   "source": [
    "fig = go.Figure()\n",
    "for p in all_placements[3]:\n",
    "    plot_blokk_shape_plotly(shape=p, fig=fig, color=None, n=3, show_coord_markers=True)\n",
    "fig.show()"
   ]
  },
  {
   "cell_type": "code",
   "execution_count": null,
   "id": "ab61b52d",
   "metadata": {},
   "outputs": [],
   "source": [
    "shape_to_game_board(shape = all_placements[0], n=5)"
   ]
  },
  {
   "cell_type": "code",
   "execution_count": null,
   "id": "574c2b60",
   "metadata": {},
   "outputs": [],
   "source": []
  },
  {
   "cell_type": "code",
   "execution_count": null,
   "id": "1ea23603",
   "metadata": {},
   "outputs": [],
   "source": []
  },
  {
   "cell_type": "code",
   "execution_count": null,
   "id": "246d9edf",
   "metadata": {},
   "outputs": [],
   "source": []
  }
 ],
 "metadata": {
  "kernelspec": {
   "display_name": "blokk-dev",
   "language": "python",
   "name": "blokk-dev"
  },
  "language_info": {
   "codemirror_mode": {
    "name": "ipython",
    "version": 3
   },
   "file_extension": ".py",
   "mimetype": "text/x-python",
   "name": "python",
   "nbconvert_exporter": "python",
   "pygments_lexer": "ipython3",
   "version": "3.13.2"
  }
 },
 "nbformat": 4,
 "nbformat_minor": 5
}
