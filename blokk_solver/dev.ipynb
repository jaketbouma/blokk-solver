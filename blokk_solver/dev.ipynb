{
 "cells": [
  {
   "cell_type": "markdown",
   "id": "69a5c370",
   "metadata": {},
   "source": [
    "# Plotting"
   ]
  },
  {
   "cell_type": "code",
   "execution_count": null,
   "id": "8a992577",
   "metadata": {},
   "outputs": [],
   "source": [
    "from blokk_solver.blokks import blokks\n",
    "blokks"
   ]
  },
  {
   "cell_type": "markdown",
   "id": "ebecc417",
   "metadata": {},
   "source": [
    "# Visualizing"
   ]
  },
  {
   "cell_type": "code",
   "execution_count": null,
   "id": "77825173",
   "metadata": {},
   "outputs": [],
   "source": [
    "from blokk_solver.combinatorics import generate_rotations, generate_translations\n",
    "from blokk_solver.plotting import plot_voxels\n",
    "import plotly.graph_objects as go\n",
    "\n",
    "import numpy as np"
   ]
  },
  {
   "cell_type": "code",
   "execution_count": null,
   "id": "ce69999c",
   "metadata": {},
   "outputs": [],
   "source": [
    "import plotly.colors\n",
    "palette = plotly.colors.qualitative.Plotly\n",
    "\n",
    "sample_shape = [[0,0,0], [0,1,0]]\n",
    "\n",
    "rotations = generate_rotations(voxels=sample_shape)\n",
    "translations = generate_translations(voxels=rotations[0], n=2)\n",
    "print(f\"\"\"\n",
    "sample_shape = \n",
    "{np.array(sample_shape)}\n",
    "first rotation =\n",
    "{np.array(rotations[0])}\n",
    "first translation of first rotation =\n",
    "{np.array(translations[0])}\n",
    "\"\"\")\n",
    "fig = go.Figure()\n",
    "plot_voxels(voxels=rotations[0], fig=fig, n=2, color=palette[0])\n",
    "plot_voxels(voxels=rotations[1], fig=fig, n=2, color=palette[1])\n",
    "fig.show()\n",
    "\n",
    "fig = go.Figure()\n",
    "print(f\"\"\"\n",
    "plotting all {len(translations)} translations\n",
    "{translations}\n",
    "\"\"\")\n",
    "for idx,t in enumerate(translations):\n",
    "    fig = plot_voxels(voxels=t, fig=fig, n=2, color=palette[idx], opacity=1)\n",
    "fig.show()"
   ]
  },
  {
   "cell_type": "markdown",
   "id": "029bfd93",
   "metadata": {},
   "source": [
    "# Generating all"
   ]
  },
  {
   "cell_type": "code",
   "execution_count": null,
   "id": "f1669c9d",
   "metadata": {},
   "outputs": [],
   "source": [
    "from blokk_solver.blokks import get_blokks\n",
    "from blokk_solver.combinatorics import generate_rotations, generate_translations, generate_all_placements\n",
    "from blokk_solver.plotting import plot_voxels\n",
    "import plotly.graph_objects as go\n",
    "import numpy as np\n",
    "\n",
    "blokks = get_blokks()\n",
    "\n",
    "blokks['all_rotations'] = blokks['voxels'].apply(np.array).apply(generate_rotations).apply(np.array)  # a list of blokks\n",
    "blokks['n_rotations'] = blokks['all_rotations'].apply(lambda x: len(x))\n",
    "\n",
    "blokks['all_placements_3'] = blokks['voxels'].iloc[[12]].apply(generate_all_placements, n=3)\n"
   ]
  },
  {
   "cell_type": "code",
   "execution_count": null,
   "id": "1356c371",
   "metadata": {},
   "outputs": [],
   "source": [
    "plot_voxels(blokks.loc[12, \"voxels\"])"
   ]
  },
  {
   "cell_type": "code",
   "execution_count": null,
   "id": "e1610c15",
   "metadata": {},
   "outputs": [],
   "source": [
    "blokks['all_placements_3']"
   ]
  },
  {
   "cell_type": "code",
   "execution_count": null,
   "id": "2ca5ff78",
   "metadata": {},
   "outputs": [],
   "source": [
    "\n",
    "example_shape = blokks.loc[12, \"voxels\"]  # id=2\n",
    "example_n = 3\n",
    "fig = plot_voxels(voxels=example_shape, n=example_n, color=\"black\")\n",
    "fig.show()\n",
    "\n",
    "# there should be 54 unique placements of id=2 in a 3x3 game!\n",
    "# id=12, the L shaped one, introduces a problem in 3x3 but not 4x4 ---\n",
    "\n",
    "all_rotations = generate_rotations(voxels=example_shape)\n",
    "all_placements = generate_all_placements(voxels=example_shape, n=example_n)"
   ]
  },
  {
   "cell_type": "code",
   "execution_count": null,
   "id": "d088878e",
   "metadata": {},
   "outputs": [],
   "source": [
    "import plotly.graph_objects as go\n",
    "import plotly.colors\n",
    "palette = plotly.colors.qualitative.Plotly\n",
    "\n",
    "fig = go.Figure()\n",
    "for idx,p in enumerate(all_rotations[:6]):\n",
    "    plot_voxels(voxels=p, fig=fig, n=example_n, color=palette[idx], opacity=0.9)\n",
    "fig.show()\n"
   ]
  },
  {
   "cell_type": "code",
   "execution_count": null,
   "id": "d677900e",
   "metadata": {},
   "outputs": [],
   "source": [
    "(((4 * 4) * 3) * 3)"
   ]
  },
  {
   "cell_type": "markdown",
   "id": "23dc2a91",
   "metadata": {},
   "source": []
  }
 ],
 "metadata": {
  "kernelspec": {
   "display_name": "blokk-dev",
   "language": "python",
   "name": "blokk-dev"
  },
  "language_info": {
   "codemirror_mode": {
    "name": "ipython",
    "version": 3
   },
   "file_extension": ".py",
   "mimetype": "text/x-python",
   "name": "python",
   "nbconvert_exporter": "python",
   "pygments_lexer": "ipython3",
   "version": "3.13.2"
  }
 },
 "nbformat": 4,
 "nbformat_minor": 5
}
